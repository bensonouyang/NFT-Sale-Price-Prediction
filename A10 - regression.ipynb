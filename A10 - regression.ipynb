{
 "cells": [
  {
   "cell_type": "code",
   "execution_count": 1,
   "id": "a85ffc82",
   "metadata": {},
   "outputs": [],
   "source": [
    "import pandas as pd\n",
    "import numpy as np\n",
    "\n",
    "# Read data\n",
    "\n",
    "XYtr = pd.read_csv('data/XYtr.csv')"
   ]
  },
  {
   "cell_type": "code",
   "execution_count": 2,
   "id": "049afed2",
   "metadata": {},
   "outputs": [
    {
     "data": {
      "text/plain": [
       "Index(['id', 'X.sales', 'cdate', 'description', 'version', 'symbol', 'ext',\n",
       "       'fee1', 'fee2', 'total'],\n",
       "      dtype='object')"
      ]
     },
     "execution_count": 2,
     "metadata": {},
     "output_type": "execute_result"
    }
   ],
   "source": [
    "XYtr.columns"
   ]
  },
  {
   "cell_type": "code",
   "execution_count": 3,
   "id": "28c5f580",
   "metadata": {},
   "outputs": [
    {
     "data": {
      "text/plain": [
       "id              object\n",
       "X.sales          int64\n",
       "cdate           object\n",
       "description     object\n",
       "version         object\n",
       "symbol          object\n",
       "ext             object\n",
       "fee1           float64\n",
       "fee2           float64\n",
       "total          float64\n",
       "dtype: object"
      ]
     },
     "execution_count": 3,
     "metadata": {},
     "output_type": "execute_result"
    }
   ],
   "source": [
    "XYtr.dtypes"
   ]
  },
  {
   "cell_type": "code",
   "execution_count": 4,
   "id": "9ea22427",
   "metadata": {},
   "outputs": [
    {
     "data": {
      "text/plain": [
       "9.65815227873961"
      ]
     },
     "execution_count": 4,
     "metadata": {},
     "output_type": "execute_result"
    }
   ],
   "source": [
    "mu = np.mean(XYtr['total'])\n",
    "mu"
   ]
  },
  {
   "cell_type": "code",
   "execution_count": 5,
   "id": "f00818ab",
   "metadata": {},
   "outputs": [],
   "source": [
    "pred = pd.read_csv('data/pred.csv')"
   ]
  },
  {
   "cell_type": "code",
   "execution_count": 6,
   "id": "1fc42136",
   "metadata": {},
   "outputs": [
    {
     "data": {
      "text/plain": [
       "Index(['id', 'total'], dtype='object')"
      ]
     },
     "execution_count": 6,
     "metadata": {},
     "output_type": "execute_result"
    }
   ],
   "source": [
    "pred.columns"
   ]
  },
  {
   "cell_type": "code",
   "execution_count": 7,
   "id": "1f8b706e",
   "metadata": {},
   "outputs": [],
   "source": [
    "# Predict mean\n",
    "\n",
    "pred0 = pred.copy()"
   ]
  },
  {
   "cell_type": "code",
   "execution_count": 8,
   "id": "d769c5a6",
   "metadata": {},
   "outputs": [],
   "source": [
    "pred0['total'] = mu"
   ]
  },
  {
   "cell_type": "code",
   "execution_count": 9,
   "id": "127e4b46",
   "metadata": {},
   "outputs": [],
   "source": [
    "pred0.to_csv('data/pred0.csv', index = False)"
   ]
  },
  {
   "cell_type": "code",
   "execution_count": 10,
   "id": "c701c887",
   "metadata": {},
   "outputs": [],
   "source": [
    "# Convert date to numeric, extract numeric columns\n",
    "\n",
    "cdate = XYtr['cdate']"
   ]
  },
  {
   "cell_type": "code",
   "execution_count": 11,
   "id": "f2ab4f04",
   "metadata": {},
   "outputs": [
    {
     "data": {
      "text/plain": [
       "0       2019-04-26\n",
       "1       2020-10-26\n",
       "2       2019-04-26\n",
       "3       2019-04-26\n",
       "4       2019-04-26\n",
       "           ...    \n",
       "6909    2020-11-27\n",
       "6910    2019-04-26\n",
       "6911    2019-05-08\n",
       "6912    2021-06-12\n",
       "6913    2020-10-09\n",
       "Name: cdate, Length: 6914, dtype: object"
      ]
     },
     "execution_count": 11,
     "metadata": {},
     "output_type": "execute_result"
    }
   ],
   "source": [
    "cdate"
   ]
  },
  {
   "cell_type": "code",
   "execution_count": 12,
   "id": "f9a2ef03",
   "metadata": {},
   "outputs": [],
   "source": [
    "XYtr1 = XYtr.copy() # from stackoverflow\n",
    "XYtr1['cdate'] = pd.to_datetime(cdate).values.astype(np.float64)/8.64e+13"
   ]
  },
  {
   "cell_type": "code",
   "execution_count": 13,
   "id": "ffc657c2",
   "metadata": {},
   "outputs": [],
   "source": [
    "Ytr1 = XYtr1['total'].copy()\n",
    "Xtr1 = XYtr1[['X.sales', 'cdate', 'fee1', 'fee2']].copy()"
   ]
  },
  {
   "cell_type": "code",
   "execution_count": 14,
   "id": "d8f877f3",
   "metadata": {},
   "outputs": [
    {
     "name": "stdout",
     "output_type": "stream",
     "text": [
      "0.055\n",
      "0.055\n",
      "0.0\n",
      "0.055\n"
     ]
    }
   ],
   "source": [
    "print(Ytr1[0])\n",
    "print(XYtr1.iloc[0, -1])\n",
    "Ytr1[0] = 0\n",
    "print(Ytr1[0])\n",
    "print(XYtr1.iloc[0, -1])"
   ]
  },
  {
   "cell_type": "code",
   "execution_count": 16,
   "id": "de158721",
   "metadata": {},
   "outputs": [
    {
     "data": {
      "text/plain": [
       "X.sales      int64\n",
       "cdate      float64\n",
       "fee1       float64\n",
       "fee2       float64\n",
       "dtype: object"
      ]
     },
     "execution_count": 16,
     "metadata": {},
     "output_type": "execute_result"
    }
   ],
   "source": [
    "Xtr1.dtypes"
   ]
  },
  {
   "cell_type": "code",
   "execution_count": 17,
   "id": "336e7f5b",
   "metadata": {},
   "outputs": [],
   "source": [
    "Xtr1 = Xtr1.astype(np.float64)"
   ]
  },
  {
   "cell_type": "code",
   "execution_count": 18,
   "id": "4765012d",
   "metadata": {},
   "outputs": [
    {
     "data": {
      "text/plain": [
       "X.sales    float64\n",
       "cdate      float64\n",
       "fee1       float64\n",
       "fee2       float64\n",
       "dtype: object"
      ]
     },
     "execution_count": 18,
     "metadata": {},
     "output_type": "execute_result"
    }
   ],
   "source": [
    "Xtr1.dtypes"
   ]
  },
  {
   "cell_type": "code",
   "execution_count": 19,
   "id": "f48797a7",
   "metadata": {},
   "outputs": [],
   "source": [
    "Xtr1 = Xtr1.fillna(0)"
   ]
  },
  {
   "cell_type": "code",
   "execution_count": 20,
   "id": "22e0a128",
   "metadata": {},
   "outputs": [],
   "source": [
    "# Linear regression\n",
    "\n",
    "from sklearn.linear_model import LinearRegression\n",
    "\n",
    "model = LinearRegression().fit(Xtr1, Ytr1)"
   ]
  },
  {
   "cell_type": "code",
   "execution_count": null,
   "id": "ca0891f9",
   "metadata": {},
   "outputs": [],
   "source": []
  },
  {
   "cell_type": "code",
   "execution_count": 21,
   "id": "0118be20",
   "metadata": {},
   "outputs": [],
   "source": [
    "model1 = LinearRegression().fit(Xtr1, Ytr1)"
   ]
  },
  {
   "cell_type": "code",
   "execution_count": 22,
   "id": "098aba06",
   "metadata": {},
   "outputs": [],
   "source": [
    "Xte = pd.read_csv('data/Xte.csv')"
   ]
  },
  {
   "cell_type": "code",
   "execution_count": 23,
   "id": "e6bba7e6",
   "metadata": {},
   "outputs": [],
   "source": [
    "Xte1 = Xte.copy()\n",
    "Xte1['cdate'] = pd.to_datetime(Xte1['cdate']).values.astype(np.float64)/8.64e+13"
   ]
  },
  {
   "cell_type": "code",
   "execution_count": 24,
   "id": "4ba79c86",
   "metadata": {},
   "outputs": [],
   "source": [
    "Xte1 = Xte1[['X.sales', 'cdate', 'fee1', 'fee2']].copy()"
   ]
  },
  {
   "cell_type": "code",
   "execution_count": 25,
   "id": "08fceb44",
   "metadata": {},
   "outputs": [
    {
     "data": {
      "text/plain": [
       "X.sales      int64\n",
       "cdate      float64\n",
       "fee1       float64\n",
       "fee2       float64\n",
       "dtype: object"
      ]
     },
     "execution_count": 25,
     "metadata": {},
     "output_type": "execute_result"
    }
   ],
   "source": [
    "Xte1.dtypes"
   ]
  },
  {
   "cell_type": "code",
   "execution_count": 26,
   "id": "c1f1b051",
   "metadata": {},
   "outputs": [],
   "source": [
    "Xte1 = Xte1.astype(np.float64)"
   ]
  },
  {
   "cell_type": "code",
   "execution_count": 27,
   "id": "0bc544e3",
   "metadata": {},
   "outputs": [],
   "source": [
    "Xte1 = Xte1.fillna(0)"
   ]
  },
  {
   "cell_type": "code",
   "execution_count": 28,
   "id": "5a272e3d",
   "metadata": {},
   "outputs": [],
   "source": [
    "pred1 = pred0.copy()\n",
    "pred1['total'] = model1.predict(Xte1)"
   ]
  },
  {
   "cell_type": "code",
   "execution_count": 29,
   "id": "7be0a8cd",
   "metadata": {},
   "outputs": [],
   "source": [
    "pred1.to_csv('data/pred1.csv', index = False)"
   ]
  },
  {
   "cell_type": "code",
   "execution_count": 30,
   "id": "dd9f0c67",
   "metadata": {},
   "outputs": [],
   "source": [
    "mu2 = np.median(XYtr['total'])"
   ]
  },
  {
   "cell_type": "code",
   "execution_count": 31,
   "id": "91c689d4",
   "metadata": {},
   "outputs": [],
   "source": [
    "pred2 = pred0.copy()\n",
    "pred2['total'] = mu2\n",
    "pred2.to_csv('data/pred2.csv', index = False)"
   ]
  },
  {
   "cell_type": "code",
   "execution_count": 32,
   "id": "96955f1f",
   "metadata": {},
   "outputs": [],
   "source": [
    "from sklearn.preprocessing import StandardScaler\n",
    "scaler = StandardScaler()\n",
    "Xtr3 = scaler.fit_transform(Xtr1)\n",
    "Xte3 = scaler.transform(Xte1)"
   ]
  },
  {
   "cell_type": "code",
   "execution_count": 33,
   "id": "207ec535",
   "metadata": {},
   "outputs": [],
   "source": [
    "from sklearn.preprocessing import StandardScaler\n",
    "scaler = StandardScaler()\n",
    "\n",
    "from sklearn.linear_model import SGDRegressor\n",
    "\n",
    "model3 = SGDRegressor(loss = 'epsilon_insensitive', alpha = 0, epsilon = 0).fit(Xtr3, Ytr1)"
   ]
  },
  {
   "cell_type": "code",
   "execution_count": 34,
   "id": "fdb33e48",
   "metadata": {},
   "outputs": [],
   "source": [
    "pred3 = pred0.copy()\n",
    "pred3['total'] = model3.predict(Xte3)\n",
    "pred3.to_csv('data/pred3.csv', index = False)"
   ]
  },
  {
   "cell_type": "code",
   "execution_count": 35,
   "id": "3a90453b",
   "metadata": {},
   "outputs": [
    {
     "data": {
      "text/plain": [
       "5.842400134214882e-16"
      ]
     },
     "execution_count": 35,
     "metadata": {},
     "output_type": "execute_result"
    }
   ],
   "source": [
    "np.mean(Xtr3[:,1])"
   ]
  },
  {
   "cell_type": "code",
   "execution_count": 36,
   "id": "cb3782f1",
   "metadata": {},
   "outputs": [
    {
     "ename": "NameError",
     "evalue": "name 'X' is not defined",
     "output_type": "error",
     "traceback": [
      "\u001b[1;31m---------------------------------------------------------------------------\u001b[0m",
      "\u001b[1;31mNameError\u001b[0m                                 Traceback (most recent call last)",
      "\u001b[1;32m<ipython-input-36-b5fec669aca1>\u001b[0m in \u001b[0;36m<module>\u001b[1;34m\u001b[0m\n\u001b[1;32m----> 1\u001b[1;33m \u001b[0mX\u001b[0m\u001b[1;33m\u001b[0m\u001b[1;33m\u001b[0m\u001b[0m\n\u001b[0m",
      "\u001b[1;31mNameError\u001b[0m: name 'X' is not defined"
     ]
    }
   ],
   "source": []
  },
  {
   "cell_type": "code",
   "execution_count": null,
   "id": "6530c869",
   "metadata": {},
   "outputs": [],
   "source": []
  },
  {
   "cell_type": "code",
   "execution_count": null,
   "id": "c5a5d7d6",
   "metadata": {},
   "outputs": [],
   "source": []
  },
  {
   "cell_type": "code",
   "execution_count": null,
   "id": "7910673b",
   "metadata": {},
   "outputs": [],
   "source": []
  }
 ],
 "metadata": {
  "kernelspec": {
   "display_name": "Python 3 (ipykernel)",
   "language": "python",
   "name": "python3"
  },
  "language_info": {
   "codemirror_mode": {
    "name": "ipython",
    "version": 3
   },
   "file_extension": ".py",
   "mimetype": "text/x-python",
   "name": "python",
   "nbconvert_exporter": "python",
   "pygments_lexer": "ipython3",
   "version": "3.9.7"
  }
 },
 "nbformat": 4,
 "nbformat_minor": 5
}
