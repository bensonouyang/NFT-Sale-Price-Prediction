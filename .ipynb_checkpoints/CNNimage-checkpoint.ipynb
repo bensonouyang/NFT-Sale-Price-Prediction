{
 "cells": [
  {
   "cell_type": "code",
   "execution_count": 1,
   "id": "3cb814e4-57ca-4ab4-99e9-9d36a8546d45",
   "metadata": {},
   "outputs": [],
   "source": [
    "import tensorflow as tf\n",
    "import pandas as pd\n",
    "import numpy as np\n",
    "import imageio\n",
    "import os\n",
    "from PIL import Image"
   ]
  },
  {
   "cell_type": "code",
   "execution_count": 3,
   "id": "e0c3ae9c-c4c7-47b3-8ded-f0e480e5a2c0",
   "metadata": {},
   "outputs": [],
   "source": [
    "tr = pd.read_csv('data/XYtr.csv')\n",
    "te = pd.read_csv('data/Xte.csv')"
   ]
  },
  {
   "cell_type": "code",
   "execution_count": 4,
   "id": "7eca2507-fdf3-49cf-9e37-731bb532b60a",
   "metadata": {},
   "outputs": [],
   "source": [
    "fashion_mnist = tf.keras.datasets.fashion_mnist\n",
    "\n",
    "(train_images, train_labels),(test_images, test_labels) = fashion_mnist.load_data()"
   ]
  },
  {
   "cell_type": "code",
   "execution_count": 5,
   "id": "e402a009-edad-44ef-9984-2f1756658d10",
   "metadata": {},
   "outputs": [
    {
     "data": {
      "text/plain": [
       "(60000, 28, 28)"
      ]
     },
     "execution_count": 5,
     "metadata": {},
     "output_type": "execute_result"
    }
   ],
   "source": [
    "train_images.shape"
   ]
  },
  {
   "cell_type": "code",
   "execution_count": 6,
   "id": "6d5985b8-9ad0-4559-978b-218f3e417ba2",
   "metadata": {},
   "outputs": [
    {
     "data": {
      "text/plain": [
       "numpy.ndarray"
      ]
     },
     "execution_count": 6,
     "metadata": {},
     "output_type": "execute_result"
    }
   ],
   "source": [
    "type(train_images)"
   ]
  },
  {
   "cell_type": "code",
   "execution_count": 7,
   "id": "b7a9c7a6-d3c1-4351-bab7-f2f65a80c762",
   "metadata": {},
   "outputs": [],
   "source": [
    "zz = np.zeros([tr.shape[0],28,28])\n",
    "yy = pd.qcut(tr['total'], 10, labels = range(10))"
   ]
  },
  {
   "cell_type": "code",
   "execution_count": 8,
   "id": "0abaa8cb-83d5-4af8-9790-09079bbc7da7",
   "metadata": {},
   "outputs": [
    {
     "name": "stdout",
     "output_type": "stream",
     "text": [
      "0 / 6914\n",
      "100 / 6914\n",
      "200 / 6914\n",
      "300 / 6914\n",
      "400 / 6914\n",
      "500 / 6914\n",
      "600 / 6914\n",
      "700 / 6914\n",
      "800 / 6914\n",
      "900 / 6914\n",
      "1000 / 6914\n",
      "1100 / 6914\n",
      "1200 / 6914\n",
      "1300 / 6914\n",
      "1400 / 6914\n",
      "1500 / 6914\n",
      "1600 / 6914\n",
      "1700 / 6914\n",
      "1800 / 6914\n",
      "1900 / 6914\n",
      "2000 / 6914\n",
      "2100 / 6914\n",
      "2200 / 6914\n",
      "2300 / 6914\n",
      "2400 / 6914\n",
      "2500 / 6914\n",
      "2600 / 6914\n",
      "2700 / 6914\n",
      "2800 / 6914\n",
      "2900 / 6914\n",
      "3000 / 6914\n",
      "3100 / 6914\n",
      "3200 / 6914\n",
      "3300 / 6914\n",
      "3400 / 6914\n",
      "3500 / 6914\n",
      "3600 / 6914\n",
      "3700 / 6914\n",
      "3800 / 6914\n",
      "3900 / 6914\n",
      "4000 / 6914\n",
      "4100 / 6914\n",
      "4200 / 6914\n",
      "4300 / 6914\n",
      "4400 / 6914\n",
      "4500 / 6914\n",
      "4600 / 6914\n",
      "4700 / 6914\n",
      "4800 / 6914\n",
      "4900 / 6914\n",
      "5000 / 6914\n",
      "5100 / 6914\n",
      "5200 / 6914\n",
      "5300 / 6914\n",
      "5400 / 6914\n",
      "5500 / 6914\n",
      "5600 / 6914\n",
      "5700 / 6914\n",
      "5800 / 6914\n",
      "5900 / 6914\n",
      "6000 / 6914\n",
      "6100 / 6914\n",
      "6200 / 6914\n",
      "6300 / 6914\n",
      "6400 / 6914\n",
      "6500 / 6914\n",
      "6600 / 6914\n",
      "6700 / 6914\n",
      "6800 / 6914\n",
      "6900 / 6914\n"
     ]
    }
   ],
   "source": [
    "found = list()\n",
    "for ii in range(tr.shape[0]):\n",
    "    if ii % 100 == 0:\n",
    "        print('%d / %d' % (ii, tr.shape[0]))\n",
    "    if tr['ext'][ii] == '.png':\n",
    "        id = tr.loc[ii,'id']\n",
    "        ff = tr.loc[ii, 'id'] + tr.loc[ii, 'ext']\n",
    "        path = 'data/images/images/' + ff\n",
    "        if not os.path.isfile(path):\n",
    "            continue\n",
    "        \n",
    "        pic = imageio.imread(path)\n",
    "        pic = Image.fromarray(pic).resize((28,28))\n",
    "        \n",
    "        try:\n",
    "            pic = np.mean(pic,axis = 2)\n",
    "        except:\n",
    "            pic = np.array(pic)\n",
    "        \n",
    "        found.append(ii)\n",
    "        # print(pic.shape)\n",
    "        zz[ii,:,:] = pic"
   ]
  },
  {
   "cell_type": "code",
   "execution_count": 9,
   "id": "0b730d39-2837-4b2b-9d9f-abdffc8b2037",
   "metadata": {},
   "outputs": [],
   "source": [
    "zz = zz/255"
   ]
  },
  {
   "cell_type": "code",
   "execution_count": 10,
   "id": "b3aa47eb-f721-4a66-9bee-c1dd7ada27fd",
   "metadata": {},
   "outputs": [
    {
     "name": "stdout",
     "output_type": "stream",
     "text": [
      "0 / 6914\n",
      "100 / 6914\n",
      "200 / 6914\n",
      "300 / 6914\n",
      "400 / 6914\n",
      "500 / 6914\n",
      "600 / 6914\n",
      "700 / 6914\n",
      "800 / 6914\n",
      "900 / 6914\n",
      "1000 / 6914\n",
      "1100 / 6914\n",
      "1200 / 6914\n",
      "1300 / 6914\n",
      "1400 / 6914\n",
      "1500 / 6914\n",
      "1600 / 6914\n",
      "1700 / 6914\n",
      "1800 / 6914\n",
      "1900 / 6914\n",
      "2000 / 6914\n",
      "2100 / 6914\n",
      "2200 / 6914\n",
      "2300 / 6914\n",
      "2400 / 6914\n",
      "2500 / 6914\n",
      "2600 / 6914\n",
      "2700 / 6914\n",
      "2800 / 6914\n",
      "2900 / 6914\n",
      "3000 / 6914\n",
      "3100 / 6914\n",
      "3200 / 6914\n",
      "3300 / 6914\n",
      "3400 / 6914\n",
      "3500 / 6914\n",
      "3600 / 6914\n",
      "3700 / 6914\n",
      "3800 / 6914\n",
      "3900 / 6914\n",
      "4000 / 6914\n",
      "4100 / 6914\n",
      "4200 / 6914\n",
      "4300 / 6914\n",
      "4400 / 6914\n",
      "4500 / 6914\n",
      "4600 / 6914\n",
      "4700 / 6914\n",
      "4800 / 6914\n",
      "4900 / 6914\n",
      "5000 / 6914\n",
      "5100 / 6914\n",
      "5200 / 6914\n",
      "5300 / 6914\n",
      "5400 / 6914\n",
      "5500 / 6914\n",
      "5600 / 6914\n",
      "5700 / 6914\n",
      "5800 / 6914\n",
      "5900 / 6914\n",
      "6000 / 6914\n",
      "6100 / 6914\n",
      "6200 / 6914\n",
      "6300 / 6914\n",
      "6400 / 6914\n",
      "6500 / 6914\n",
      "6600 / 6914\n",
      "6700 / 6914\n",
      "6800 / 6914\n",
      "6900 / 6914\n"
     ]
    }
   ],
   "source": [
    "zzte = np.zeros([tr.shape[0],28,28])\n",
    "found = list()\n",
    "for ii in range(te.shape[0]):\n",
    "    if ii % 100 == 0:\n",
    "        print('%d / %d' % (ii, te.shape[0]))\n",
    "    if te['ext'][ii] == '.png':\n",
    "        id = te.loc[ii,'id']\n",
    "        ff = te.loc[ii, 'id'] + te.loc[ii, 'ext']\n",
    "        path = 'data/images/images/' + ff\n",
    "        if not os.path.isfile(path):\n",
    "            continue\n",
    "        \n",
    "        pic = imageio.imread(path)\n",
    "        pic = Image.fromarray(pic).resize((28,28))\n",
    "        \n",
    "        try:\n",
    "            pic = np.mean(pic,axis = 2)\n",
    "        except:\n",
    "            pic = np.array(pic)\n",
    "        \n",
    "        found.append(ii)\n",
    "        # print(pic.shape)\n",
    "        zzte[ii,:,:] = pic"
   ]
  },
  {
   "cell_type": "code",
   "execution_count": 11,
   "id": "2d7e595c-bc40-4b00-82f9-a5117ae512e4",
   "metadata": {},
   "outputs": [],
   "source": [
    "zzte = zzte/255"
   ]
  },
  {
   "cell_type": "code",
   "execution_count": 12,
   "id": "bb807b69-6dee-45cb-80f8-347e3c1c8acd",
   "metadata": {},
   "outputs": [],
   "source": [
    "model = tf.keras.Sequential([\n",
    "    tf.keras.layers.Flatten(input_shape = (28,28)),\n",
    "    tf.keras.layers.Dense(128, activation = 'relu'),\n",
    "    tf.keras.layers.Dense(10)\n",
    "])"
   ]
  },
  {
   "cell_type": "code",
   "execution_count": 13,
   "id": "aad1253e-fbac-4bdc-8f9b-141dac0c44c4",
   "metadata": {},
   "outputs": [],
   "source": [
    "model.compile(optimizer = 'adam', loss= tf.keras.losses.SparseCategoricalCrossentropy(from_logits=True),\n",
    "              metrics = ['accuracy'])"
   ]
  },
  {
   "cell_type": "code",
   "execution_count": 14,
   "id": "fed753b0-2a6b-4267-ba41-20cdfc4c2265",
   "metadata": {},
   "outputs": [
    {
     "name": "stdout",
     "output_type": "stream",
     "text": [
      "Epoch 1/10\n",
      "217/217 [==============================] - 0s 697us/step - loss: 2.3183 - accuracy: 0.1091\n",
      "Epoch 2/10\n",
      "217/217 [==============================] - 0s 681us/step - loss: 2.2764 - accuracy: 0.1292\n",
      "Epoch 3/10\n",
      "217/217 [==============================] - 0s 692us/step - loss: 2.2651 - accuracy: 0.1339\n",
      "Epoch 4/10\n",
      "217/217 [==============================] - 0s 752us/step - loss: 2.2538 - accuracy: 0.1462\n",
      "Epoch 5/10\n",
      "217/217 [==============================] - 0s 725us/step - loss: 2.2428 - accuracy: 0.1496\n",
      "Epoch 6/10\n",
      "217/217 [==============================] - 0s 685us/step - loss: 2.2329 - accuracy: 0.1535\n",
      "Epoch 7/10\n",
      "217/217 [==============================] - 0s 706us/step - loss: 2.2247 - accuracy: 0.1575\n",
      "Epoch 8/10\n",
      "217/217 [==============================] - 0s 683us/step - loss: 2.2209 - accuracy: 0.1552\n",
      "Epoch 9/10\n",
      "217/217 [==============================] - 0s 792us/step - loss: 2.2086 - accuracy: 0.16210s - loss: 2.2086 - accuracy: 0.\n",
      "Epoch 10/10\n",
      "217/217 [==============================] - 0s 720us/step - loss: 2.1992 - accuracy: 0.1633\n"
     ]
    },
    {
     "data": {
      "text/plain": [
       "<keras.callbacks.History at 0x1d30be2a1f0>"
      ]
     },
     "execution_count": 14,
     "metadata": {},
     "output_type": "execute_result"
    }
   ],
   "source": [
    "model.fit(zz, yy, epochs = 10)"
   ]
  },
  {
   "cell_type": "code",
   "execution_count": 15,
   "id": "94fd2297-7d2e-4f47-9056-309632300156",
   "metadata": {},
   "outputs": [],
   "source": [
    "probability_model = tf.keras.Sequential([model, tf.keras.layers.Softmax()])\n",
    "pred = pd.read_csv('data/pred.csv')\n",
    "predrf = pred.copy()\n",
    "predrf['total'] = probability_model.predict(zzte)\n",
    "#predrf.to_csv('data/pred_image_dnn.csv', index = False)"
   ]
  },
  {
   "cell_type": "code",
   "execution_count": 16,
   "id": "9fe65ed2-38c8-4f12-a8e0-5084f2ed0642",
   "metadata": {},
   "outputs": [
    {
     "data": {
      "text/html": [
       "<div>\n",
       "<style scoped>\n",
       "    .dataframe tbody tr th:only-of-type {\n",
       "        vertical-align: middle;\n",
       "    }\n",
       "\n",
       "    .dataframe tbody tr th {\n",
       "        vertical-align: top;\n",
       "    }\n",
       "\n",
       "    .dataframe thead th {\n",
       "        text-align: right;\n",
       "    }\n",
       "</style>\n",
       "<table border=\"1\" class=\"dataframe\">\n",
       "  <thead>\n",
       "    <tr style=\"text-align: right;\">\n",
       "      <th></th>\n",
       "      <th>id</th>\n",
       "      <th>total</th>\n",
       "    </tr>\n",
       "  </thead>\n",
       "  <tbody>\n",
       "    <tr>\n",
       "      <th>0</th>\n",
       "      <td>7e79f1a9cb10504dd2fc569d84f2a346</td>\n",
       "      <td>0.034687</td>\n",
       "    </tr>\n",
       "    <tr>\n",
       "      <th>1</th>\n",
       "      <td>4a2f52a31466509462042dacd3d66de7</td>\n",
       "      <td>0.072877</td>\n",
       "    </tr>\n",
       "    <tr>\n",
       "      <th>2</th>\n",
       "      <td>f22f6ec19360a7bcc7e0f6c76912c88b</td>\n",
       "      <td>0.110326</td>\n",
       "    </tr>\n",
       "    <tr>\n",
       "      <th>3</th>\n",
       "      <td>6382e9933644b1751511264ec8194ef5</td>\n",
       "      <td>0.110326</td>\n",
       "    </tr>\n",
       "    <tr>\n",
       "      <th>4</th>\n",
       "      <td>638c2f2961777b10009d7fdebae561bc</td>\n",
       "      <td>0.053647</td>\n",
       "    </tr>\n",
       "    <tr>\n",
       "      <th>...</th>\n",
       "      <td>...</td>\n",
       "      <td>...</td>\n",
       "    </tr>\n",
       "    <tr>\n",
       "      <th>6909</th>\n",
       "      <td>62eb6ce056e943070967d8835a204551</td>\n",
       "      <td>0.049877</td>\n",
       "    </tr>\n",
       "    <tr>\n",
       "      <th>6910</th>\n",
       "      <td>6a5a9ef25ea4889cef2b14a272ba958c</td>\n",
       "      <td>0.739914</td>\n",
       "    </tr>\n",
       "    <tr>\n",
       "      <th>6911</th>\n",
       "      <td>6c8edfdb7aec834d73e4b8d36ec0736d</td>\n",
       "      <td>0.110326</td>\n",
       "    </tr>\n",
       "    <tr>\n",
       "      <th>6912</th>\n",
       "      <td>c4618bb91765903dad4451933ee396ea</td>\n",
       "      <td>0.054483</td>\n",
       "    </tr>\n",
       "    <tr>\n",
       "      <th>6913</th>\n",
       "      <td>3b665129694904b2024dc7cd8230babe</td>\n",
       "      <td>0.110326</td>\n",
       "    </tr>\n",
       "  </tbody>\n",
       "</table>\n",
       "<p>6914 rows × 2 columns</p>\n",
       "</div>"
      ],
      "text/plain": [
       "                                    id     total\n",
       "0     7e79f1a9cb10504dd2fc569d84f2a346  0.034687\n",
       "1     4a2f52a31466509462042dacd3d66de7  0.072877\n",
       "2     f22f6ec19360a7bcc7e0f6c76912c88b  0.110326\n",
       "3     6382e9933644b1751511264ec8194ef5  0.110326\n",
       "4     638c2f2961777b10009d7fdebae561bc  0.053647\n",
       "...                                ...       ...\n",
       "6909  62eb6ce056e943070967d8835a204551  0.049877\n",
       "6910  6a5a9ef25ea4889cef2b14a272ba958c  0.739914\n",
       "6911  6c8edfdb7aec834d73e4b8d36ec0736d  0.110326\n",
       "6912  c4618bb91765903dad4451933ee396ea  0.054483\n",
       "6913  3b665129694904b2024dc7cd8230babe  0.110326\n",
       "\n",
       "[6914 rows x 2 columns]"
      ]
     },
     "execution_count": 16,
     "metadata": {},
     "output_type": "execute_result"
    }
   ],
   "source": [
    "predrf"
   ]
  },
  {
   "cell_type": "code",
   "execution_count": 18,
   "id": "323d6566-2eba-4c55-9673-59277aee9a52",
   "metadata": {},
   "outputs": [],
   "source": [
    "result = np.argmax(probability_model.predict(zzte), axis = 1)"
   ]
  },
  {
   "cell_type": "code",
   "execution_count": 19,
   "id": "0af6b34a-efbe-425f-b95d-5b98e9009c75",
   "metadata": {},
   "outputs": [
    {
     "data": {
      "text/plain": [
       "array([5, 5, 5, 9, 3, 5, 9, 5, 5], dtype=int64)"
      ]
     },
     "execution_count": 19,
     "metadata": {},
     "output_type": "execute_result"
    }
   ],
   "source": [
    "result[1:10]"
   ]
  },
  {
   "cell_type": "code",
   "execution_count": 20,
   "id": "5b18913e-878b-4c5d-bdc9-4c4635724d16",
   "metadata": {},
   "outputs": [],
   "source": [
    "qq = np.quantile(tr['total'], q = np.array(range(1,11))/11)\n"
   ]
  },
  {
   "cell_type": "code",
   "execution_count": 21,
   "id": "47df38af-a71b-4727-8a46-66e43a0fa5d2",
   "metadata": {},
   "outputs": [],
   "source": [
    "result2 = qq[result]"
   ]
  },
  {
   "cell_type": "code",
   "execution_count": 22,
   "id": "c10f0c8b-5c24-4cf0-bdf8-f0abfa0eaace",
   "metadata": {},
   "outputs": [],
   "source": [
    "result3 = result2"
   ]
  },
  {
   "cell_type": "code",
   "execution_count": 27,
   "id": "6bc58efe-f2f6-4e49-bc1a-be80cb3a4bfd",
   "metadata": {},
   "outputs": [
    {
     "data": {
      "text/plain": [
       "array([0.03007238, 0.12      , 0.15      , ..., 0.15      , 0.12      ,\n",
       "       0.12      ])"
      ]
     },
     "execution_count": 27,
     "metadata": {},
     "output_type": "execute_result"
    }
   ],
   "source": [
    "result2"
   ]
  },
  {
   "cell_type": "code",
   "execution_count": 23,
   "id": "9f2efb2f-2872-4c67-93a2-5cf3d251e78c",
   "metadata": {},
   "outputs": [],
   "source": [
    "result3[~np.array(found)] = np.median(tr['total'])"
   ]
  },
  {
   "cell_type": "code",
   "execution_count": 24,
   "id": "751b9635-8be9-452b-96ca-9011fc9de5ad",
   "metadata": {},
   "outputs": [],
   "source": [
    "pred100 = pd.read_csv('data/pred.csv')"
   ]
  },
  {
   "cell_type": "code",
   "execution_count": 25,
   "id": "07c938ba-7ce0-4fc5-8e40-2a08d5e85d09",
   "metadata": {},
   "outputs": [],
   "source": [
    "pred100['total'] = result3\n",
    "pred100.to_csv('data/pred100.csv', index = False)"
   ]
  },
  {
   "cell_type": "code",
   "execution_count": 26,
   "id": "b6d345b5-7074-4bdf-9e14-ee0f6d087c16",
   "metadata": {},
   "outputs": [
    {
     "data": {
      "text/html": [
       "<div>\n",
       "<style scoped>\n",
       "    .dataframe tbody tr th:only-of-type {\n",
       "        vertical-align: middle;\n",
       "    }\n",
       "\n",
       "    .dataframe tbody tr th {\n",
       "        vertical-align: top;\n",
       "    }\n",
       "\n",
       "    .dataframe thead th {\n",
       "        text-align: right;\n",
       "    }\n",
       "</style>\n",
       "<table border=\"1\" class=\"dataframe\">\n",
       "  <thead>\n",
       "    <tr style=\"text-align: right;\">\n",
       "      <th></th>\n",
       "      <th>id</th>\n",
       "      <th>total</th>\n",
       "    </tr>\n",
       "  </thead>\n",
       "  <tbody>\n",
       "    <tr>\n",
       "      <th>0</th>\n",
       "      <td>7e79f1a9cb10504dd2fc569d84f2a346</td>\n",
       "      <td>0.030072</td>\n",
       "    </tr>\n",
       "    <tr>\n",
       "      <th>1</th>\n",
       "      <td>4a2f52a31466509462042dacd3d66de7</td>\n",
       "      <td>0.120000</td>\n",
       "    </tr>\n",
       "    <tr>\n",
       "      <th>2</th>\n",
       "      <td>f22f6ec19360a7bcc7e0f6c76912c88b</td>\n",
       "      <td>0.150000</td>\n",
       "    </tr>\n",
       "    <tr>\n",
       "      <th>3</th>\n",
       "      <td>6382e9933644b1751511264ec8194ef5</td>\n",
       "      <td>0.120000</td>\n",
       "    </tr>\n",
       "    <tr>\n",
       "      <th>4</th>\n",
       "      <td>638c2f2961777b10009d7fdebae561bc</td>\n",
       "      <td>0.120000</td>\n",
       "    </tr>\n",
       "    <tr>\n",
       "      <th>...</th>\n",
       "      <td>...</td>\n",
       "      <td>...</td>\n",
       "    </tr>\n",
       "    <tr>\n",
       "      <th>6909</th>\n",
       "      <td>62eb6ce056e943070967d8835a204551</td>\n",
       "      <td>0.120000</td>\n",
       "    </tr>\n",
       "    <tr>\n",
       "      <th>6910</th>\n",
       "      <td>6a5a9ef25ea4889cef2b14a272ba958c</td>\n",
       "      <td>0.007000</td>\n",
       "    </tr>\n",
       "    <tr>\n",
       "      <th>6911</th>\n",
       "      <td>6c8edfdb7aec834d73e4b8d36ec0736d</td>\n",
       "      <td>0.150000</td>\n",
       "    </tr>\n",
       "    <tr>\n",
       "      <th>6912</th>\n",
       "      <td>c4618bb91765903dad4451933ee396ea</td>\n",
       "      <td>0.120000</td>\n",
       "    </tr>\n",
       "    <tr>\n",
       "      <th>6913</th>\n",
       "      <td>3b665129694904b2024dc7cd8230babe</td>\n",
       "      <td>0.120000</td>\n",
       "    </tr>\n",
       "  </tbody>\n",
       "</table>\n",
       "<p>6914 rows × 2 columns</p>\n",
       "</div>"
      ],
      "text/plain": [
       "                                    id     total\n",
       "0     7e79f1a9cb10504dd2fc569d84f2a346  0.030072\n",
       "1     4a2f52a31466509462042dacd3d66de7  0.120000\n",
       "2     f22f6ec19360a7bcc7e0f6c76912c88b  0.150000\n",
       "3     6382e9933644b1751511264ec8194ef5  0.120000\n",
       "4     638c2f2961777b10009d7fdebae561bc  0.120000\n",
       "...                                ...       ...\n",
       "6909  62eb6ce056e943070967d8835a204551  0.120000\n",
       "6910  6a5a9ef25ea4889cef2b14a272ba958c  0.007000\n",
       "6911  6c8edfdb7aec834d73e4b8d36ec0736d  0.150000\n",
       "6912  c4618bb91765903dad4451933ee396ea  0.120000\n",
       "6913  3b665129694904b2024dc7cd8230babe  0.120000\n",
       "\n",
       "[6914 rows x 2 columns]"
      ]
     },
     "execution_count": 26,
     "metadata": {},
     "output_type": "execute_result"
    }
   ],
   "source": [
    "pred100"
   ]
  },
  {
   "cell_type": "code",
   "execution_count": null,
   "id": "8f23db5f-566b-4980-ae45-9563dbfc95e3",
   "metadata": {},
   "outputs": [],
   "source": [
    "def create_cnn(width = 28, height = 28, regress = False):\n",
    "    inputShape = (height,width)\n",
    "    model = tf.keras.Sequential()\n",
    "    model.add(tf.keras.layers.Conv2D(filters = 64,kernel_size = 7 ,activation = 'relu',input_shape = (28,28,1),padding = \"same\"))\n",
    "    model.add(tf.keras.layers.MaxPooling2D(pool_size = 2))\n",
    "    model.add(tf.keras.layers.Conv2D(filters = 128,kernel_size = 3 ,activation = 'relu',padding = \"same\"))\n",
    "    model.add(tf.keras.layers.MaxPooling2D(pool_size = 2))\n",
    "    model.add(tf.keras.layers.Conv2D(filters = 256,kernel_size = 3 ,activation = 'relu',padding = \"same\"))\n",
    "    model.add(tf.keras.layers.MaxPooling2D(pool_size = 2))\n",
    "    model.add(tf.keras.layers.Flatten())\n",
    "    model.add(tf.keras.layers.Dense(128, activation = 'relu'))\n",
    "    model.add(tf.keras.layers.Dropout(0.5))\n",
    "    model.add(tf.keras.layers.Dense(64, activation = 'relu'))\n",
    "    model.add(tf.keras.layers.Dropout(0.5))\n",
    "    model.add(tf.keras.layers.Dense(10, activation = 'softmax'))\n",
    "    if regress:\n",
    "        model.add(tf.keras.layers.Dense(1, activation=\"linear\"))\n",
    "    return model"
   ]
  },
  {
   "cell_type": "code",
   "execution_count": 31,
   "id": "dd31a87a-fdbc-4ae0-b9ce-ffcfec0a22c4",
   "metadata": {},
   "outputs": [],
   "source": [
    "def create_mlp(dim, regress = False):\n",
    "    model = tf.keras.Sequential()\n",
    "    model.add(tf.keras.layers.Dense(8, input_dim = dim, activation = \"relu\"))\n",
    "    model.add(tf.keras.layers.Dense(8, activation = \"relu\"))\n",
    "    \n",
    "    if regress:\n",
    "        model.add(tf.keras.layers.Dense(1,activation = \"linear\"))\n",
    "    return model"
   ]
  },
  {
   "cell_type": "code",
   "execution_count": null,
   "id": "18917c78-ea82-4e7f-a25b-01e4d7ab4997",
   "metadata": {},
   "outputs": [],
   "source": [
    "Xtr6 = pd.read_csv('data/Xtr_tsvd.csv')\n",
    "Xte6 = pd.read_csv('data/Xte_tsvd.csv')"
   ]
  },
  {
   "cell_type": "code",
   "execution_count": null,
   "id": "af8feeee-4b72-4298-b103-6f4a65281b75",
   "metadata": {},
   "outputs": [],
   "source": [
    "from sklearn.preprocessing import StandardScaler\n",
    "scaler = StandardScaler()\n",
    "\n",
    "Xtr6 = scaler.fit_transform(Xtr6)\n",
    "Xte6 = scaler.transform(Xte6)"
   ]
  },
  {
   "cell_type": "code",
   "execution_count": 48,
   "id": "bdbcd976-cb90-4f11-a2f5-567b224416e9",
   "metadata": {},
   "outputs": [],
   "source": [
    "y = pd.read_csv('data/Ytr1.csv')\n",
    "#Y = y['total']/max(y['total'])\n",
    "Y = y"
   ]
  },
  {
   "cell_type": "code",
   "execution_count": 35,
   "id": "3ae1ad97-34f0-4cfd-8ac8-3c0dd495e4c2",
   "metadata": {},
   "outputs": [],
   "source": [
    "mlp = create_mlp(Xtr6.shape[1], regress = False)\n",
    "#mlp = create_mlp(Xtr6.shape[1], regress = True)\n",
    "#opt = tf.keras.optimizers.Adam(learning_rate = 1e-3, decay = 1e-3/200)\n",
    "#mlp.compile(loss = \"mean_absolute_percentage_error\", optimizer = opt)\n",
    "#mlp.fit(x = Xtr6, y = Y, epochs = 25)"
   ]
  },
  {
   "cell_type": "code",
   "execution_count": null,
   "id": "d4bc70a4-9e63-41e5-99f3-7fbc47560952",
   "metadata": {},
   "outputs": [],
   "source": [
    "# cnn = create_cnn(28,28,regress = False)"
   ]
  },
  {
   "cell_type": "code",
   "execution_count": null,
   "id": "8f088be2-2ed2-4f98-9408-8f2d327d0ff2",
   "metadata": {},
   "outputs": [],
   "source": [
    "#opt = tf.keras.optimizers.Adam(learning_rate=1e-1, decay=1e-1 / 100)\n",
    "#model.compile(loss=\"mean_absolute_error\", optimizer=opt)\n",
    "#model.fit(x= zz, y=yy,epochs=50, batch_size=64)\n",
    "#model.predict(zzte)"
   ]
  },
  {
   "cell_type": "code",
   "execution_count": 36,
   "id": "218bf369-ad0b-4149-86ba-f1909d51dccf",
   "metadata": {},
   "outputs": [],
   "source": [
    "combinedInput = tf.keras.layers.concatenate([mlp.output,probability_model.output])"
   ]
  },
  {
   "cell_type": "code",
   "execution_count": 40,
   "id": "4608ab8d-0968-40f4-b38a-271c21c00e97",
   "metadata": {},
   "outputs": [],
   "source": [
    "# combinedInput = tf.keras.layers.concatenate([mlp.output,cnn.output])\n",
    "\n",
    "x = tf.keras.layers.Dense(4, activation=\"relu\")(combinedInput)\n",
    "x = tf.keras.layers.Dense(1, activation=\"linear\")(x)\n",
    "# our final model will accept categorical/numerical data on the MLP\n",
    "# input and images on the CNN input, outputting a single value (the\n",
    "# predicted price of the house)\n",
    "model = tf.keras.Model(inputs=[mlp.input, probability_model.input], outputs=x)"
   ]
  },
  {
   "cell_type": "code",
   "execution_count": 33,
   "id": "8779a845-f7eb-46dc-9ebe-01dbaddfcb84",
   "metadata": {},
   "outputs": [],
   "source": []
  },
  {
   "cell_type": "code",
   "execution_count": 34,
   "id": "e95b181c-cb12-43b5-ad4f-f75ece0cd7c3",
   "metadata": {},
   "outputs": [],
   "source": []
  },
  {
   "cell_type": "code",
   "execution_count": 41,
   "id": "2a8fa19e-4f89-4ec5-959b-92f482f131bb",
   "metadata": {},
   "outputs": [],
   "source": []
  },
  {
   "cell_type": "code",
   "execution_count": 53,
   "id": "5e20ded2-56d6-4322-a0e8-baa9e1a9e157",
   "metadata": {},
   "outputs": [
    {
     "name": "stdout",
     "output_type": "stream",
     "text": [
      "[INFO] training model...\n"
     ]
    },
    {
     "data": {
      "text/plain": [
       "<keras.callbacks.History at 0x1d313335ca0>"
      ]
     },
     "execution_count": 53,
     "metadata": {},
     "output_type": "execute_result"
    }
   ],
   "source": [
    "opt = tf.keras.optimizers.Adam(learning_rate=1e-4, epsilon = 0.1)\n",
    "model.compile(loss=\"mean_absolute_error\", optimizer=opt)\n",
    "print(\"[INFO] training model...\")\n",
    "model.fit(x=[Xtr6, zz], y=Y,epochs=50, batch_size=16)"
   ]
  },
  {
   "cell_type": "code",
   "execution_count": 52,
   "id": "857b001b-8459-4281-aef2-4ec061661ee9",
   "metadata": {},
   "outputs": [
    {
     "data": {
      "text/html": [
       "<div>\n",
       "<style scoped>\n",
       "    .dataframe tbody tr th:only-of-type {\n",
       "        vertical-align: middle;\n",
       "    }\n",
       "\n",
       "    .dataframe tbody tr th {\n",
       "        vertical-align: top;\n",
       "    }\n",
       "\n",
       "    .dataframe thead th {\n",
       "        text-align: right;\n",
       "    }\n",
       "</style>\n",
       "<table border=\"1\" class=\"dataframe\">\n",
       "  <thead>\n",
       "    <tr style=\"text-align: right;\">\n",
       "      <th></th>\n",
       "      <th>id</th>\n",
       "      <th>total</th>\n",
       "    </tr>\n",
       "  </thead>\n",
       "  <tbody>\n",
       "    <tr>\n",
       "      <th>0</th>\n",
       "      <td>7e79f1a9cb10504dd2fc569d84f2a346</td>\n",
       "      <td>0.119446</td>\n",
       "    </tr>\n",
       "    <tr>\n",
       "      <th>1</th>\n",
       "      <td>4a2f52a31466509462042dacd3d66de7</td>\n",
       "      <td>0.119446</td>\n",
       "    </tr>\n",
       "    <tr>\n",
       "      <th>2</th>\n",
       "      <td>f22f6ec19360a7bcc7e0f6c76912c88b</td>\n",
       "      <td>0.119446</td>\n",
       "    </tr>\n",
       "    <tr>\n",
       "      <th>3</th>\n",
       "      <td>6382e9933644b1751511264ec8194ef5</td>\n",
       "      <td>0.119446</td>\n",
       "    </tr>\n",
       "    <tr>\n",
       "      <th>4</th>\n",
       "      <td>638c2f2961777b10009d7fdebae561bc</td>\n",
       "      <td>0.119446</td>\n",
       "    </tr>\n",
       "    <tr>\n",
       "      <th>...</th>\n",
       "      <td>...</td>\n",
       "      <td>...</td>\n",
       "    </tr>\n",
       "    <tr>\n",
       "      <th>6909</th>\n",
       "      <td>62eb6ce056e943070967d8835a204551</td>\n",
       "      <td>0.119446</td>\n",
       "    </tr>\n",
       "    <tr>\n",
       "      <th>6910</th>\n",
       "      <td>6a5a9ef25ea4889cef2b14a272ba958c</td>\n",
       "      <td>0.119446</td>\n",
       "    </tr>\n",
       "    <tr>\n",
       "      <th>6911</th>\n",
       "      <td>6c8edfdb7aec834d73e4b8d36ec0736d</td>\n",
       "      <td>0.119446</td>\n",
       "    </tr>\n",
       "    <tr>\n",
       "      <th>6912</th>\n",
       "      <td>c4618bb91765903dad4451933ee396ea</td>\n",
       "      <td>0.119446</td>\n",
       "    </tr>\n",
       "    <tr>\n",
       "      <th>6913</th>\n",
       "      <td>3b665129694904b2024dc7cd8230babe</td>\n",
       "      <td>0.119446</td>\n",
       "    </tr>\n",
       "  </tbody>\n",
       "</table>\n",
       "<p>6914 rows × 2 columns</p>\n",
       "</div>"
      ],
      "text/plain": [
       "                                    id     total\n",
       "0     7e79f1a9cb10504dd2fc569d84f2a346  0.119446\n",
       "1     4a2f52a31466509462042dacd3d66de7  0.119446\n",
       "2     f22f6ec19360a7bcc7e0f6c76912c88b  0.119446\n",
       "3     6382e9933644b1751511264ec8194ef5  0.119446\n",
       "4     638c2f2961777b10009d7fdebae561bc  0.119446\n",
       "...                                ...       ...\n",
       "6909  62eb6ce056e943070967d8835a204551  0.119446\n",
       "6910  6a5a9ef25ea4889cef2b14a272ba958c  0.119446\n",
       "6911  6c8edfdb7aec834d73e4b8d36ec0736d  0.119446\n",
       "6912  c4618bb91765903dad4451933ee396ea  0.119446\n",
       "6913  3b665129694904b2024dc7cd8230babe  0.119446\n",
       "\n",
       "[6914 rows x 2 columns]"
      ]
     },
     "execution_count": 52,
     "metadata": {},
     "output_type": "execute_result"
    }
   ],
   "source": [
    "pred = pd.read_csv('data/pred.csv')\n",
    "predrf = pred.copy()\n",
    "predrf['total'] = model.predict([Xte6,zzte])\n",
    "predrf.to_csv('data/pred_mlpdnn_svd.csv', index = False)\n",
    "predrf"
   ]
  }
 ],
 "metadata": {
  "kernelspec": {
   "display_name": "Python 3 (ipykernel)",
   "language": "python",
   "name": "python3"
  },
  "language_info": {
   "codemirror_mode": {
    "name": "ipython",
    "version": 3
   },
   "file_extension": ".py",
   "mimetype": "text/x-python",
   "name": "python",
   "nbconvert_exporter": "python",
   "pygments_lexer": "ipython3",
   "version": "3.9.7"
  }
 },
 "nbformat": 4,
 "nbformat_minor": 5
}
