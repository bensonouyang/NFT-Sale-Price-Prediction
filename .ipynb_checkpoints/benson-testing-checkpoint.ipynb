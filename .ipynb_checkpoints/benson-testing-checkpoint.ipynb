{
 "cells": [
  {
   "cell_type": "code",
   "execution_count": 1,
   "metadata": {},
   "outputs": [],
   "source": [
    "import pandas as pd\n",
    "import numpy as np"
   ]
  },
  {
   "cell_type": "code",
   "execution_count": 2,
   "metadata": {},
   "outputs": [],
   "source": [
    "XYtr = pd.read_csv('data/XYtr.csv')"
   ]
  },
  {
   "cell_type": "code",
   "execution_count": 3,
   "metadata": {},
   "outputs": [
    {
     "data": {
      "text/html": [
       "<div>\n",
       "<style scoped>\n",
       "    .dataframe tbody tr th:only-of-type {\n",
       "        vertical-align: middle;\n",
       "    }\n",
       "\n",
       "    .dataframe tbody tr th {\n",
       "        vertical-align: top;\n",
       "    }\n",
       "\n",
       "    .dataframe thead th {\n",
       "        text-align: right;\n",
       "    }\n",
       "</style>\n",
       "<table border=\"1\" class=\"dataframe\">\n",
       "  <thead>\n",
       "    <tr style=\"text-align: right;\">\n",
       "      <th></th>\n",
       "      <th>id</th>\n",
       "      <th>X.sales</th>\n",
       "      <th>cdate</th>\n",
       "      <th>description</th>\n",
       "      <th>version</th>\n",
       "      <th>symbol</th>\n",
       "      <th>ext</th>\n",
       "      <th>fee1</th>\n",
       "      <th>fee2</th>\n",
       "      <th>total</th>\n",
       "    </tr>\n",
       "  </thead>\n",
       "  <tbody>\n",
       "    <tr>\n",
       "      <th>0</th>\n",
       "      <td>a44a5f4c5e13910205404271e750e7bc</td>\n",
       "      <td>1</td>\n",
       "      <td>2019-04-26</td>\n",
       "      <td>uSuuw tPc2s Oh5hm kbWyC oIv2i LmM6m TfoFy gnYR...</td>\n",
       "      <td>3</td>\n",
       "      <td>Jt2xJ</td>\n",
       "      <td>.png</td>\n",
       "      <td>250.0</td>\n",
       "      <td>500.0</td>\n",
       "      <td>0.055</td>\n",
       "    </tr>\n",
       "    <tr>\n",
       "      <th>1</th>\n",
       "      <td>5cd06ad38bc1e842b7f3e37210b8e574</td>\n",
       "      <td>42</td>\n",
       "      <td>2020-10-26</td>\n",
       "      <td>zfG9T CWIL9 EPGsh RfQUu EDiBa hdBO7</td>\n",
       "      <td>None</td>\n",
       "      <td>00VCP</td>\n",
       "      <td>.png</td>\n",
       "      <td>250.0</td>\n",
       "      <td>500.0</td>\n",
       "      <td>75.000</td>\n",
       "    </tr>\n",
       "    <tr>\n",
       "      <th>2</th>\n",
       "      <td>239eff19cbe449331801cd1e89c84d2c</td>\n",
       "      <td>3</td>\n",
       "      <td>2019-04-26</td>\n",
       "      <td>UHWIX Csin3 giC2q uSw1I B58A7 F3KFu coELQ 7OFT...</td>\n",
       "      <td>3</td>\n",
       "      <td>71xGC</td>\n",
       "      <td>.png</td>\n",
       "      <td>750.0</td>\n",
       "      <td>1000.0</td>\n",
       "      <td>0.158</td>\n",
       "    </tr>\n",
       "    <tr>\n",
       "      <th>3</th>\n",
       "      <td>5034105b2e14a5d71522ed8054db89ac</td>\n",
       "      <td>4</td>\n",
       "      <td>2019-04-26</td>\n",
       "      <td>UFaHq GbOzi 5oiCZ 0dS4g 6FQLj WEBsK PjIBt gICf...</td>\n",
       "      <td>3</td>\n",
       "      <td>CGpsb</td>\n",
       "      <td>.png</td>\n",
       "      <td>750.0</td>\n",
       "      <td>1000.0</td>\n",
       "      <td>1.990</td>\n",
       "    </tr>\n",
       "    <tr>\n",
       "      <th>4</th>\n",
       "      <td>ab4d2c1023ad1b13f937988ea8cae5f4</td>\n",
       "      <td>1</td>\n",
       "      <td>2019-04-26</td>\n",
       "      <td>NaN</td>\n",
       "      <td>3</td>\n",
       "      <td>y1imm</td>\n",
       "      <td>.jpg</td>\n",
       "      <td>300.0</td>\n",
       "      <td>550.0</td>\n",
       "      <td>1.000</td>\n",
       "    </tr>\n",
       "  </tbody>\n",
       "</table>\n",
       "</div>"
      ],
      "text/plain": [
       "                                 id  X.sales       cdate  \\\n",
       "0  a44a5f4c5e13910205404271e750e7bc        1  2019-04-26   \n",
       "1  5cd06ad38bc1e842b7f3e37210b8e574       42  2020-10-26   \n",
       "2  239eff19cbe449331801cd1e89c84d2c        3  2019-04-26   \n",
       "3  5034105b2e14a5d71522ed8054db89ac        4  2019-04-26   \n",
       "4  ab4d2c1023ad1b13f937988ea8cae5f4        1  2019-04-26   \n",
       "\n",
       "                                         description version symbol   ext  \\\n",
       "0  uSuuw tPc2s Oh5hm kbWyC oIv2i LmM6m TfoFy gnYR...       3  Jt2xJ  .png   \n",
       "1                zfG9T CWIL9 EPGsh RfQUu EDiBa hdBO7    None  00VCP  .png   \n",
       "2  UHWIX Csin3 giC2q uSw1I B58A7 F3KFu coELQ 7OFT...       3  71xGC  .png   \n",
       "3  UFaHq GbOzi 5oiCZ 0dS4g 6FQLj WEBsK PjIBt gICf...       3  CGpsb  .png   \n",
       "4                                                NaN       3  y1imm  .jpg   \n",
       "\n",
       "    fee1    fee2   total  \n",
       "0  250.0   500.0   0.055  \n",
       "1  250.0   500.0  75.000  \n",
       "2  750.0  1000.0   0.158  \n",
       "3  750.0  1000.0   1.990  \n",
       "4  300.0   550.0   1.000  "
      ]
     },
     "execution_count": 3,
     "metadata": {},
     "output_type": "execute_result"
    }
   ],
   "source": [
    "XYtr.head()"
   ]
  },
  {
   "cell_type": "code",
   "execution_count": 4,
   "metadata": {},
   "outputs": [
    {
     "data": {
      "text/html": [
       "<div>\n",
       "<style scoped>\n",
       "    .dataframe tbody tr th:only-of-type {\n",
       "        vertical-align: middle;\n",
       "    }\n",
       "\n",
       "    .dataframe tbody tr th {\n",
       "        vertical-align: top;\n",
       "    }\n",
       "\n",
       "    .dataframe thead th {\n",
       "        text-align: right;\n",
       "    }\n",
       "</style>\n",
       "<table border=\"1\" class=\"dataframe\">\n",
       "  <thead>\n",
       "    <tr style=\"text-align: right;\">\n",
       "      <th></th>\n",
       "      <th>id</th>\n",
       "      <th>X.sales</th>\n",
       "      <th>cdate</th>\n",
       "      <th>description</th>\n",
       "      <th>version</th>\n",
       "      <th>symbol</th>\n",
       "      <th>ext</th>\n",
       "      <th>fee1</th>\n",
       "      <th>fee2</th>\n",
       "      <th>total</th>\n",
       "    </tr>\n",
       "  </thead>\n",
       "  <tbody>\n",
       "    <tr>\n",
       "      <th>0</th>\n",
       "      <td>a44a5f4c5e13910205404271e750e7bc</td>\n",
       "      <td>1</td>\n",
       "      <td>2019-04-26</td>\n",
       "      <td>uSuuw tPc2s Oh5hm kbWyC oIv2i LmM6m TfoFy gnYR...</td>\n",
       "      <td>3</td>\n",
       "      <td>Jt2xJ</td>\n",
       "      <td>.png</td>\n",
       "      <td>250.0</td>\n",
       "      <td>500.0</td>\n",
       "      <td>0.055</td>\n",
       "    </tr>\n",
       "    <tr>\n",
       "      <th>1</th>\n",
       "      <td>5cd06ad38bc1e842b7f3e37210b8e574</td>\n",
       "      <td>42</td>\n",
       "      <td>2020-10-26</td>\n",
       "      <td>zfG9T CWIL9 EPGsh RfQUu EDiBa hdBO7</td>\n",
       "      <td>None</td>\n",
       "      <td>00VCP</td>\n",
       "      <td>.png</td>\n",
       "      <td>250.0</td>\n",
       "      <td>500.0</td>\n",
       "      <td>75.000</td>\n",
       "    </tr>\n",
       "    <tr>\n",
       "      <th>2</th>\n",
       "      <td>239eff19cbe449331801cd1e89c84d2c</td>\n",
       "      <td>3</td>\n",
       "      <td>2019-04-26</td>\n",
       "      <td>UHWIX Csin3 giC2q uSw1I B58A7 F3KFu coELQ 7OFT...</td>\n",
       "      <td>3</td>\n",
       "      <td>71xGC</td>\n",
       "      <td>.png</td>\n",
       "      <td>750.0</td>\n",
       "      <td>1000.0</td>\n",
       "      <td>0.158</td>\n",
       "    </tr>\n",
       "    <tr>\n",
       "      <th>3</th>\n",
       "      <td>5034105b2e14a5d71522ed8054db89ac</td>\n",
       "      <td>4</td>\n",
       "      <td>2019-04-26</td>\n",
       "      <td>UFaHq GbOzi 5oiCZ 0dS4g 6FQLj WEBsK PjIBt gICf...</td>\n",
       "      <td>3</td>\n",
       "      <td>CGpsb</td>\n",
       "      <td>.png</td>\n",
       "      <td>750.0</td>\n",
       "      <td>1000.0</td>\n",
       "      <td>1.990</td>\n",
       "    </tr>\n",
       "    <tr>\n",
       "      <th>4</th>\n",
       "      <td>ab4d2c1023ad1b13f937988ea8cae5f4</td>\n",
       "      <td>1</td>\n",
       "      <td>2019-04-26</td>\n",
       "      <td>NaN</td>\n",
       "      <td>3</td>\n",
       "      <td>y1imm</td>\n",
       "      <td>.jpg</td>\n",
       "      <td>300.0</td>\n",
       "      <td>550.0</td>\n",
       "      <td>1.000</td>\n",
       "    </tr>\n",
       "    <tr>\n",
       "      <th>...</th>\n",
       "      <td>...</td>\n",
       "      <td>...</td>\n",
       "      <td>...</td>\n",
       "      <td>...</td>\n",
       "      <td>...</td>\n",
       "      <td>...</td>\n",
       "      <td>...</td>\n",
       "      <td>...</td>\n",
       "      <td>...</td>\n",
       "      <td>...</td>\n",
       "    </tr>\n",
       "    <tr>\n",
       "      <th>6909</th>\n",
       "      <td>b8b18cdc1f066586eb2a3c5326d2bb66</td>\n",
       "      <td>3</td>\n",
       "      <td>2020-11-27</td>\n",
       "      <td>XtC0N Csin3 p6h5k NDY1H MGQbb pQRRi EDiBa IRZp...</td>\n",
       "      <td>4</td>\n",
       "      <td>w8o1y</td>\n",
       "      <td>.png</td>\n",
       "      <td>750.0</td>\n",
       "      <td>1000.0</td>\n",
       "      <td>0.550</td>\n",
       "    </tr>\n",
       "    <tr>\n",
       "      <th>6910</th>\n",
       "      <td>d3cc7ebd0a8001ede39dfebcc05cf9be</td>\n",
       "      <td>2</td>\n",
       "      <td>2019-04-26</td>\n",
       "      <td>y9uu4 Csin3 giC2q 8gvmY B58A7 F3KFu coELQ 7OFT...</td>\n",
       "      <td>3</td>\n",
       "      <td>SBqi9</td>\n",
       "      <td>.png</td>\n",
       "      <td>750.0</td>\n",
       "      <td>1000.0</td>\n",
       "      <td>0.100</td>\n",
       "    </tr>\n",
       "    <tr>\n",
       "      <th>6911</th>\n",
       "      <td>1912ac374a2e56327989f468cc4f09b9</td>\n",
       "      <td>2</td>\n",
       "      <td>2019-05-08</td>\n",
       "      <td>XAP1e p6h5k QgV2N UFmwP ZuHOA 77NPo VGPRq sgUN...</td>\n",
       "      <td>3</td>\n",
       "      <td>QgV2N</td>\n",
       "      <td>.png</td>\n",
       "      <td>0.0</td>\n",
       "      <td>250.0</td>\n",
       "      <td>0.966</td>\n",
       "    </tr>\n",
       "    <tr>\n",
       "      <th>6912</th>\n",
       "      <td>22907775e92c304ccf77744d9c1989be</td>\n",
       "      <td>2</td>\n",
       "      <td>2021-06-12</td>\n",
       "      <td>wpksz QUff8 7ekHl q64Jx giC2q uxx1k QaOaK 0Fg9...</td>\n",
       "      <td>3</td>\n",
       "      <td>w2bN6</td>\n",
       "      <td>.png</td>\n",
       "      <td>200.0</td>\n",
       "      <td>450.0</td>\n",
       "      <td>0.170</td>\n",
       "    </tr>\n",
       "    <tr>\n",
       "      <th>6913</th>\n",
       "      <td>62defe67d57479ab0cd6d1ffb6525cbb</td>\n",
       "      <td>4</td>\n",
       "      <td>2020-10-09</td>\n",
       "      <td>NaN</td>\n",
       "      <td>None</td>\n",
       "      <td>NaN</td>\n",
       "      <td>.gif</td>\n",
       "      <td>1000.0</td>\n",
       "      <td>1250.0</td>\n",
       "      <td>0.100</td>\n",
       "    </tr>\n",
       "  </tbody>\n",
       "</table>\n",
       "<p>6914 rows × 10 columns</p>\n",
       "</div>"
      ],
      "text/plain": [
       "                                    id  X.sales       cdate  \\\n",
       "0     a44a5f4c5e13910205404271e750e7bc        1  2019-04-26   \n",
       "1     5cd06ad38bc1e842b7f3e37210b8e574       42  2020-10-26   \n",
       "2     239eff19cbe449331801cd1e89c84d2c        3  2019-04-26   \n",
       "3     5034105b2e14a5d71522ed8054db89ac        4  2019-04-26   \n",
       "4     ab4d2c1023ad1b13f937988ea8cae5f4        1  2019-04-26   \n",
       "...                                ...      ...         ...   \n",
       "6909  b8b18cdc1f066586eb2a3c5326d2bb66        3  2020-11-27   \n",
       "6910  d3cc7ebd0a8001ede39dfebcc05cf9be        2  2019-04-26   \n",
       "6911  1912ac374a2e56327989f468cc4f09b9        2  2019-05-08   \n",
       "6912  22907775e92c304ccf77744d9c1989be        2  2021-06-12   \n",
       "6913  62defe67d57479ab0cd6d1ffb6525cbb        4  2020-10-09   \n",
       "\n",
       "                                            description version symbol   ext  \\\n",
       "0     uSuuw tPc2s Oh5hm kbWyC oIv2i LmM6m TfoFy gnYR...       3  Jt2xJ  .png   \n",
       "1                   zfG9T CWIL9 EPGsh RfQUu EDiBa hdBO7    None  00VCP  .png   \n",
       "2     UHWIX Csin3 giC2q uSw1I B58A7 F3KFu coELQ 7OFT...       3  71xGC  .png   \n",
       "3     UFaHq GbOzi 5oiCZ 0dS4g 6FQLj WEBsK PjIBt gICf...       3  CGpsb  .png   \n",
       "4                                                   NaN       3  y1imm  .jpg   \n",
       "...                                                 ...     ...    ...   ...   \n",
       "6909  XtC0N Csin3 p6h5k NDY1H MGQbb pQRRi EDiBa IRZp...       4  w8o1y  .png   \n",
       "6910  y9uu4 Csin3 giC2q 8gvmY B58A7 F3KFu coELQ 7OFT...       3  SBqi9  .png   \n",
       "6911  XAP1e p6h5k QgV2N UFmwP ZuHOA 77NPo VGPRq sgUN...       3  QgV2N  .png   \n",
       "6912  wpksz QUff8 7ekHl q64Jx giC2q uxx1k QaOaK 0Fg9...       3  w2bN6  .png   \n",
       "6913                                                NaN    None    NaN  .gif   \n",
       "\n",
       "        fee1    fee2   total  \n",
       "0      250.0   500.0   0.055  \n",
       "1      250.0   500.0  75.000  \n",
       "2      750.0  1000.0   0.158  \n",
       "3      750.0  1000.0   1.990  \n",
       "4      300.0   550.0   1.000  \n",
       "...      ...     ...     ...  \n",
       "6909   750.0  1000.0   0.550  \n",
       "6910   750.0  1000.0   0.100  \n",
       "6911     0.0   250.0   0.966  \n",
       "6912   200.0   450.0   0.170  \n",
       "6913  1000.0  1250.0   0.100  \n",
       "\n",
       "[6914 rows x 10 columns]"
      ]
     },
     "execution_count": 4,
     "metadata": {},
     "output_type": "execute_result"
    }
   ],
   "source": [
    "XYtr"
   ]
  },
  {
   "cell_type": "code",
   "execution_count": 5,
   "metadata": {},
   "outputs": [
    {
     "data": {
      "text/plain": [
       "9.65815227873961"
      ]
     },
     "execution_count": 5,
     "metadata": {},
     "output_type": "execute_result"
    }
   ],
   "source": [
    "mu = np.mean(XYtr['total'])\n",
    "mu"
   ]
  },
  {
   "cell_type": "code",
   "execution_count": 6,
   "metadata": {},
   "outputs": [],
   "source": [
    "pred = pd.read_csv('data/pred.csv')"
   ]
  },
  {
   "cell_type": "code",
   "execution_count": 7,
   "metadata": {},
   "outputs": [
    {
     "data": {
      "text/plain": [
       "Index(['id', 'total'], dtype='object')"
      ]
     },
     "execution_count": 7,
     "metadata": {},
     "output_type": "execute_result"
    }
   ],
   "source": [
    "pred.columns"
   ]
  },
  {
   "cell_type": "code",
   "execution_count": 8,
   "metadata": {},
   "outputs": [],
   "source": [
    "pred0 = pred.copy()"
   ]
  },
  {
   "cell_type": "code",
   "execution_count": 9,
   "metadata": {},
   "outputs": [],
   "source": [
    "pred0['total'] = mu"
   ]
  },
  {
   "cell_type": "code",
   "execution_count": 10,
   "metadata": {},
   "outputs": [],
   "source": [
    "pred0.to_csv('data/pred0.csv', index = False)"
   ]
  },
  {
   "cell_type": "code",
   "execution_count": 11,
   "metadata": {},
   "outputs": [],
   "source": [
    "XYtr1  = XYtr.copy()\n",
    "# change below\n",
    "XYtr1['cdate'] = pd.to_datetime(XYtr1['cdate']).values.astype(np.float64)/8.64e+13"
   ]
  },
  {
   "cell_type": "code",
   "execution_count": 12,
   "metadata": {},
   "outputs": [],
   "source": [
    "Ytr1 = XYtr1['total'].copy()\n",
    "Xtr1 = XYtr1[['X.sales','cdate','fee1','fee2']]"
   ]
  },
  {
   "cell_type": "code",
   "execution_count": 13,
   "metadata": {},
   "outputs": [
    {
     "name": "stdout",
     "output_type": "stream",
     "text": [
      "0.055\n",
      "0.055\n",
      "0.0\n",
      "0.055\n"
     ]
    }
   ],
   "source": [
    "print(Ytr1[0])\n",
    "print(XYtr1.iloc[0,-1])\n",
    "Ytr1[0] = 0\n",
    "print(Ytr1[0])\n",
    "print(XYtr1.iloc[0,-1])"
   ]
  },
  {
   "cell_type": "code",
   "execution_count": 17,
   "metadata": {},
   "outputs": [
    {
     "data": {
      "text/plain": [
       "X.sales    float64\n",
       "cdate      float64\n",
       "fee1       float64\n",
       "fee2       float64\n",
       "dtype: object"
      ]
     },
     "execution_count": 17,
     "metadata": {},
     "output_type": "execute_result"
    }
   ],
   "source": [
    "Xtr1.dtypes"
   ]
  },
  {
   "cell_type": "code",
   "execution_count": 15,
   "metadata": {},
   "outputs": [],
   "source": [
    "Xtr1 = Xtr1.astype(np.float64)"
   ]
  },
  {
   "cell_type": "code",
   "execution_count": 16,
   "metadata": {},
   "outputs": [
    {
     "ename": "ValueError",
     "evalue": "Input contains NaN, infinity or a value too large for dtype('float64').",
     "output_type": "error",
     "traceback": [
      "\u001b[1;31m---------------------------------------------------------------------------\u001b[0m",
      "\u001b[1;31mValueError\u001b[0m                                Traceback (most recent call last)",
      "\u001b[1;32m<ipython-input-16-d4b22c4fdb6c>\u001b[0m in \u001b[0;36m<module>\u001b[1;34m\u001b[0m\n\u001b[0;32m      1\u001b[0m \u001b[1;32mfrom\u001b[0m \u001b[0msklearn\u001b[0m\u001b[1;33m.\u001b[0m\u001b[0mlinear_model\u001b[0m \u001b[1;32mimport\u001b[0m \u001b[0mLinearRegression\u001b[0m\u001b[1;33m\u001b[0m\u001b[1;33m\u001b[0m\u001b[0m\n\u001b[1;32m----> 2\u001b[1;33m \u001b[0mmodel\u001b[0m \u001b[1;33m=\u001b[0m \u001b[0mLinearRegression\u001b[0m\u001b[1;33m(\u001b[0m\u001b[1;33m)\u001b[0m\u001b[1;33m.\u001b[0m\u001b[0mfit\u001b[0m\u001b[1;33m(\u001b[0m\u001b[0mXtr1\u001b[0m\u001b[1;33m,\u001b[0m \u001b[0mYtr1\u001b[0m\u001b[1;33m)\u001b[0m\u001b[1;33m\u001b[0m\u001b[1;33m\u001b[0m\u001b[0m\n\u001b[0m",
      "\u001b[1;32m~\\anaconda3\\lib\\site-packages\\sklearn\\linear_model\\_base.py\u001b[0m in \u001b[0;36mfit\u001b[1;34m(self, X, y, sample_weight)\u001b[0m\n\u001b[0;32m    503\u001b[0m \u001b[1;33m\u001b[0m\u001b[0m\n\u001b[0;32m    504\u001b[0m         \u001b[0mn_jobs_\u001b[0m \u001b[1;33m=\u001b[0m \u001b[0mself\u001b[0m\u001b[1;33m.\u001b[0m\u001b[0mn_jobs\u001b[0m\u001b[1;33m\u001b[0m\u001b[1;33m\u001b[0m\u001b[0m\n\u001b[1;32m--> 505\u001b[1;33m         X, y = self._validate_data(X, y, accept_sparse=['csr', 'csc', 'coo'],\n\u001b[0m\u001b[0;32m    506\u001b[0m                                    y_numeric=True, multi_output=True)\n\u001b[0;32m    507\u001b[0m \u001b[1;33m\u001b[0m\u001b[0m\n",
      "\u001b[1;32m~\\anaconda3\\lib\\site-packages\\sklearn\\base.py\u001b[0m in \u001b[0;36m_validate_data\u001b[1;34m(self, X, y, reset, validate_separately, **check_params)\u001b[0m\n\u001b[0;32m    430\u001b[0m                 \u001b[0my\u001b[0m \u001b[1;33m=\u001b[0m \u001b[0mcheck_array\u001b[0m\u001b[1;33m(\u001b[0m\u001b[0my\u001b[0m\u001b[1;33m,\u001b[0m \u001b[1;33m**\u001b[0m\u001b[0mcheck_y_params\u001b[0m\u001b[1;33m)\u001b[0m\u001b[1;33m\u001b[0m\u001b[1;33m\u001b[0m\u001b[0m\n\u001b[0;32m    431\u001b[0m             \u001b[1;32melse\u001b[0m\u001b[1;33m:\u001b[0m\u001b[1;33m\u001b[0m\u001b[1;33m\u001b[0m\u001b[0m\n\u001b[1;32m--> 432\u001b[1;33m                 \u001b[0mX\u001b[0m\u001b[1;33m,\u001b[0m \u001b[0my\u001b[0m \u001b[1;33m=\u001b[0m \u001b[0mcheck_X_y\u001b[0m\u001b[1;33m(\u001b[0m\u001b[0mX\u001b[0m\u001b[1;33m,\u001b[0m \u001b[0my\u001b[0m\u001b[1;33m,\u001b[0m \u001b[1;33m**\u001b[0m\u001b[0mcheck_params\u001b[0m\u001b[1;33m)\u001b[0m\u001b[1;33m\u001b[0m\u001b[1;33m\u001b[0m\u001b[0m\n\u001b[0m\u001b[0;32m    433\u001b[0m             \u001b[0mout\u001b[0m \u001b[1;33m=\u001b[0m \u001b[0mX\u001b[0m\u001b[1;33m,\u001b[0m \u001b[0my\u001b[0m\u001b[1;33m\u001b[0m\u001b[1;33m\u001b[0m\u001b[0m\n\u001b[0;32m    434\u001b[0m \u001b[1;33m\u001b[0m\u001b[0m\n",
      "\u001b[1;32m~\\anaconda3\\lib\\site-packages\\sklearn\\utils\\validation.py\u001b[0m in \u001b[0;36minner_f\u001b[1;34m(*args, **kwargs)\u001b[0m\n\u001b[0;32m     70\u001b[0m                           FutureWarning)\n\u001b[0;32m     71\u001b[0m         \u001b[0mkwargs\u001b[0m\u001b[1;33m.\u001b[0m\u001b[0mupdate\u001b[0m\u001b[1;33m(\u001b[0m\u001b[1;33m{\u001b[0m\u001b[0mk\u001b[0m\u001b[1;33m:\u001b[0m \u001b[0marg\u001b[0m \u001b[1;32mfor\u001b[0m \u001b[0mk\u001b[0m\u001b[1;33m,\u001b[0m \u001b[0marg\u001b[0m \u001b[1;32min\u001b[0m \u001b[0mzip\u001b[0m\u001b[1;33m(\u001b[0m\u001b[0msig\u001b[0m\u001b[1;33m.\u001b[0m\u001b[0mparameters\u001b[0m\u001b[1;33m,\u001b[0m \u001b[0margs\u001b[0m\u001b[1;33m)\u001b[0m\u001b[1;33m}\u001b[0m\u001b[1;33m)\u001b[0m\u001b[1;33m\u001b[0m\u001b[1;33m\u001b[0m\u001b[0m\n\u001b[1;32m---> 72\u001b[1;33m         \u001b[1;32mreturn\u001b[0m \u001b[0mf\u001b[0m\u001b[1;33m(\u001b[0m\u001b[1;33m**\u001b[0m\u001b[0mkwargs\u001b[0m\u001b[1;33m)\u001b[0m\u001b[1;33m\u001b[0m\u001b[1;33m\u001b[0m\u001b[0m\n\u001b[0m\u001b[0;32m     73\u001b[0m     \u001b[1;32mreturn\u001b[0m \u001b[0minner_f\u001b[0m\u001b[1;33m\u001b[0m\u001b[1;33m\u001b[0m\u001b[0m\n\u001b[0;32m     74\u001b[0m \u001b[1;33m\u001b[0m\u001b[0m\n",
      "\u001b[1;32m~\\anaconda3\\lib\\site-packages\\sklearn\\utils\\validation.py\u001b[0m in \u001b[0;36mcheck_X_y\u001b[1;34m(X, y, accept_sparse, accept_large_sparse, dtype, order, copy, force_all_finite, ensure_2d, allow_nd, multi_output, ensure_min_samples, ensure_min_features, y_numeric, estimator)\u001b[0m\n\u001b[0;32m    793\u001b[0m         \u001b[1;32mraise\u001b[0m \u001b[0mValueError\u001b[0m\u001b[1;33m(\u001b[0m\u001b[1;34m\"y cannot be None\"\u001b[0m\u001b[1;33m)\u001b[0m\u001b[1;33m\u001b[0m\u001b[1;33m\u001b[0m\u001b[0m\n\u001b[0;32m    794\u001b[0m \u001b[1;33m\u001b[0m\u001b[0m\n\u001b[1;32m--> 795\u001b[1;33m     X = check_array(X, accept_sparse=accept_sparse,\n\u001b[0m\u001b[0;32m    796\u001b[0m                     \u001b[0maccept_large_sparse\u001b[0m\u001b[1;33m=\u001b[0m\u001b[0maccept_large_sparse\u001b[0m\u001b[1;33m,\u001b[0m\u001b[1;33m\u001b[0m\u001b[1;33m\u001b[0m\u001b[0m\n\u001b[0;32m    797\u001b[0m                     \u001b[0mdtype\u001b[0m\u001b[1;33m=\u001b[0m\u001b[0mdtype\u001b[0m\u001b[1;33m,\u001b[0m \u001b[0morder\u001b[0m\u001b[1;33m=\u001b[0m\u001b[0morder\u001b[0m\u001b[1;33m,\u001b[0m \u001b[0mcopy\u001b[0m\u001b[1;33m=\u001b[0m\u001b[0mcopy\u001b[0m\u001b[1;33m,\u001b[0m\u001b[1;33m\u001b[0m\u001b[1;33m\u001b[0m\u001b[0m\n",
      "\u001b[1;32m~\\anaconda3\\lib\\site-packages\\sklearn\\utils\\validation.py\u001b[0m in \u001b[0;36minner_f\u001b[1;34m(*args, **kwargs)\u001b[0m\n\u001b[0;32m     70\u001b[0m                           FutureWarning)\n\u001b[0;32m     71\u001b[0m         \u001b[0mkwargs\u001b[0m\u001b[1;33m.\u001b[0m\u001b[0mupdate\u001b[0m\u001b[1;33m(\u001b[0m\u001b[1;33m{\u001b[0m\u001b[0mk\u001b[0m\u001b[1;33m:\u001b[0m \u001b[0marg\u001b[0m \u001b[1;32mfor\u001b[0m \u001b[0mk\u001b[0m\u001b[1;33m,\u001b[0m \u001b[0marg\u001b[0m \u001b[1;32min\u001b[0m \u001b[0mzip\u001b[0m\u001b[1;33m(\u001b[0m\u001b[0msig\u001b[0m\u001b[1;33m.\u001b[0m\u001b[0mparameters\u001b[0m\u001b[1;33m,\u001b[0m \u001b[0margs\u001b[0m\u001b[1;33m)\u001b[0m\u001b[1;33m}\u001b[0m\u001b[1;33m)\u001b[0m\u001b[1;33m\u001b[0m\u001b[1;33m\u001b[0m\u001b[0m\n\u001b[1;32m---> 72\u001b[1;33m         \u001b[1;32mreturn\u001b[0m \u001b[0mf\u001b[0m\u001b[1;33m(\u001b[0m\u001b[1;33m**\u001b[0m\u001b[0mkwargs\u001b[0m\u001b[1;33m)\u001b[0m\u001b[1;33m\u001b[0m\u001b[1;33m\u001b[0m\u001b[0m\n\u001b[0m\u001b[0;32m     73\u001b[0m     \u001b[1;32mreturn\u001b[0m \u001b[0minner_f\u001b[0m\u001b[1;33m\u001b[0m\u001b[1;33m\u001b[0m\u001b[0m\n\u001b[0;32m     74\u001b[0m \u001b[1;33m\u001b[0m\u001b[0m\n",
      "\u001b[1;32m~\\anaconda3\\lib\\site-packages\\sklearn\\utils\\validation.py\u001b[0m in \u001b[0;36mcheck_array\u001b[1;34m(array, accept_sparse, accept_large_sparse, dtype, order, copy, force_all_finite, ensure_2d, allow_nd, ensure_min_samples, ensure_min_features, estimator)\u001b[0m\n\u001b[0;32m    642\u001b[0m \u001b[1;33m\u001b[0m\u001b[0m\n\u001b[0;32m    643\u001b[0m         \u001b[1;32mif\u001b[0m \u001b[0mforce_all_finite\u001b[0m\u001b[1;33m:\u001b[0m\u001b[1;33m\u001b[0m\u001b[1;33m\u001b[0m\u001b[0m\n\u001b[1;32m--> 644\u001b[1;33m             _assert_all_finite(array,\n\u001b[0m\u001b[0;32m    645\u001b[0m                                allow_nan=force_all_finite == 'allow-nan')\n\u001b[0;32m    646\u001b[0m \u001b[1;33m\u001b[0m\u001b[0m\n",
      "\u001b[1;32m~\\anaconda3\\lib\\site-packages\\sklearn\\utils\\validation.py\u001b[0m in \u001b[0;36m_assert_all_finite\u001b[1;34m(X, allow_nan, msg_dtype)\u001b[0m\n\u001b[0;32m     94\u001b[0m                 not allow_nan and not np.isfinite(X).all()):\n\u001b[0;32m     95\u001b[0m             \u001b[0mtype_err\u001b[0m \u001b[1;33m=\u001b[0m \u001b[1;34m'infinity'\u001b[0m \u001b[1;32mif\u001b[0m \u001b[0mallow_nan\u001b[0m \u001b[1;32melse\u001b[0m \u001b[1;34m'NaN, infinity'\u001b[0m\u001b[1;33m\u001b[0m\u001b[1;33m\u001b[0m\u001b[0m\n\u001b[1;32m---> 96\u001b[1;33m             raise ValueError(\n\u001b[0m\u001b[0;32m     97\u001b[0m                     \u001b[0mmsg_err\u001b[0m\u001b[1;33m.\u001b[0m\u001b[0mformat\u001b[0m\u001b[1;33m\u001b[0m\u001b[1;33m\u001b[0m\u001b[0m\n\u001b[0;32m     98\u001b[0m                     (type_err,\n",
      "\u001b[1;31mValueError\u001b[0m: Input contains NaN, infinity or a value too large for dtype('float64')."
     ]
    }
   ],
   "source": [
    "from sklearn.linear_model import LinearRegression\n",
    "# model = LinearRegression().fit(Xtr1, Ytr1)"
   ]
  },
  {
   "cell_type": "code",
   "execution_count": 18,
   "metadata": {},
   "outputs": [],
   "source": [
    "Xtr1 = Xtr1.fillna(0)"
   ]
  },
  {
   "cell_type": "code",
   "execution_count": 19,
   "metadata": {},
   "outputs": [],
   "source": [
    "model1 = LinearRegression().fit(Xtr1, Ytr1)"
   ]
  },
  {
   "cell_type": "code",
   "execution_count": 21,
   "metadata": {},
   "outputs": [],
   "source": [
    "Xte = pd.read_csv('data/Xte.csv')"
   ]
  },
  {
   "cell_type": "code",
   "execution_count": 22,
   "metadata": {},
   "outputs": [],
   "source": [
    "Xte1 = Xte.copy()"
   ]
  },
  {
   "cell_type": "code",
   "execution_count": 23,
   "metadata": {},
   "outputs": [],
   "source": [
    "Xte1['cdate'] = pd.to_datetime(Xte1['cdate']).values.astype(np.float64)/8.64e+13"
   ]
  },
  {
   "cell_type": "code",
   "execution_count": 24,
   "metadata": {},
   "outputs": [],
   "source": [
    "Xte1 = Xte1[['X.sales','cdate','fee1','fee2']].copy()"
   ]
  },
  {
   "cell_type": "code",
   "execution_count": 25,
   "metadata": {},
   "outputs": [
    {
     "data": {
      "text/plain": [
       "X.sales      int64\n",
       "cdate      float64\n",
       "fee1       float64\n",
       "fee2       float64\n",
       "dtype: object"
      ]
     },
     "execution_count": 25,
     "metadata": {},
     "output_type": "execute_result"
    }
   ],
   "source": [
    "Xte1.dtypes"
   ]
  },
  {
   "cell_type": "code",
   "execution_count": 26,
   "metadata": {},
   "outputs": [],
   "source": [
    "Xte1 = Xte1.astype(np.float64)"
   ]
  },
  {
   "cell_type": "code",
   "execution_count": 27,
   "metadata": {},
   "outputs": [],
   "source": [
    "Xte1 = Xte1.fillna(0)"
   ]
  },
  {
   "cell_type": "code",
   "execution_count": 28,
   "metadata": {},
   "outputs": [],
   "source": [
    "pred1 = pred0.copy()\n",
    "pred1['total'] = model1.predict(Xte1)"
   ]
  },
  {
   "cell_type": "code",
   "execution_count": 29,
   "metadata": {},
   "outputs": [],
   "source": [
    "pred1.to_csv('data/pred1.csv', index = False)"
   ]
  },
  {
   "cell_type": "code",
   "execution_count": null,
   "metadata": {},
   "outputs": [],
   "source": []
  }
 ],
 "metadata": {
  "kernelspec": {
   "display_name": "Python 3",
   "language": "python",
   "name": "python3"
  },
  "language_info": {
   "codemirror_mode": {
    "name": "ipython",
    "version": 3
   },
   "file_extension": ".py",
   "mimetype": "text/x-python",
   "name": "python",
   "nbconvert_exporter": "python",
   "pygments_lexer": "ipython3",
   "version": "3.8.5"
  }
 },
 "nbformat": 4,
 "nbformat_minor": 4
}
