{
 "cells": [
  {
   "cell_type": "code",
   "execution_count": 26,
   "id": "01418b48-1bb4-4368-ba72-ccdf0838e780",
   "metadata": {},
   "outputs": [],
   "source": [
    "import pandas as pd\n",
    "\n",
    "Xtr = pd.read_csv('data/Xtr6.csv')\n",
    "ytr = pd.read_csv('data/Ytr1.csv')\n",
    "Xte = pd.read_csv('data/Xte6.csv')"
   ]
  },
  {
   "cell_type": "code",
   "execution_count": 98,
   "id": "6e29c2f9-d423-423a-b13f-553d997e2e50",
   "metadata": {},
   "outputs": [],
   "source": [
    "Xtr1 = Xtr[['X.sales','cdate','fee1','fee2']].copy()\n",
    "y = ytr['total']\n",
    "Xte1 = Xte[['X.sales','cdate','fee1','fee2']].copy()"
   ]
  },
  {
   "cell_type": "code",
   "execution_count": 94,
   "id": "913bb9d4-aef9-4407-83d8-67b18e228fb7",
   "metadata": {},
   "outputs": [
    {
     "data": {
      "text/plain": [
       "1.0     3888\n",
       "2.0     1558\n",
       "3.0      629\n",
       "4.0      266\n",
       "5.0      123\n",
       "6.0       53\n",
       "7.0       30\n",
       "9.0       19\n",
       "8.0       18\n",
       "10.0      16\n",
       "11.0      15\n",
       "12.0      14\n",
       "13.0      10\n",
       "31.0       9\n",
       "16.0       9\n",
       "21.0       6\n",
       "18.0       6\n",
       "20.0       6\n",
       "30.0       6\n",
       "32.0       5\n",
       "0.0        5\n",
       "27.0       5\n",
       "17.0       5\n",
       "15.0       5\n",
       "Name: X.sales, dtype: int64"
      ]
     },
     "execution_count": 94,
     "metadata": {},
     "output_type": "execute_result"
    }
   ],
   "source": [
    "test = Xtr1.explode('X.sales')['X.sales'].value_counts()\n",
    "test[1.0:15.0]"
   ]
  },
  {
   "cell_type": "code",
   "execution_count": null,
   "id": "9fbc0d1a-630b-4676-8efd-5beb4f47dab6",
   "metadata": {},
   "outputs": [],
   "source": []
  },
  {
   "cell_type": "code",
   "execution_count": 96,
   "id": "706804ad-cb3c-4a90-9316-15e8a6d55757",
   "metadata": {},
   "outputs": [
    {
     "data": {
      "image/png": "[encoded data removed]",
      "text/plain": [
       "<Figure size 432x288 with 1 Axes>"
      ]
     },
     "metadata": {
      "needs_background": "light"
     },
     "output_type": "display_data"
    }
   ],
   "source": [
    "import matplotlib.pyplot as plt\n",
    "\n",
    "plt.scatter(Xtr['fee1'], y)\n",
    "plt.show()"
   ]
  },
  {
   "cell_type": "code",
   "execution_count": 137,
   "id": "2869955d-2fe0-4e36-8912-474131a605cb",
   "metadata": {},
   "outputs": [],
   "source": [
    "from sklearn.preprocessing import OneHotEncoder\n",
    "cat_encoder = OneHotEncoder()\n",
    "Xtr2 = cat_encoder.fit_transform(Xtr1[['X.sales','cdate','fee1','fee2']])\n",
    "Xte2 = cat_encoder.fit_transform(Xte1[['X.sales','cdate','fee1','fee2']])"
   ]
  },
  {
   "cell_type": "code",
   "execution_count": 104,
   "id": "38ebac40-efff-4855-a51c-19fae7c646df",
   "metadata": {},
   "outputs": [],
   "source": [
    "tr1 = pd.get_dummies(Xtr1, columns = ['fee1','fee2'])\n",
    "te1 = pd.get_dummies(Xte1, columns = ['fee1','fee2'])"
   ]
  },
  {
   "cell_type": "code",
   "execution_count": 103,
   "id": "76b2c1b4-32f9-4d55-ace4-585bc41e52fe",
   "metadata": {},
   "outputs": [
    {
     "data": {
      "text/plain": [
       "(6914, 59)"
      ]
     },
     "execution_count": 103,
     "metadata": {},
     "output_type": "execute_result"
    }
   ],
   "source": [
    "tr1.shape"
   ]
  },
  {
   "cell_type": "code",
   "execution_count": 68,
   "id": "880b914a-f619-4583-805b-41ac49d90e6e",
   "metadata": {},
   "outputs": [],
   "source": [
    "import numpy as np\n",
    "Xtr2 = Xtr2.toarray()\n",
    "Xte2 = Xte2.toarray()"
   ]
  },
  {
   "cell_type": "code",
   "execution_count": 69,
   "id": "c8afef6c-a06a-4f27-bb70-fbb82ce48944",
   "metadata": {},
   "outputs": [
    {
     "data": {
      "text/plain": [
       "(6914, 199)"
      ]
     },
     "execution_count": 69,
     "metadata": {},
     "output_type": "execute_result"
    }
   ],
   "source": [
    "Xte2.shape"
   ]
  },
  {
   "cell_type": "code",
   "execution_count": 70,
   "id": "884a887e-5b50-4256-848c-a18cc7dac246",
   "metadata": {},
   "outputs": [
    {
     "data": {
      "text/plain": [
       "(6914, 222)"
      ]
     },
     "execution_count": 70,
     "metadata": {},
     "output_type": "execute_result"
    }
   ],
   "source": [
    "Xtr2.shape"
   ]
  },
  {
   "cell_type": "code",
   "execution_count": 105,
   "id": "d0a502b9-9c43-48b4-a2d2-e0a02852a9c9",
   "metadata": {},
   "outputs": [],
   "source": [
    "# Get missing columns in the training test\n",
    "missing_cols = set( tr1.columns ) - set( te1.columns )\n",
    "# Add a missing column in test set with default value equal to 0\n",
    "for c in missing_cols:\n",
    "    te1[c] = 0\n",
    "# Ensure the order of column in the test set is in the same order than in train set\n",
    "train, test = tr1.align(te1, axis=1)"
   ]
  },
  {
   "cell_type": "code",
   "execution_count": 109,
   "id": "aa5e2e5a-a19c-4418-b406-7cba6c3bd4c0",
   "metadata": {},
   "outputs": [
    {
     "data": {
      "text/plain": [
       "(6914, 67)"
      ]
     },
     "execution_count": 109,
     "metadata": {},
     "output_type": "execute_result"
    }
   ],
   "source": [
    "test.shape"
   ]
  },
  {
   "cell_type": "code",
   "execution_count": 115,
   "id": "abe4c5b3-d357-473d-967e-f7b0cb5bb434",
   "metadata": {},
   "outputs": [],
   "source": [
    "tr2 = pd.get_dummies(Xtr1, columns = ['X.sales','fee1','fee2'])\n",
    "te2 = pd.get_dummies(Xte1, columns = ['X.sales','fee1','fee2'])"
   ]
  },
  {
   "cell_type": "code",
   "execution_count": 118,
   "id": "2b499d13-3ff3-402a-9a55-3386aa76e012",
   "metadata": {},
   "outputs": [
    {
     "data": {
      "text/plain": [
       "(6914, 200)"
      ]
     },
     "execution_count": 118,
     "metadata": {},
     "output_type": "execute_result"
    }
   ],
   "source": [
    "te2.shape"
   ]
  },
  {
   "cell_type": "code",
   "execution_count": 123,
   "id": "b2c928e5-4a7c-4c1a-a366-0a7dfe7d434f",
   "metadata": {},
   "outputs": [],
   "source": [
    "# Get missing columns in the training test\n",
    "missing_cols = set( tr2.columns ) - set( te2.columns )\n",
    "# Add a missing column in test set with default value equal to 0\n",
    "for c in missing_cols:\n",
    "    te2[c] = 0\n",
    "# Ensure the order of column in the test set is in the same order than in train set\n",
    "train1, test1 = tr2.align(te2, axis=1)"
   ]
  },
  {
   "cell_type": "code",
   "execution_count": 128,
   "id": "3f451134-c729-4639-afcd-a60579d129e4",
   "metadata": {},
   "outputs": [],
   "source": [
    "train1 = np.array(train1)\n",
    "test1 = np.array(test1)"
   ]
  },
  {
   "cell_type": "code",
   "execution_count": 132,
   "id": "5abb1816-bac9-4c7b-b1d4-469c6fb744f9",
   "metadata": {},
   "outputs": [
    {
     "data": {
      "text/plain": [
       "False"
      ]
     },
     "execution_count": 132,
     "metadata": {},
     "output_type": "execute_result"
    }
   ],
   "source": [
    "np.isnan(test1).any()"
   ]
  },
  {
   "cell_type": "code",
   "execution_count": 134,
   "id": "9ae65920-a8be-494c-a0e2-2ca24c2d4c25",
   "metadata": {},
   "outputs": [],
   "source": [
    "train1[np.isnan(train1)] = 0"
   ]
  },
  {
   "cell_type": "code",
   "execution_count": 138,
   "id": "a9845068-f024-4320-8ab7-c016823b7111",
   "metadata": {},
   "outputs": [],
   "source": [
    "def mae_out(model,train1):\n",
    "    kfold = KFold(n_splits = 5,shuffle = True)\n",
    "    a = np.zeros(shape = 5,dtype = int)\n",
    "    i = 0\n",
    "    for train_index, test_index in kfold.split(train1):\n",
    "        X_train,X_test = train1[train_index],train1[test_index]\n",
    "        y_train,y_test = y[train_index],y[test_index]\n",
    "        model.fit(X_train,y_train)\n",
    "        mae= mean_absolute_error(y_test,model.predict(X_test))\n",
    "        a[i] = mae\n",
    "        i = i+1\n",
    "    return(np.mean(a))"
   ]
  },
  {
   "cell_type": "code",
   "execution_count": 31,
   "id": "68c072f1-48b1-4d00-8ae6-b31114b5d41d",
   "metadata": {},
   "outputs": [],
   "source": [
    "from sklearn.linear_model import SGDRegressor\n",
    "from sklearn.model_selection import KFold, cross_val_score, train_test_split\n",
    "from sklearn.metrics import mean_absolute_error\n"
   ]
  },
  {
   "cell_type": "code",
   "execution_count": 186,
   "id": "3b579f3b-2628-4c3a-ab23-479a8c377443",
   "metadata": {},
   "outputs": [],
   "source": [
    "Xtr3 = pd.get_dummies(Xtr1, columns = ['X.sales','cdate','fee1','fee2'])\n",
    "Xte3 = pd.get_dummies(Xte1, columns = ['X.sales','cdate','fee1','fee2'])"
   ]
  },
  {
   "cell_type": "code",
   "execution_count": 191,
   "id": "581f6b9f-382b-40fe-8685-9b37b90154dc",
   "metadata": {},
   "outputs": [
    {
     "name": "stderr",
     "output_type": "stream",
     "text": [
      "C:\\Users\\Benson\\AppData\\Local\\Temp/ipykernel_18344/1044732188.py:5: PerformanceWarning: DataFrame is highly fragmented.  This is usually the result of calling `frame.insert` many times, which has poor performance.  Consider joining all columns at once using pd.concat(axis=1) instead.  To get a de-fragmented frame, use `newframe = frame.copy()`\n",
      "  Xte3[c] = 0\n"
     ]
    }
   ],
   "source": [
    "# Get missing columns in the training test\n",
    "missing_cols = set( Xtr3.columns ) - set( Xte3.columns )\n",
    "# Add a missing column in test set with default value equal to 0\n",
    "for c in missing_cols:\n",
    "    Xte3[c] = 0\n",
    "# Ensure the order of column in the test set is in the same order than in train set\n",
    "train2, test2 = Xtr3.align(Xte3, axis=1)"
   ]
  },
  {
   "cell_type": "code",
   "execution_count": 206,
   "id": "529c2292-28d3-4261-a781-293a8126c92c",
   "metadata": {},
   "outputs": [],
   "source": [
    "train2 = np.array(train2)\n",
    "test2 = np.array(test2)"
   ]
  },
  {
   "cell_type": "code",
   "execution_count": 209,
   "id": "196d578c-72bc-424a-906d-5494f58eeada",
   "metadata": {},
   "outputs": [],
   "source": [
    "train2[np.isnan(train2)] = 0"
   ]
  },
  {
   "cell_type": "code",
   "execution_count": 211,
   "id": "dc2c872a-1579-4a9e-a62e-1400c9eb5ec4",
   "metadata": {},
   "outputs": [
    {
     "name": "stdout",
     "output_type": "stream",
     "text": [
      "8.8\n"
     ]
    }
   ],
   "source": [
    "sgd = SGDRegressor(loss = 'epsilon_insensitive', alpha = 0, epsilon = 0, max_iter = 3000)\n",
    "print(mae_out(sgd,train2))"
   ]
  },
  {
   "cell_type": "code",
   "execution_count": 212,
   "id": "0693dac3-913e-4f1a-adab-920684f89c75",
   "metadata": {},
   "outputs": [
    {
     "data": {
      "text/plain": [
       "SGDRegressor(alpha=0, epsilon=0, loss='epsilon_insensitive', max_iter=3000)"
      ]
     },
     "execution_count": 212,
     "metadata": {},
     "output_type": "execute_result"
    }
   ],
   "source": [
    "sgd.fit(train2,y)"
   ]
  },
  {
   "cell_type": "code",
   "execution_count": 215,
   "id": "fe2ed0d4-2aff-4b64-ba5c-9366f0aad823",
   "metadata": {},
   "outputs": [],
   "source": [
    "pred = pd.read_csv('data/pred.csv')\n",
    "pred5 = pred.copy()\n",
    "pred5['total'] = sgd.predict(test2)\n",
    "pred5.to_csv('data/pred_dummyvar_reg.csv', index = False)"
   ]
  },
  {
   "cell_type": "code",
   "execution_count": 219,
   "id": "7b16f68e-14b4-4d3f-b139-48aca471a82d",
   "metadata": {},
   "outputs": [],
   "source": [
    "from sklearn.preprocessing import StandardScaler\n",
    "Xtr4 = Xtr1.copy()\n",
    "Xte4 = Xte1.copy()\n",
    "scaler = StandardScaler()\n",
    "Xtr4 = scaler.fit_transform(Xtr4)\n",
    "Xte4 = scaler.transform(Xte4)"
   ]
  },
  {
   "cell_type": "code",
   "execution_count": null,
   "id": "d8c6e8da-31e6-4520-b027-9581ec518bbd",
   "metadata": {},
   "outputs": [],
   "source": []
  },
  {
   "cell_type": "code",
   "execution_count": null,
   "id": "99713ce7-2b52-4461-a209-b3e1b33b13a9",
   "metadata": {},
   "outputs": [],
   "source": []
  },
  {
   "cell_type": "code",
   "execution_count": null,
   "id": "01571baa-ba34-4ae5-b112-19d67f47eb20",
   "metadata": {},
   "outputs": [],
   "source": []
  },
  {
   "cell_type": "code",
   "execution_count": null,
   "id": "21994608-d272-445c-9c5e-1090aef26bd7",
   "metadata": {},
   "outputs": [],
   "source": []
  },
  {
   "cell_type": "code",
   "execution_count": null,
   "id": "7201dbac-4b3e-4d18-94ca-9af6f2154252",
   "metadata": {},
   "outputs": [],
   "source": []
  },
  {
   "cell_type": "code",
   "execution_count": null,
   "id": "7e64bb54-8f1f-4f99-97f3-dee40954310c",
   "metadata": {},
   "outputs": [],
   "source": []
  }
 ],
 "metadata": {
  "kernelspec": {
   "display_name": "Python 3 (ipykernel)",
   "language": "python",
   "name": "python3"
  },
  "language_info": {
   "codemirror_mode": {
    "name": "ipython",
    "version": 3
   },
   "file_extension": ".py",
   "mimetype": "text/x-python",
   "name": "python",
   "nbconvert_exporter": "python",
   "pygments_lexer": "ipython3",
   "version": "3.9.7"
  }
 },
 "nbformat": 4,
 "nbformat_minor": 5
}
