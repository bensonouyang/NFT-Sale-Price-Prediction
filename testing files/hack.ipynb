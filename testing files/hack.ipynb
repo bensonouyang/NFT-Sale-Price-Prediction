{
 "cells": [
  {
   "cell_type": "code",
   "execution_count": 1,
   "id": "f043b6f6-2124-4ddb-9399-eaa85ce5db43",
   "metadata": {},
   "outputs": [],
   "source": [
    "import pandas as pd\n",
    "import numpy as np\n",
    "\n",
    "Xtr = pd.read_csv('data/XYtr.csv')\n",
    "Xte = pd.read_csv('data/Xte.csv')"
   ]
  },
  {
   "cell_type": "code",
   "execution_count": 6,
   "id": "14d9d92c-75f1-4b40-9789-bb9a49ebd7fc",
   "metadata": {},
   "outputs": [
    {
     "data": {
      "text/plain": [
       "array([False, False, False, ..., False, False, False])"
      ]
     },
     "execution_count": 6,
     "metadata": {},
     "output_type": "execute_result"
    }
   ],
   "source": [
    "comparison_column = np.where(Xtr['id'] == Xte['id'], True,False)\n"
   ]
  },
  {
   "cell_type": "code",
   "execution_count": 7,
   "id": "ef6d1b2e-c074-46f7-a53c-5c0c54b20745",
   "metadata": {},
   "outputs": [],
   "source": [
    "Xtr['equal'] = comparison_column"
   ]
  },
  {
   "cell_type": "code",
   "execution_count": 8,
   "id": "0bdd0400-fdc2-4a58-982d-77472a1ed4bb",
   "metadata": {},
   "outputs": [
    {
     "data": {
      "text/html": [
       "<div>\n",
       "<style scoped>\n",
       "    .dataframe tbody tr th:only-of-type {\n",
       "        vertical-align: middle;\n",
       "    }\n",
       "\n",
       "    .dataframe tbody tr th {\n",
       "        vertical-align: top;\n",
       "    }\n",
       "\n",
       "    .dataframe thead th {\n",
       "        text-align: right;\n",
       "    }\n",
       "</style>\n",
       "<table border=\"1\" class=\"dataframe\">\n",
       "  <thead>\n",
       "    <tr style=\"text-align: right;\">\n",
       "      <th></th>\n",
       "      <th>id</th>\n",
       "      <th>equal</th>\n",
       "    </tr>\n",
       "  </thead>\n",
       "  <tbody>\n",
       "    <tr>\n",
       "      <th>0</th>\n",
       "      <td>a44a5f4c5e13910205404271e750e7bc</td>\n",
       "      <td>False</td>\n",
       "    </tr>\n",
       "    <tr>\n",
       "      <th>1</th>\n",
       "      <td>5cd06ad38bc1e842b7f3e37210b8e574</td>\n",
       "      <td>False</td>\n",
       "    </tr>\n",
       "    <tr>\n",
       "      <th>2</th>\n",
       "      <td>239eff19cbe449331801cd1e89c84d2c</td>\n",
       "      <td>False</td>\n",
       "    </tr>\n",
       "    <tr>\n",
       "      <th>3</th>\n",
       "      <td>5034105b2e14a5d71522ed8054db89ac</td>\n",
       "      <td>False</td>\n",
       "    </tr>\n",
       "    <tr>\n",
       "      <th>4</th>\n",
       "      <td>ab4d2c1023ad1b13f937988ea8cae5f4</td>\n",
       "      <td>False</td>\n",
       "    </tr>\n",
       "    <tr>\n",
       "      <th>...</th>\n",
       "      <td>...</td>\n",
       "      <td>...</td>\n",
       "    </tr>\n",
       "    <tr>\n",
       "      <th>6909</th>\n",
       "      <td>b8b18cdc1f066586eb2a3c5326d2bb66</td>\n",
       "      <td>False</td>\n",
       "    </tr>\n",
       "    <tr>\n",
       "      <th>6910</th>\n",
       "      <td>d3cc7ebd0a8001ede39dfebcc05cf9be</td>\n",
       "      <td>False</td>\n",
       "    </tr>\n",
       "    <tr>\n",
       "      <th>6911</th>\n",
       "      <td>1912ac374a2e56327989f468cc4f09b9</td>\n",
       "      <td>False</td>\n",
       "    </tr>\n",
       "    <tr>\n",
       "      <th>6912</th>\n",
       "      <td>22907775e92c304ccf77744d9c1989be</td>\n",
       "      <td>False</td>\n",
       "    </tr>\n",
       "    <tr>\n",
       "      <th>6913</th>\n",
       "      <td>62defe67d57479ab0cd6d1ffb6525cbb</td>\n",
       "      <td>False</td>\n",
       "    </tr>\n",
       "  </tbody>\n",
       "</table>\n",
       "<p>6914 rows × 2 columns</p>\n",
       "</div>"
      ],
      "text/plain": [
       "                                    id  equal\n",
       "0     a44a5f4c5e13910205404271e750e7bc  False\n",
       "1     5cd06ad38bc1e842b7f3e37210b8e574  False\n",
       "2     239eff19cbe449331801cd1e89c84d2c  False\n",
       "3     5034105b2e14a5d71522ed8054db89ac  False\n",
       "4     ab4d2c1023ad1b13f937988ea8cae5f4  False\n",
       "...                                ...    ...\n",
       "6909  b8b18cdc1f066586eb2a3c5326d2bb66  False\n",
       "6910  d3cc7ebd0a8001ede39dfebcc05cf9be  False\n",
       "6911  1912ac374a2e56327989f468cc4f09b9  False\n",
       "6912  22907775e92c304ccf77744d9c1989be  False\n",
       "6913  62defe67d57479ab0cd6d1ffb6525cbb  False\n",
       "\n",
       "[6914 rows x 2 columns]"
      ]
     },
     "execution_count": 8,
     "metadata": {},
     "output_type": "execute_result"
    }
   ],
   "source": [
    "Xtr2 = Xtr[['id','equal']].copy()\n",
    "Xtr2"
   ]
  },
  {
   "cell_type": "code",
   "execution_count": 12,
   "id": "481b2342-7ab8-49e3-8490-4f00eca792b1",
   "metadata": {},
   "outputs": [
    {
     "data": {
      "text/html": [
       "<div>\n",
       "<style scoped>\n",
       "    .dataframe tbody tr th:only-of-type {\n",
       "        vertical-align: middle;\n",
       "    }\n",
       "\n",
       "    .dataframe tbody tr th {\n",
       "        vertical-align: top;\n",
       "    }\n",
       "\n",
       "    .dataframe thead th {\n",
       "        text-align: right;\n",
       "    }\n",
       "</style>\n",
       "<table border=\"1\" class=\"dataframe\">\n",
       "  <thead>\n",
       "    <tr style=\"text-align: right;\">\n",
       "      <th></th>\n",
       "      <th>id</th>\n",
       "      <th>equal</th>\n",
       "    </tr>\n",
       "  </thead>\n",
       "  <tbody>\n",
       "  </tbody>\n",
       "</table>\n",
       "</div>"
      ],
      "text/plain": [
       "Empty DataFrame\n",
       "Columns: [id, equal]\n",
       "Index: []"
      ]
     },
     "execution_count": 12,
     "metadata": {},
     "output_type": "execute_result"
    }
   ],
   "source": []
  },
  {
   "cell_type": "code",
   "execution_count": null,
   "id": "96d78b27-babc-448f-a204-56be68aa4796",
   "metadata": {},
   "outputs": [],
   "source": []
  }
 ],
 "metadata": {
  "kernelspec": {
   "display_name": "Python 3 (ipykernel)",
   "language": "python",
   "name": "python3"
  },
  "language_info": {
   "codemirror_mode": {
    "name": "ipython",
    "version": 3
   },
   "file_extension": ".py",
   "mimetype": "text/x-python",
   "name": "python",
   "nbconvert_exporter": "python",
   "pygments_lexer": "ipython3",
   "version": "3.9.7"
  }
 },
 "nbformat": 4,
 "nbformat_minor": 5
}
