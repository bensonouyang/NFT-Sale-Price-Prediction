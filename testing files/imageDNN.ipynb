{
 "cells": [
  {
   "cell_type": "code",
   "execution_count": 1,
   "id": "3cb814e4-57ca-4ab4-99e9-9d36a8546d45",
   "metadata": {},
   "outputs": [],
   "source": [
    "import tensorflow as tf\n",
    "import pandas as pd\n",
    "import numpy as np\n",
    "import imageio\n",
    "import os\n",
    "from PIL import Image"
   ]
  },
  {
   "cell_type": "code",
   "execution_count": 2,
   "id": "e0c3ae9c-c4c7-47b3-8ded-f0e480e5a2c0",
   "metadata": {},
   "outputs": [],
   "source": [
    "tr = pd.read_csv('data/XYtr.csv')\n",
    "te = pd.read_csv('data/Xte.csv')"
   ]
  },
  {
   "cell_type": "code",
   "execution_count": 4,
   "id": "7eca2507-fdf3-49cf-9e37-731bb532b60a",
   "metadata": {},
   "outputs": [],
   "source": [
    "fashion_mnist = tf.keras.datasets.fashion_mnist\n",
    "\n",
    "(train_images, train_labels),(test_images, test_labels) = fashion_mnist.load_data()"
   ]
  },
  {
   "cell_type": "code",
   "execution_count": 5,
   "id": "e402a009-edad-44ef-9984-2f1756658d10",
   "metadata": {},
   "outputs": [
    {
     "data": {
      "text/plain": [
       "(60000, 28, 28)"
      ]
     },
     "execution_count": 5,
     "metadata": {},
     "output_type": "execute_result"
    }
   ],
   "source": [
    "train_images.shape"
   ]
  },
  {
   "cell_type": "code",
   "execution_count": 6,
   "id": "6d5985b8-9ad0-4559-978b-218f3e417ba2",
   "metadata": {},
   "outputs": [
    {
     "data": {
      "text/plain": [
       "numpy.ndarray"
      ]
     },
     "execution_count": 6,
     "metadata": {},
     "output_type": "execute_result"
    }
   ],
   "source": [
    "type(train_images)"
   ]
  },
  {
   "cell_type": "code",
   "execution_count": 7,
   "id": "b7a9c7a6-d3c1-4351-bab7-f2f65a80c762",
   "metadata": {},
   "outputs": [],
   "source": [
    "zz = np.zeros([tr.shape[0],28,28])\n",
    "yy = pd.qcut(tr['total'], 10, labels = range(10))"
   ]
  },
  {
   "cell_type": "code",
   "execution_count": 8,
   "id": "0abaa8cb-83d5-4af8-9790-09079bbc7da7",
   "metadata": {},
   "outputs": [
    {
     "name": "stdout",
     "output_type": "stream",
     "text": [
      "0 / 6914\n",
      "100 / 6914\n",
      "200 / 6914\n",
      "300 / 6914\n",
      "400 / 6914\n",
      "500 / 6914\n",
      "600 / 6914\n",
      "700 / 6914\n",
      "800 / 6914\n",
      "900 / 6914\n",
      "1000 / 6914\n",
      "1100 / 6914\n",
      "1200 / 6914\n",
      "1300 / 6914\n",
      "1400 / 6914\n",
      "1500 / 6914\n",
      "1600 / 6914\n",
      "1700 / 6914\n",
      "1800 / 6914\n",
      "1900 / 6914\n",
      "2000 / 6914\n",
      "2100 / 6914\n",
      "2200 / 6914\n",
      "2300 / 6914\n",
      "2400 / 6914\n",
      "2500 / 6914\n",
      "2600 / 6914\n",
      "2700 / 6914\n",
      "2800 / 6914\n",
      "2900 / 6914\n",
      "3000 / 6914\n",
      "3100 / 6914\n",
      "3200 / 6914\n",
      "3300 / 6914\n",
      "3400 / 6914\n",
      "3500 / 6914\n",
      "3600 / 6914\n",
      "3700 / 6914\n",
      "3800 / 6914\n",
      "3900 / 6914\n",
      "4000 / 6914\n",
      "4100 / 6914\n",
      "4200 / 6914\n",
      "4300 / 6914\n",
      "4400 / 6914\n",
      "4500 / 6914\n",
      "4600 / 6914\n",
      "4700 / 6914\n",
      "4800 / 6914\n",
      "4900 / 6914\n",
      "5000 / 6914\n",
      "5100 / 6914\n",
      "5200 / 6914\n",
      "5300 / 6914\n",
      "5400 / 6914\n",
      "5500 / 6914\n",
      "5600 / 6914\n",
      "5700 / 6914\n",
      "5800 / 6914\n",
      "5900 / 6914\n",
      "6000 / 6914\n",
      "6100 / 6914\n",
      "6200 / 6914\n",
      "6300 / 6914\n",
      "6400 / 6914\n",
      "6500 / 6914\n",
      "6600 / 6914\n",
      "6700 / 6914\n",
      "6800 / 6914\n",
      "6900 / 6914\n"
     ]
    }
   ],
   "source": [
    "found = list()\n",
    "for ii in range(tr.shape[0]):\n",
    "    if ii % 100 == 0:\n",
    "        print('%d / %d' % (ii, tr.shape[0]))\n",
    "    if tr['ext'][ii] == '.png':\n",
    "        id = tr.loc[ii,'id']\n",
    "        ff = tr.loc[ii, 'id'] + tr.loc[ii, 'ext']\n",
    "        path = 'data/images/images/' + ff\n",
    "        if not os.path.isfile(path):\n",
    "            continue\n",
    "        \n",
    "        pic = imageio.imread(path)\n",
    "        pic = Image.fromarray(pic).resize((28,28))\n",
    "        \n",
    "        try:\n",
    "            pic = np.mean(pic,axis = 2)\n",
    "        except:\n",
    "            pic = np.array(pic)\n",
    "        \n",
    "        found.append(ii)\n",
    "        # print(pic.shape)\n",
    "        zz[ii,:,:] = pic"
   ]
  },
  {
   "cell_type": "code",
   "execution_count": null,
   "id": "0b730d39-2837-4b2b-9d9f-abdffc8b2037",
   "metadata": {},
   "outputs": [],
   "source": [
    "zz = zz/255"
   ]
  },
  {
   "cell_type": "code",
   "execution_count": null,
   "id": "b3aa47eb-f721-4a66-9bee-c1dd7ada27fd",
   "metadata": {},
   "outputs": [],
   "source": [
    "zzte = np.zeros([tr.shape[0],28,28])\n",
    "found = list()\n",
    "for ii in range(te.shape[0]):\n",
    "    if ii % 100 == 0:\n",
    "        print('%d / %d' % (ii, te.shape[0]))\n",
    "    if te['ext'][ii] == '.png':\n",
    "        id = te.loc[ii,'id']\n",
    "        ff = te.loc[ii, 'id'] + te.loc[ii, 'ext']\n",
    "        path = 'data/images/images/' + ff\n",
    "        if not os.path.isfile(path):\n",
    "            continue\n",
    "        \n",
    "        pic = imageio.imread(path)\n",
    "        pic = Image.fromarray(pic).resize((28,28))\n",
    "        \n",
    "        try:\n",
    "            pic = np.mean(pic,axis = 2)\n",
    "        except:\n",
    "            pic = np.array(pic)\n",
    "        \n",
    "        found.append(ii)\n",
    "        # print(pic.shape)\n",
    "        zzte[ii,:,:] = pic"
   ]
  },
  {
   "cell_type": "code",
   "execution_count": null,
   "id": "2d7e595c-bc40-4b00-82f9-a5117ae512e4",
   "metadata": {},
   "outputs": [],
   "source": [
    "zzte = zzte/255"
   ]
  },
  {
   "cell_type": "code",
   "execution_count": null,
   "id": "bb807b69-6dee-45cb-80f8-347e3c1c8acd",
   "metadata": {},
   "outputs": [],
   "source": [
    "model = tf.keras.Sequential([\n",
    "    tf.keras.layers.Flatten(input_shape = (28,28)),\n",
    "    tf.keras.layers.Dense(128, activation = 'relu'),\n",
    "    tf.keras.layers.Dense(10)\n",
    "])"
   ]
  },
  {
   "cell_type": "code",
   "execution_count": null,
   "id": "aad1253e-fbac-4bdc-8f9b-141dac0c44c4",
   "metadata": {},
   "outputs": [],
   "source": [
    "model.compile(optimizer = 'adam', loss= tf.keras.losses.SparseCategoricalCrossentropy(from_logits=True),\n",
    "              metrics = ['accuracy'])"
   ]
  },
  {
   "cell_type": "code",
   "execution_count": null,
   "id": "fed753b0-2a6b-4267-ba41-20cdfc4c2265",
   "metadata": {},
   "outputs": [],
   "source": [
    "model.fit(zz, yy, epochs = 10)"
   ]
  },
  {
   "cell_type": "code",
   "execution_count": null,
   "id": "94fd2297-7d2e-4f47-9056-309632300156",
   "metadata": {},
   "outputs": [],
   "source": [
    "pred = pd.read_csv('data/pred.csv')\n",
    "predrf = pred.copy()\n",
    "predrf['total'] = model.predict(zzte)\n",
    "#predrf.to_csv('data/pred_image_dnn.csv', index = False)"
   ]
  }
 ],
 "metadata": {
  "kernelspec": {
   "display_name": "Python 3 (ipykernel)",
   "language": "python",
   "name": "python3"
  },
  "language_info": {
   "codemirror_mode": {
    "name": "ipython",
    "version": 3
   },
   "file_extension": ".py",
   "mimetype": "text/x-python",
   "name": "python",
   "nbconvert_exporter": "python",
   "pygments_lexer": "ipython3",
   "version": "3.9.7"
  }
 },
 "nbformat": 4,
 "nbformat_minor": 5
}
