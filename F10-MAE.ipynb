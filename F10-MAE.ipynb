{
 "cells": [
  {
   "cell_type": "code",
   "execution_count": 85,
   "id": "3c8e9a93-3d66-4eee-a5b6-45af79d2145f",
   "metadata": {},
   "outputs": [],
   "source": [
    "import pandas as pd\n",
    "\n",
    "X = pd.read_csv('data/Xtr6.csv')\n",
    "y = pd.read_csv('data/Ytr1.csv')\n",
    "Xte = pd.read_csv('data/Xte6.csv')\n",
    "pred = pd.read_csv('data/pred.csv')"
   ]
  },
  {
   "cell_type": "code",
   "execution_count": 6,
   "id": "047b78b3-a5b7-4c84-925d-fc0946d5bbcf",
   "metadata": {},
   "outputs": [],
   "source": [
    "# MAE calculation\n",
    "# sum(abs(y*-y))/n\n",
    "\n",
    "from sklearn.metrics import mean_absolute_error\n",
    "import numpy as np\n",
    "from sklearn.model_selection import KFold\n",
    "from sklearn.model_selection import train_test_split"
   ]
  },
  {
   "cell_type": "code",
   "execution_count": 48,
   "id": "ebdf3aaa-1023-4d7c-b7bd-5fca2bb566f8",
   "metadata": {},
   "outputs": [],
   "source": [
    "cv = KFold(n_splits = 10, random_state = 1, shuffle = True)"
   ]
  },
  {
   "cell_type": "code",
   "execution_count": 161,
   "id": "cd8d16c6-707e-4b18-8de0-4b0101e40a03",
   "metadata": {},
   "outputs": [],
   "source": [
    "X_train, X_test, y_train, y_test = train_test_split(X,y, test_size = 0.1, random_state = 42)"
   ]
  },
  {
   "cell_type": "code",
   "execution_count": 75,
   "id": "64070a28-1148-48c1-9d45-6d4f81da8fa9",
   "metadata": {},
   "outputs": [
    {
     "data": {
      "text/plain": [
       "(692, 21)"
      ]
     },
     "execution_count": 75,
     "metadata": {},
     "output_type": "execute_result"
    }
   ],
   "source": [
    "X_test.shape"
   ]
  },
  {
   "cell_type": "code",
   "execution_count": 99,
   "id": "b175bba8-1c80-42eb-90fa-bb7777d8b98a",
   "metadata": {},
   "outputs": [
    {
     "name": "stdout",
     "output_type": "stream",
     "text": [
      "<class 'sklearn.linear_model._base.LinearRegression'>, mae = 179.1456, model score = -44908.2886\n"
     ]
    }
   ],
   "source": [
    "from sklearn.linear_model import LinearRegression\n",
    "\n",
    "model = LinearRegression(fit_intercept = False)\n",
    "model.fit(X_train,y_train)\n",
    "#print(model.score(X_test,y_test))\n",
    "\n",
    "print('%s, mae = %.4f, model score = %.4f' % (type(model),mean_absolute_error(y_test,model.predict(X_test)),model.score(X_test,y_test)))"
   ]
  },
  {
   "cell_type": "code",
   "execution_count": 98,
   "id": "35f50e21-53bc-4b10-a821-a0c80ca83ce7",
   "metadata": {},
   "outputs": [
    {
     "name": "stdout",
     "output_type": "stream",
     "text": [
      "<class 'sklearn.linear_model._stochastic_gradient.SGDRegressor'>, mae = 0.1690, model score = -0.0161\n"
     ]
    },
    {
     "name": "stderr",
     "output_type": "stream",
     "text": [
      "C:\\Users\\Benson\\anaconda3\\envs\\tf\\lib\\site-packages\\sklearn\\utils\\validation.py:985: DataConversionWarning: A column-vector y was passed when a 1d array was expected. Please change the shape of y to (n_samples, ), for example using ravel().\n",
      "  y = column_or_1d(y, warn=True)\n"
     ]
    }
   ],
   "source": [
    "from sklearn.preprocessing import StandardScaler\n",
    "scaler = StandardScaler()\n",
    "X_train = scaler.fit_transform(X_train)\n",
    "y_train = scaler.fit_transform(y_train)\n",
    "X_test = scaler.fit_transform(X_test)\n",
    "y_test = scaler.fit_transform(y_test)\n",
    "\n",
    "model = SGDRegressor(loss = 'epsilon_insensitive', alpha = 0, epsilon = 0).fit(X_train,y_train)\n",
    "print('%s, mae = %.4f, model score = %.4f' % (type(model),mean_absolute_error(y_test,model.predict(X_test)),model.score(X_test,y_test)))"
   ]
  },
  {
   "cell_type": "code",
   "execution_count": 100,
   "id": "fc8743ce-c4e2-4891-8e5c-0ddaf3d5c5b8",
   "metadata": {},
   "outputs": [
    {
     "name": "stdout",
     "output_type": "stream",
     "text": [
      "<class 'sklearn.pipeline.Pipeline'>, mae = 167883319.2463, model score = -4118944683734565888.0000\n"
     ]
    }
   ],
   "source": [
    "from sklearn.pipeline import make_pipeline\n",
    "from sklearn.preprocessing import PolynomialFeatures\n",
    "from sklearn.preprocessing import MinMaxScaler\n",
    "\n",
    "\n",
    "model = make_pipeline(\n",
    "    MinMaxScaler(),\n",
    "    PolynomialFeatures(degree = 3, include_bias = True),\n",
    "    LinearRegression(fit_intercept = False)\n",
    ")\n",
    "model.fit(X_train,y_train)\n",
    "#print(model.score(X_test,y_test))\n",
    "\n",
    "print('%s, mae = %.4f, model score = %.4f' % (type(model),mean_absolute_error(y_test,model.predict(X_test)),model.score(X_test,y_test)))"
   ]
  },
  {
   "cell_type": "code",
   "execution_count": 127,
   "id": "33ad97e7-9e28-4e2c-93d0-a2a2fe59ce09",
   "metadata": {},
   "outputs": [
    {
     "name": "stdout",
     "output_type": "stream",
     "text": [
      "<class 'sklearn.neighbors._regression.KNeighborsRegressor'>, mae = 0.1789, model score = -0.1025\n"
     ]
    }
   ],
   "source": [
    "from sklearn.neighbors import KNeighborsRegressor\n",
    "\n",
    "model=KNeighborsRegressor(1).fit(X_train,y_train)\n",
    "print('%s, mae = %.4f, model score = %.4f' % (type(model),mean_absolute_error(y_test,model.predict(X_test)),model.score(X_test,y_test)))"
   ]
  },
  {
   "cell_type": "code",
   "execution_count": 130,
   "id": "e3c02759-ce9b-42c0-8634-90eef277a707",
   "metadata": {},
   "outputs": [],
   "source": [
    "model=KNeighborsRegressor(1).fit(X,y)\n",
    "pred9 = pred.copy()\n",
    "pred9['total'] = model.predict(Xte)\n",
    "pred9.to_csv('data/pred9.csv', index = False)"
   ]
  },
  {
   "cell_type": "code",
   "execution_count": 131,
   "id": "5e9917fe-491a-4f35-a176-8de3930ab1c7",
   "metadata": {},
   "outputs": [
    {
     "name": "stderr",
     "output_type": "stream",
     "text": [
      "C:\\Users\\Benson\\AppData\\Local\\Temp/ipykernel_10092/3031114044.py:2: DataConversionWarning: A column-vector y was passed when a 1d array was expected. Please change the shape of y to (n_samples,), for example using ravel().\n",
      "  model = RandomForestRegressor(30,max_depth = 4).fit(X_train,y_train)\n"
     ]
    },
    {
     "name": "stdout",
     "output_type": "stream",
     "text": [
      "<class 'sklearn.ensemble._forest.RandomForestRegressor'>, mae = 0.4995, model score = -0.1360\n"
     ]
    }
   ],
   "source": [
    "from sklearn.ensemble import RandomForestRegressor\n",
    "model = RandomForestRegressor(30,max_depth = 4).fit(X_train,y_train)\n",
    "print('%s, mae = %.4f, model score = %.4f' % (type(model),mean_absolute_error(y_test,model.predict(X_test)),model.score(X_test,y_test)))"
   ]
  },
  {
   "cell_type": "code",
   "execution_count": 132,
   "id": "6ebb1d09-3b99-4207-8a04-34cb48291d31",
   "metadata": {},
   "outputs": [
    {
     "name": "stderr",
     "output_type": "stream",
     "text": [
      "C:\\Users\\Benson\\anaconda3\\envs\\tf\\lib\\site-packages\\sklearn\\neural_network\\_multilayer_perceptron.py:1599: DataConversionWarning: A column-vector y was passed when a 1d array was expected. Please change the shape of y to (n_samples, ), for example using ravel().\n",
      "  y = column_or_1d(y, warn=True)\n"
     ]
    },
    {
     "name": "stdout",
     "output_type": "stream",
     "text": [
      "<class 'sklearn.neural_network._multilayer_perceptron.MLPRegressor'>, mae = 0.2801, model score = -0.7634\n"
     ]
    },
    {
     "name": "stderr",
     "output_type": "stream",
     "text": [
      "C:\\Users\\Benson\\anaconda3\\envs\\tf\\lib\\site-packages\\sklearn\\neural_network\\_multilayer_perceptron.py:549: ConvergenceWarning: lbfgs failed to converge (status=1):\n",
      "STOP: TOTAL NO. of ITERATIONS REACHED LIMIT.\n",
      "\n",
      "Increase the number of iterations (max_iter) or scale the data as shown in:\n",
      "    https://scikit-learn.org/stable/modules/preprocessing.html\n",
      "  self.n_iter_ = _check_optimize_result(\"lbfgs\", opt_res, self.max_iter)\n"
     ]
    }
   ],
   "source": [
    "from sklearn.neural_network import MLPRegressor\n",
    "model = MLPRegressor(hidden_layer_sizes = (8,6), activation = 'logistic', solver = 'lbfgs').fit(X_train,y_train)\n",
    "print('%s, mae = %.4f, model score = %.4f' % (type(model),mean_absolute_error(y_test,model.predict(X_test)),model.score(X_test,y_test)))"
   ]
  },
  {
   "cell_type": "code",
   "execution_count": 151,
   "id": "fcd8c94e-d774-4bf8-8c36-aafed21007b9",
   "metadata": {},
   "outputs": [
    {
     "data": {
      "text/html": [
       "<div>\n",
       "<style scoped>\n",
       "    .dataframe tbody tr th:only-of-type {\n",
       "        vertical-align: middle;\n",
       "    }\n",
       "\n",
       "    .dataframe tbody tr th {\n",
       "        vertical-align: top;\n",
       "    }\n",
       "\n",
       "    .dataframe thead th {\n",
       "        text-align: right;\n",
       "    }\n",
       "</style>\n",
       "<table border=\"1\" class=\"dataframe\">\n",
       "  <thead>\n",
       "    <tr style=\"text-align: right;\">\n",
       "      <th></th>\n",
       "      <th>fi1</th>\n",
       "      <th>fi2</th>\n",
       "      <th>fi3</th>\n",
       "      <th>fi4</th>\n",
       "      <th>fi5</th>\n",
       "      <th>fi6</th>\n",
       "      <th>fi7</th>\n",
       "    </tr>\n",
       "  </thead>\n",
       "  <tbody>\n",
       "    <tr>\n",
       "      <th>0</th>\n",
       "      <td>15.0</td>\n",
       "      <td>15.0</td>\n",
       "      <td>140.476667</td>\n",
       "      <td>1.0</td>\n",
       "      <td>77.377778</td>\n",
       "      <td>118.466667</td>\n",
       "      <td>122.182222</td>\n",
       "    </tr>\n",
       "    <tr>\n",
       "      <th>1</th>\n",
       "      <td>21.0</td>\n",
       "      <td>15.0</td>\n",
       "      <td>167.661376</td>\n",
       "      <td>3.0</td>\n",
       "      <td>205.847619</td>\n",
       "      <td>156.717460</td>\n",
       "      <td>140.419048</td>\n",
       "    </tr>\n",
       "    <tr>\n",
       "      <th>2</th>\n",
       "      <td>0.0</td>\n",
       "      <td>0.0</td>\n",
       "      <td>0.000000</td>\n",
       "      <td>0.0</td>\n",
       "      <td>0.000000</td>\n",
       "      <td>0.000000</td>\n",
       "      <td>0.000000</td>\n",
       "    </tr>\n",
       "    <tr>\n",
       "      <th>3</th>\n",
       "      <td>0.0</td>\n",
       "      <td>0.0</td>\n",
       "      <td>0.000000</td>\n",
       "      <td>0.0</td>\n",
       "      <td>0.000000</td>\n",
       "      <td>0.000000</td>\n",
       "      <td>0.000000</td>\n",
       "    </tr>\n",
       "    <tr>\n",
       "      <th>4</th>\n",
       "      <td>15.0</td>\n",
       "      <td>15.0</td>\n",
       "      <td>174.823704</td>\n",
       "      <td>17.0</td>\n",
       "      <td>127.768889</td>\n",
       "      <td>195.306667</td>\n",
       "      <td>201.395556</td>\n",
       "    </tr>\n",
       "    <tr>\n",
       "      <th>...</th>\n",
       "      <td>...</td>\n",
       "      <td>...</td>\n",
       "      <td>...</td>\n",
       "      <td>...</td>\n",
       "      <td>...</td>\n",
       "      <td>...</td>\n",
       "      <td>...</td>\n",
       "    </tr>\n",
       "    <tr>\n",
       "      <th>6909</th>\n",
       "      <td>0.0</td>\n",
       "      <td>0.0</td>\n",
       "      <td>0.000000</td>\n",
       "      <td>0.0</td>\n",
       "      <td>0.000000</td>\n",
       "      <td>0.000000</td>\n",
       "      <td>0.000000</td>\n",
       "    </tr>\n",
       "    <tr>\n",
       "      <th>6910</th>\n",
       "      <td>0.0</td>\n",
       "      <td>0.0</td>\n",
       "      <td>0.000000</td>\n",
       "      <td>0.0</td>\n",
       "      <td>0.000000</td>\n",
       "      <td>0.000000</td>\n",
       "      <td>0.000000</td>\n",
       "    </tr>\n",
       "    <tr>\n",
       "      <th>6911</th>\n",
       "      <td>14.0</td>\n",
       "      <td>15.0</td>\n",
       "      <td>169.058333</td>\n",
       "      <td>32.0</td>\n",
       "      <td>47.142857</td>\n",
       "      <td>155.347619</td>\n",
       "      <td>219.523810</td>\n",
       "    </tr>\n",
       "    <tr>\n",
       "      <th>6912</th>\n",
       "      <td>15.0</td>\n",
       "      <td>15.0</td>\n",
       "      <td>139.563333</td>\n",
       "      <td>0.0</td>\n",
       "      <td>188.173333</td>\n",
       "      <td>89.848889</td>\n",
       "      <td>25.231111</td>\n",
       "    </tr>\n",
       "    <tr>\n",
       "      <th>6913</th>\n",
       "      <td>23.0</td>\n",
       "      <td>15.0</td>\n",
       "      <td>93.733333</td>\n",
       "      <td>14.0</td>\n",
       "      <td>39.481159</td>\n",
       "      <td>40.939130</td>\n",
       "      <td>39.513043</td>\n",
       "    </tr>\n",
       "  </tbody>\n",
       "</table>\n",
       "<p>6914 rows × 7 columns</p>\n",
       "</div>"
      ],
      "text/plain": [
       "       fi1   fi2         fi3   fi4         fi5         fi6         fi7\n",
       "0     15.0  15.0  140.476667   1.0   77.377778  118.466667  122.182222\n",
       "1     21.0  15.0  167.661376   3.0  205.847619  156.717460  140.419048\n",
       "2      0.0   0.0    0.000000   0.0    0.000000    0.000000    0.000000\n",
       "3      0.0   0.0    0.000000   0.0    0.000000    0.000000    0.000000\n",
       "4     15.0  15.0  174.823704  17.0  127.768889  195.306667  201.395556\n",
       "...    ...   ...         ...   ...         ...         ...         ...\n",
       "6909   0.0   0.0    0.000000   0.0    0.000000    0.000000    0.000000\n",
       "6910   0.0   0.0    0.000000   0.0    0.000000    0.000000    0.000000\n",
       "6911  14.0  15.0  169.058333  32.0   47.142857  155.347619  219.523810\n",
       "6912  15.0  15.0  139.563333   0.0  188.173333   89.848889   25.231111\n",
       "6913  23.0  15.0   93.733333  14.0   39.481159   40.939130   39.513043\n",
       "\n",
       "[6914 rows x 7 columns]"
      ]
     },
     "execution_count": 151,
     "metadata": {},
     "output_type": "execute_result"
    }
   ],
   "source": [
    "X[['fi1','fi2','fi3','fi4','fi5','fi6','fi7']]\n",
    "# 1 width, 2 height, 3 mean intensity, 4 darkest,\n",
    "# 5 mean R, 6 mean G, 7 mean B"
   ]
  },
  {
   "cell_type": "code",
   "execution_count": null,
   "id": "ac72cee9-d6a3-4ef9-836c-a555f5da7971",
   "metadata": {},
   "outputs": [],
   "source": [
    "channels = \n",
    "filters = np.zeros(shape = (7,7,channels,2))"
   ]
  },
  {
   "cell_type": "code",
   "execution_count": 152,
   "id": "f0037bb8-3d8c-44fe-8e6e-7990b06a19e1",
   "metadata": {},
   "outputs": [
    {
     "name": "stdout",
     "output_type": "stream",
     "text": [
      "Model: \"sequential\"\n",
      "_________________________________________________________________\n",
      "Layer (type)                 Output Shape              Param #   \n",
      "=================================================================\n",
      "conv2d (Conv2D)              (16, 10, 10, 64)          256       \n",
      "=================================================================\n",
      "Total params: 256\n",
      "Trainable params: 256\n",
      "Non-trainable params: 0\n",
      "_________________________________________________________________\n"
     ]
    }
   ],
   "source": [
    "import tensorflow as tf\n",
    "from tensorflow.keras.layers import Conv2D\n",
    "\n",
    "model = tf.keras.models.Sequential()\n",
    "model.add(Conv2D(filters=64, kernel_size = 1, batch_input_shape = (16,10,10,3)))\n",
    "model.summary()"
   ]
  },
  {
   "cell_type": "code",
   "execution_count": null,
   "id": "18e0d67c-ee25-4a6a-a617-8b692bac5813",
   "metadata": {},
   "outputs": [],
   "source": [
    "model = keras.models.Sequential([\n",
    "    keras.layers.Flatten(input_shape=[6914, 21]),\n",
    "    keras.layers.Dense(300, activation=\"relu\"),\n",
    "    keras.layers.Dense(100, activation=\"relu\"),\n",
    "    keras.layers.Dense(10, activation=\"softmax\")\n",
    "])\n",
    "\n",
    "model.compile(loss=\"sparse_categorical_crossentropy\",\n",
    "optimizer=\"sgd\", metrics=[\"accuracy\"])\n",
    "\n",
    "history = model.fit(Xtr5, Ytr1, epochs=30)"
   ]
  },
  {
   "cell_type": "code",
   "execution_count": 168,
   "id": "9ea7ffe8-88cf-4cc1-bc27-cd05d7d23d2a",
   "metadata": {},
   "outputs": [
    {
     "name": "stdout",
     "output_type": "stream",
     "text": [
      "Fitting 3 folds for each of 100 candidates, totalling 300 fits\n"
     ]
    },
    {
     "name": "stderr",
     "output_type": "stream",
     "text": [
      "C:\\Users\\Benson\\anaconda3\\envs\\tf\\lib\\site-packages\\sklearn\\model_selection\\_search.py:926: DataConversionWarning: A column-vector y was passed when a 1d array was expected. Please change the shape of y to (n_samples,), for example using ravel().\n",
      "  self.best_estimator_.fit(X, y, **fit_params)\n"
     ]
    },
    {
     "data": {
      "text/plain": [
       "RandomizedSearchCV(cv=3, estimator=RandomForestRegressor(), n_iter=100,\n",
       "                   n_jobs=-1,\n",
       "                   param_distributions={'bootstrap': [True, False],\n",
       "                                        'max_depth': [10, 20, 30, 40, 50, 60,\n",
       "                                                      70, 80, 90, 100, 110,\n",
       "                                                      None],\n",
       "                                        'max_features': ['auto', 'sqrt'],\n",
       "                                        'min_samples_leaf': [1, 2, 4],\n",
       "                                        'min_samples_split': [2, 5, 10],\n",
       "                                        'n_estimators': [200, 400, 600, 800,\n",
       "                                                         1000, 1200, 1400, 1600,\n",
       "                                                         1800, 2000]},\n",
       "                   random_state=42, verbose=2)"
      ]
     },
     "execution_count": 168,
     "metadata": {},
     "output_type": "execute_result"
    }
   ],
   "source": [
    "from sklearn.model_selection import RandomizedSearchCV\n",
    "\n",
    "n_estimators = [int(x) for x in np.linspace(start = 200, stop = 2000, num = 10)]\n",
    "# Number of features to consider at every split\n",
    "max_features = ['auto', 'sqrt']\n",
    "# Maximum number of levels in tree\n",
    "max_depth = [int(x) for x in np.linspace(10, 110, num = 11)]\n",
    "max_depth.append(None)\n",
    "# Minimum number of samples required to split a node\n",
    "min_samples_split = [2, 5, 10]\n",
    "# Minimum number of samples required at each leaf node\n",
    "min_samples_leaf = [1, 2, 4]\n",
    "# Method of selecting samples for training each tree\n",
    "bootstrap = [True, False]\n",
    "# Create the random grid\n",
    "random_grid = {'n_estimators': n_estimators,\n",
    "               'max_features': max_features,\n",
    "               'max_depth': max_depth,\n",
    "               'min_samples_split': min_samples_split,\n",
    "               'min_samples_leaf': min_samples_leaf,\n",
    "               'bootstrap': bootstrap}\n",
    "# Use the random grid to search for best hyperparameters\n",
    "# First create the base model to tune\n",
    "rf = RandomForestRegressor()\n",
    "# Random search of parameters, using 3 fold cross validation, \n",
    "# search across 100 different combinations, and use all available cores\n",
    "rf_random = RandomizedSearchCV(estimator = rf, param_distributions = random_grid, n_iter = 100, cv = 3, verbose=2, random_state=42, n_jobs = -1)\n",
    "# Fit the random search model\n",
    "rf_random.fit(Rf_Xtr, y_train)"
   ]
  },
  {
   "cell_type": "code",
   "execution_count": 169,
   "id": "23b09685-c35a-4095-a5c2-56f477c18194",
   "metadata": {},
   "outputs": [
    {
     "name": "stdout",
     "output_type": "stream",
     "text": [
      "<class 'sklearn.model_selection._search.RandomizedSearchCV'>, mae = 18.1506, model score = -0.0524\n"
     ]
    }
   ],
   "source": [
    "print('%s, mae = %.4f, model score = %.4f' % (type(rf_random),mean_absolute_error(y_test,rf_random.predict(Rf_Xte)),rf_random.score(Rf_Xte,y_test)))"
   ]
  },
  {
   "cell_type": "code",
   "execution_count": 171,
   "id": "08180393-2521-4835-bcc7-657c7a53ce5e",
   "metadata": {},
   "outputs": [],
   "source": [
    "predX = Xte[['fi3','fi6','FT0008']].copy()\n",
    "\n",
    "predrf = pred.copy()\n",
    "predrf['total'] = rf_random.predict(predX)\n",
    "predrf.to_csv('data/predrf.csv', index = False)"
   ]
  },
  {
   "cell_type": "code",
   "execution_count": 164,
   "id": "6ac9fd9d-14a6-47d4-9665-665720d24aa1",
   "metadata": {},
   "outputs": [
    {
     "name": "stderr",
     "output_type": "stream",
     "text": [
      "C:\\Users\\Benson\\AppData\\Local\\Temp/ipykernel_10092/97138366.py:3: DataConversionWarning: A column-vector y was passed when a 1d array was expected. Please change the shape of y to (n_samples,), for example using ravel().\n",
      "  model = RandomForestRegressor(n_estimators = 500, max_leaf_nodes = 16, n_jobs = -1).fit(Rf_Xtr,y_train)\n"
     ]
    },
    {
     "name": "stdout",
     "output_type": "stream",
     "text": [
      "<class 'sklearn.ensemble._forest.RandomForestRegressor'>, mae = 18.1794, model score = 0.0113\n"
     ]
    }
   ],
   "source": [
    "Rf_Xtr = X_train[['fi3','fi6','FT0008']].copy()\n",
    "Rf_Xte = X_test[['fi3','fi6','FT0008']].copy()\n",
    "model = RandomForestRegressor(n_estimators = 500, max_leaf_nodes = 16, n_jobs = -1).fit(Rf_Xtr,y_train)\n",
    "print('%s, mae = %.4f, model score = %.4f' % (type(model),mean_absolute_error(y_test,model.predict(Rf_Xte)),model.score(Rf_Xte,y_test)))"
   ]
  },
  {
   "cell_type": "code",
   "execution_count": 160,
   "id": "17b50d02-6cc9-45fc-82ce-f013c8ed6dc1",
   "metadata": {},
   "outputs": [
    {
     "data": {
      "text/plain": [
       "array([[-0.04780448, -0.77880773,  0.94426355, ..., -0.39812038,\n",
       "        -0.41385162, -0.32659447],\n",
       "       [-0.05780884, -0.02344745,  0.20116272, ..., -0.40606454,\n",
       "        -0.42169101, -0.33494897],\n",
       "       [-0.07781755, -0.77880773,  0.94426355, ..., -0.40018493,\n",
       "        -0.41588895, -0.32876567],\n",
       "       ...,\n",
       "       [-0.07781755,  1.50088322,  0.94426355, ...,  3.97311513,\n",
       "        -0.40480898, -0.3169528 ],\n",
       "       [-0.07781755, -0.77880773,  0.94426355, ..., -0.39751071,\n",
       "        -0.41324999, -0.32595331],\n",
       "       [-0.07781755,  0.56178665, -0.39331794, ..., -0.299137  ,\n",
       "        -0.31618286, -0.22250811]])"
      ]
     },
     "execution_count": 160,
     "metadata": {},
     "output_type": "execute_result"
    }
   ],
   "source": []
  },
  {
   "cell_type": "code",
   "execution_count": 134,
   "id": "c32b768e-d8e9-4660-957d-f2004deab29b",
   "metadata": {},
   "outputs": [
    {
     "name": "stdout",
     "output_type": "stream",
     "text": [
      "1 -0.10245954038900207\n"
     ]
    }
   ],
   "source": [
    "best = 1\n",
    "score = 0\n",
    "bestmae = 0\n",
    "for k in range(1,50):\n",
    "    model=KNeighborsRegressor(k).fit(X_train,y_train)\n",
    "    mae = mean_absolute_error(y_test,model.predict(X_test))\n",
    "    if k==1:\n",
    "        bestmae = mae\n",
    "        score = model.score(X_test,y_test)\n",
    "    elif bestmae > mae:\n",
    "        best = k\n",
    "        score = model.score(X_test,y_test)\n",
    "    \n",
    "print(best,score)"
   ]
  },
  {
   "cell_type": "code",
   "execution_count": 125,
   "id": "72b06d1d-dbc7-47f1-a8d4-cfb6cdbf118d",
   "metadata": {},
   "outputs": [
    {
     "name": "stdout",
     "output_type": "stream",
     "text": [
      "1\n",
      "2\n",
      "3\n",
      "4\n",
      "5\n",
      "6\n",
      "7\n",
      "8\n",
      "9\n"
     ]
    }
   ],
   "source": []
  },
  {
   "cell_type": "code",
   "execution_count": 81,
   "id": "fbc1bbbe-73c1-4cbb-9e76-0f918dfb2989",
   "metadata": {},
   "outputs": [],
   "source": [
    "def get_models():\n",
    "    models = list()\n",
    "    models.append(LinearRegression())\n",
    "    models.append(SGDRegressor())\n",
    "    return models"
   ]
  },
  {
   "cell_type": "code",
   "execution_count": 83,
   "id": "8b2ab0fb-abc8-4b81-a07b-395a19cd7a29",
   "metadata": {},
   "outputs": [
    {
     "name": "stdout",
     "output_type": "stream",
     "text": [
      "<class 'sklearn.linear_model._base.LinearRegression'>, mae = 22.7378\n",
      "<class 'sklearn.linear_model._stochastic_gradient.SGDRegressor'>, mae = 125623007904935920.0000\n"
     ]
    },
    {
     "name": "stderr",
     "output_type": "stream",
     "text": [
      "C:\\Users\\Benson\\anaconda3\\envs\\tf\\lib\\site-packages\\sklearn\\utils\\validation.py:985: DataConversionWarning: A column-vector y was passed when a 1d array was expected. Please change the shape of y to (n_samples, ), for example using ravel().\n",
      "  y = column_or_1d(y, warn=True)\n"
     ]
    }
   ],
   "source": [
    "from sklearn.linear_model import SGDRegressor\n",
    "from sklearn.linear_model import LinearRegression\n",
    "\n",
    "models = get_models()\n",
    "\n",
    "for model in models:\n",
    "    mdl = model\n",
    "    mdl.fit(X_train, y_train)\n",
    "    print('%s, mae = %.4f' % (type(mdl),mean_absolute_error(y_test,model.predict(X_test))) )"
   ]
  },
  {
   "cell_type": "code",
   "execution_count": 155,
   "id": "f6f165be-8ae5-4a8c-b120-09a2b77521c3",
   "metadata": {},
   "outputs": [],
   "source": [
    "(X_train_full,y_train_full),(X_test_full,y_test_full)=tf.keras.datasets.mnist.load_data()\n",
    "\n",
    "\n"
   ]
  },
  {
   "cell_type": "code",
   "execution_count": 1,
   "id": "e30045d0-2e07-4354-bfde-4503d63c80b2",
   "metadata": {},
   "outputs": [],
   "source": [
    "# Make corpus and vocab\n",
    "from sklearn.feature_extraction.text import CountVectorizer\n",
    "from sklearn.decomposition import LatentDirichletAllocation\n",
    "import pandas as pd\n",
    "\n",
    "XYtr = pd.read_csv('data/XYtr.csv')\n",
    "Xte = pd.read_csv('data/Xte.csv')\n",
    "\n",
    "K = 10\n",
    "XYtr['description'] = XYtr['description'].fillna(\"NAN\")\n",
    "Xte['description'] = Xte['description'].fillna(\"NAN\")\n",
    "corpus = list(XYtr['description'])+list(Xte['description'])\n",
    "vectorizer = CountVectorizer()\n",
    "bow = vectorizer.fit_transform(corpus)\n",
    "\n",
    "# https://stackoverflow.com/questions/62777131/how-to-remove-frequent-infrequent-features-from-sklearn-countvectorizer \n",
    "# Code to remove top X% most frequent words (use this to remove stop words).\n",
    "\n",
    "total_features = len(vectorizer.vocabulary_)\n",
    "top_vect = CountVectorizer(max_features=int(total_features * 0.1))\n",
    "top_bow = top_vect.fit_transform(corpus)\n",
    "\n",
    "# Create a list of (term, frequency) tuples sorted by their frequency\n",
    "sum_words = bow.sum(axis=0) \n",
    "words_freq = [(word, sum_words[0, idx]) for word, idx in vectorizer.vocabulary_.items()]\n",
    "words_freq = sorted(words_freq, key = lambda x: x[1], reverse = True)\n",
    "\n",
    "# Keep only the terms in a list\n",
    "vocabulary, _ = zip(*words_freq[:int(total_features*0.9)])\n",
    "vocabulary = list(vocabulary)\n",
    "\n",
    "bottom_vect = CountVectorizer(vocabulary=vocabulary)\n",
    "corpus = bottom_vect.fit_transform(corpus)"
   ]
  },
  {
   "cell_type": "code",
   "execution_count": 2,
   "id": "975dcaf5-112b-4322-91a6-4385855d6a59",
   "metadata": {},
   "outputs": [
    {
     "data": {
      "text/plain": [
       "array([[0.25710412, 0.33725878, 0.00625072, ..., 0.00625065, 0.26083832,\n",
       "        0.00625084],\n",
       "       [0.03335139, 0.03335086, 0.03334237, ..., 0.03334682, 0.03334283,\n",
       "        0.03333608],\n",
       "       [0.00357164, 0.00357169, 0.00357191, ..., 0.96785524, 0.00357156,\n",
       "        0.00357162],\n",
       "       ...,\n",
       "       [0.00312523, 0.00312525, 0.00312538, ..., 0.97187328, 0.00312513,\n",
       "        0.00312519],\n",
       "       [0.00357213, 0.15779698, 0.0035719 , ..., 0.00357235, 0.00357211,\n",
       "        0.00357185],\n",
       "       [0.0038464 , 0.00384646, 0.00384679, ..., 0.96538233, 0.00384631,\n",
       "        0.00384637]])"
      ]
     },
     "execution_count": 2,
     "metadata": {},
     "output_type": "execute_result"
    }
   ],
   "source": [
    "lda = LatentDirichletAllocation(n_components = K)\n",
    "lda.fit(top_bow)\n",
    "topics = lda.transform(top_bow)\n",
    "N = XYtr.shape[0]\n",
    "topics"
   ]
  },
  {
   "cell_type": "code",
   "execution_count": 29,
   "id": "d6259794-fdc6-4092-905d-a9f4fc46c01a",
   "metadata": {},
   "outputs": [
    {
     "data": {
      "text/plain": [
       "6914.0"
      ]
     },
     "execution_count": 29,
     "metadata": {},
     "output_type": "execute_result"
    }
   ],
   "source": []
  },
  {
   "cell_type": "code",
   "execution_count": 30,
   "id": "0fdd7f89-1c5d-4f8d-b653-f7cece34fd68",
   "metadata": {},
   "outputs": [
    {
     "data": {
      "text/plain": [
       "0       0.257104\n",
       "1       0.033351\n",
       "2       0.003572\n",
       "3       0.004000\n",
       "4       0.050000\n",
       "          ...   \n",
       "6909    0.001613\n",
       "6910    0.003125\n",
       "6911    0.002083\n",
       "6912    0.006667\n",
       "6913    0.050000\n",
       "Name: FT0000, Length: 6914, dtype: float64"
      ]
     },
     "execution_count": 30,
     "metadata": {},
     "output_type": "execute_result"
    }
   ],
   "source": [
    "test = X.copy()\n",
    "test['FT0000'] = topics[:6914,0]\n",
    "test['FT0000']"
   ]
  },
  {
   "cell_type": "code",
   "execution_count": 5,
   "id": "92181a8b-6a1d-4c2d-a043-34e9ffc84a65",
   "metadata": {},
   "outputs": [
    {
     "data": {
      "text/plain": [
       "array([[ 1.43161588,  0.24652816,  0.22177263, ..., -0.099876  ,\n",
       "         0.61554848,  0.08718529],\n",
       "       [ 0.30409655,  0.01669452,  0.00810491, ...,  0.02971258,\n",
       "         0.43923616, -0.40024301],\n",
       "       [ 3.3261478 , -3.94115388,  0.64714994, ...,  0.51371678,\n",
       "         0.19499146,  0.2492913 ],\n",
       "       ...,\n",
       "       [ 3.83330391, -4.30734439, -0.62177378, ..., -0.55939886,\n",
       "        -0.40326657, -0.14368511],\n",
       "       [ 2.60179376,  0.44996714, -0.66797108, ..., -0.10036708,\n",
       "         0.65804169, -0.00762425],\n",
       "       [ 3.32251887, -3.9228537 ,  0.63664996, ...,  0.49619847,\n",
       "         0.18795062,  0.23923515]])"
      ]
     },
     "execution_count": 5,
     "metadata": {},
     "output_type": "execute_result"
    }
   ],
   "source": [
    "from sklearn.decomposition import TruncatedSVD\n",
    "from scipy.sparse import csr_matrix\n",
    "\n",
    "model = TruncatedSVD(n_components=K, n_iter=7, random_state=0)\n",
    "model.fit(top_bow)\n",
    "topics = model.transform(top_bow)\n",
    "topics  "
   ]
  },
  {
   "cell_type": "code",
   "execution_count": 3,
   "id": "e8bc40d2-6584-4619-8bb1-fe6380c103b6",
   "metadata": {},
   "outputs": [],
   "source": [
    "fp = open('data/lda-tr.csv', 'w')\n",
    "fp.write('id')\n",
    "for k in range(K):\n",
    "    fp.write(',FT%04d' % k)\n",
    "\n",
    "fp.write('\\n')\n",
    "for i in range(N):\n",
    "    id = XYtr.loc[i,'id']\n",
    "    fp.write('%s' % id)\n",
    "    for k in range(K):\n",
    "        fp.write(',%f' % topics[i, k])\n",
    "    \n",
    "    fp.write('\\n')\n",
    "\n",
    "fp.close()    \n",
    "\n",
    "fp = open('data/lda-te.csv', 'w')\n",
    "fp.write('id')\n",
    "for k in range(K):\n",
    "    fp.write(',FT%04d' % k)\n",
    "\n",
    "fp.write('\\n')\n",
    "for i in range(N):\n",
    "    id = Xte.loc[i,'id']\n",
    "    fp.write('%s' % id)\n",
    "    for k in range(K):\n",
    "        fp.write(',%f' % topics[i + N, k])\n",
    "    \n",
    "    fp.write('\\n')\n",
    "\n",
    "fp.close()"
   ]
  },
  {
   "cell_type": "code",
   "execution_count": 8,
   "id": "6ee7b43a-6dca-4869-9369-8a1623f124e7",
   "metadata": {},
   "outputs": [],
   "source": [
    "tsvd_tr = pd.read_csv('data/tsvd-tr.csv')\n",
    "tsvd_te = pd.read_csv('data/tsvd-te.csv')"
   ]
  },
  {
   "cell_type": "code",
   "execution_count": 12,
   "id": "9ab771b5-a0b8-4f14-9931-a4f3b2eccf46",
   "metadata": {},
   "outputs": [
    {
     "data": {
      "text/html": [
       "<div>\n",
       "<style scoped>\n",
       "    .dataframe tbody tr th:only-of-type {\n",
       "        vertical-align: middle;\n",
       "    }\n",
       "\n",
       "    .dataframe tbody tr th {\n",
       "        vertical-align: top;\n",
       "    }\n",
       "\n",
       "    .dataframe thead th {\n",
       "        text-align: right;\n",
       "    }\n",
       "</style>\n",
       "<table border=\"1\" class=\"dataframe\">\n",
       "  <thead>\n",
       "    <tr style=\"text-align: right;\">\n",
       "      <th></th>\n",
       "      <th>id</th>\n",
       "      <th>FT0000</th>\n",
       "      <th>FT0001</th>\n",
       "      <th>FT0002</th>\n",
       "      <th>FT0003</th>\n",
       "      <th>FT0004</th>\n",
       "      <th>FT0005</th>\n",
       "      <th>FT0006</th>\n",
       "      <th>FT0007</th>\n",
       "      <th>FT0008</th>\n",
       "      <th>FT0009</th>\n",
       "    </tr>\n",
       "  </thead>\n",
       "  <tbody>\n",
       "    <tr>\n",
       "      <th>0</th>\n",
       "      <td>a44a5f4c5e13910205404271e750e7bc</td>\n",
       "      <td>1.431616</td>\n",
       "      <td>0.246528</td>\n",
       "      <td>0.221773</td>\n",
       "      <td>0.021017</td>\n",
       "      <td>0.261604</td>\n",
       "      <td>-0.125615</td>\n",
       "      <td>-0.352360</td>\n",
       "      <td>-0.099876</td>\n",
       "      <td>0.615548</td>\n",
       "      <td>0.087185</td>\n",
       "    </tr>\n",
       "    <tr>\n",
       "      <th>1</th>\n",
       "      <td>5cd06ad38bc1e842b7f3e37210b8e574</td>\n",
       "      <td>0.304097</td>\n",
       "      <td>0.016695</td>\n",
       "      <td>0.008105</td>\n",
       "      <td>0.047117</td>\n",
       "      <td>0.221799</td>\n",
       "      <td>-0.208682</td>\n",
       "      <td>0.006000</td>\n",
       "      <td>0.029713</td>\n",
       "      <td>0.439236</td>\n",
       "      <td>-0.400243</td>\n",
       "    </tr>\n",
       "    <tr>\n",
       "      <th>2</th>\n",
       "      <td>239eff19cbe449331801cd1e89c84d2c</td>\n",
       "      <td>3.326148</td>\n",
       "      <td>-3.941154</td>\n",
       "      <td>0.647150</td>\n",
       "      <td>-1.572782</td>\n",
       "      <td>-0.178286</td>\n",
       "      <td>-1.132487</td>\n",
       "      <td>0.162826</td>\n",
       "      <td>0.513717</td>\n",
       "      <td>0.194991</td>\n",
       "      <td>0.249291</td>\n",
       "    </tr>\n",
       "    <tr>\n",
       "      <th>3</th>\n",
       "      <td>5034105b2e14a5d71522ed8054db89ac</td>\n",
       "      <td>2.196311</td>\n",
       "      <td>0.148855</td>\n",
       "      <td>-1.269554</td>\n",
       "      <td>0.747390</td>\n",
       "      <td>-1.254379</td>\n",
       "      <td>0.265819</td>\n",
       "      <td>-0.108583</td>\n",
       "      <td>3.091442</td>\n",
       "      <td>-1.385208</td>\n",
       "      <td>0.804617</td>\n",
       "    </tr>\n",
       "    <tr>\n",
       "      <th>4</th>\n",
       "      <td>ab4d2c1023ad1b13f937988ea8cae5f4</td>\n",
       "      <td>-0.000000</td>\n",
       "      <td>-0.000000</td>\n",
       "      <td>-0.000000</td>\n",
       "      <td>0.000000</td>\n",
       "      <td>-0.000000</td>\n",
       "      <td>-0.000000</td>\n",
       "      <td>-0.000000</td>\n",
       "      <td>-0.000000</td>\n",
       "      <td>-0.000000</td>\n",
       "      <td>-0.000000</td>\n",
       "    </tr>\n",
       "    <tr>\n",
       "      <th>...</th>\n",
       "      <td>...</td>\n",
       "      <td>...</td>\n",
       "      <td>...</td>\n",
       "      <td>...</td>\n",
       "      <td>...</td>\n",
       "      <td>...</td>\n",
       "      <td>...</td>\n",
       "      <td>...</td>\n",
       "      <td>...</td>\n",
       "      <td>...</td>\n",
       "      <td>...</td>\n",
       "    </tr>\n",
       "    <tr>\n",
       "      <th>6909</th>\n",
       "      <td>b8b18cdc1f066586eb2a3c5326d2bb66</td>\n",
       "      <td>7.841613</td>\n",
       "      <td>1.273063</td>\n",
       "      <td>-1.753467</td>\n",
       "      <td>-0.058949</td>\n",
       "      <td>0.258772</td>\n",
       "      <td>-0.854989</td>\n",
       "      <td>0.709686</td>\n",
       "      <td>1.095832</td>\n",
       "      <td>-0.146980</td>\n",
       "      <td>-0.821673</td>\n",
       "    </tr>\n",
       "    <tr>\n",
       "      <th>6910</th>\n",
       "      <td>d3cc7ebd0a8001ede39dfebcc05cf9be</td>\n",
       "      <td>3.842331</td>\n",
       "      <td>-4.342078</td>\n",
       "      <td>-0.629424</td>\n",
       "      <td>1.323364</td>\n",
       "      <td>0.381623</td>\n",
       "      <td>0.772882</td>\n",
       "      <td>0.480962</td>\n",
       "      <td>-0.569983</td>\n",
       "      <td>-0.397561</td>\n",
       "      <td>-0.135589</td>\n",
       "    </tr>\n",
       "    <tr>\n",
       "      <th>6911</th>\n",
       "      <td>1912ac374a2e56327989f468cc4f09b9</td>\n",
       "      <td>2.987928</td>\n",
       "      <td>0.708736</td>\n",
       "      <td>-1.516271</td>\n",
       "      <td>-3.008431</td>\n",
       "      <td>-5.641490</td>\n",
       "      <td>0.833666</td>\n",
       "      <td>2.083686</td>\n",
       "      <td>-2.151130</td>\n",
       "      <td>-1.267769</td>\n",
       "      <td>-1.864683</td>\n",
       "    </tr>\n",
       "    <tr>\n",
       "      <th>6912</th>\n",
       "      <td>22907775e92c304ccf77744d9c1989be</td>\n",
       "      <td>0.852693</td>\n",
       "      <td>-0.111154</td>\n",
       "      <td>-1.050100</td>\n",
       "      <td>-0.694975</td>\n",
       "      <td>0.374719</td>\n",
       "      <td>0.358613</td>\n",
       "      <td>0.034914</td>\n",
       "      <td>-0.477641</td>\n",
       "      <td>-0.090754</td>\n",
       "      <td>0.120431</td>\n",
       "    </tr>\n",
       "    <tr>\n",
       "      <th>6913</th>\n",
       "      <td>62defe67d57479ab0cd6d1ffb6525cbb</td>\n",
       "      <td>-0.000000</td>\n",
       "      <td>-0.000000</td>\n",
       "      <td>-0.000000</td>\n",
       "      <td>0.000000</td>\n",
       "      <td>-0.000000</td>\n",
       "      <td>-0.000000</td>\n",
       "      <td>-0.000000</td>\n",
       "      <td>-0.000000</td>\n",
       "      <td>-0.000000</td>\n",
       "      <td>-0.000000</td>\n",
       "    </tr>\n",
       "  </tbody>\n",
       "</table>\n",
       "<p>6914 rows × 11 columns</p>\n",
       "</div>"
      ],
      "text/plain": [
       "                                    id    FT0000    FT0001    FT0002  \\\n",
       "0     a44a5f4c5e13910205404271e750e7bc  1.431616  0.246528  0.221773   \n",
       "1     5cd06ad38bc1e842b7f3e37210b8e574  0.304097  0.016695  0.008105   \n",
       "2     239eff19cbe449331801cd1e89c84d2c  3.326148 -3.941154  0.647150   \n",
       "3     5034105b2e14a5d71522ed8054db89ac  2.196311  0.148855 -1.269554   \n",
       "4     ab4d2c1023ad1b13f937988ea8cae5f4 -0.000000 -0.000000 -0.000000   \n",
       "...                                ...       ...       ...       ...   \n",
       "6909  b8b18cdc1f066586eb2a3c5326d2bb66  7.841613  1.273063 -1.753467   \n",
       "6910  d3cc7ebd0a8001ede39dfebcc05cf9be  3.842331 -4.342078 -0.629424   \n",
       "6911  1912ac374a2e56327989f468cc4f09b9  2.987928  0.708736 -1.516271   \n",
       "6912  22907775e92c304ccf77744d9c1989be  0.852693 -0.111154 -1.050100   \n",
       "6913  62defe67d57479ab0cd6d1ffb6525cbb -0.000000 -0.000000 -0.000000   \n",
       "\n",
       "        FT0003    FT0004    FT0005    FT0006    FT0007    FT0008    FT0009  \n",
       "0     0.021017  0.261604 -0.125615 -0.352360 -0.099876  0.615548  0.087185  \n",
       "1     0.047117  0.221799 -0.208682  0.006000  0.029713  0.439236 -0.400243  \n",
       "2    -1.572782 -0.178286 -1.132487  0.162826  0.513717  0.194991  0.249291  \n",
       "3     0.747390 -1.254379  0.265819 -0.108583  3.091442 -1.385208  0.804617  \n",
       "4     0.000000 -0.000000 -0.000000 -0.000000 -0.000000 -0.000000 -0.000000  \n",
       "...        ...       ...       ...       ...       ...       ...       ...  \n",
       "6909 -0.058949  0.258772 -0.854989  0.709686  1.095832 -0.146980 -0.821673  \n",
       "6910  1.323364  0.381623  0.772882  0.480962 -0.569983 -0.397561 -0.135589  \n",
       "6911 -3.008431 -5.641490  0.833666  2.083686 -2.151130 -1.267769 -1.864683  \n",
       "6912 -0.694975  0.374719  0.358613  0.034914 -0.477641 -0.090754  0.120431  \n",
       "6913  0.000000 -0.000000 -0.000000 -0.000000 -0.000000 -0.000000 -0.000000  \n",
       "\n",
       "[6914 rows x 11 columns]"
      ]
     },
     "execution_count": 12,
     "metadata": {},
     "output_type": "execute_result"
    }
   ],
   "source": [
    "tsvd_tr"
   ]
  },
  {
   "cell_type": "code",
   "execution_count": 4,
   "id": "37e19adc-f02d-43d8-b43c-486308ee58ae",
   "metadata": {},
   "outputs": [],
   "source": [
    "lda_tr = pd.read_csv('data/lda-tr.csv')\n",
    "lda_te = pd.read_csv('data/lda-te.csv')"
   ]
  },
  {
   "cell_type": "code",
   "execution_count": 7,
   "id": "a14e5ba7-c38b-4626-8482-8fa52c1d5ca3",
   "metadata": {},
   "outputs": [],
   "source": [
    "Xtr1 = X.drop(['FT0000','FT0001','FT0002','FT0003','FT0004','FT0005','FT0006','FT0007','FT0008','FT0009'],axis = 1)\n",
    "Xte1 = Xte.drop(['FT0000','FT0001','FT0002','FT0003','FT0004','FT0005','FT0006','FT0007','FT0008','FT0009'],axis = 1)"
   ]
  },
  {
   "cell_type": "code",
   "execution_count": 95,
   "id": "28ffdd30-5c46-42df-87e3-e566a01b8244",
   "metadata": {},
   "outputs": [],
   "source": [
    "Xtr2 = pd.concat([Xtr1,lda_tr], axis = 1)\n",
    "Xte2 = pd.concat([Xte1,lda_te], axis = 1)"
   ]
  },
  {
   "cell_type": "code",
   "execution_count": 96,
   "id": "2cc33d8c-c197-4b5d-a720-e1ab4fd7dd30",
   "metadata": {},
   "outputs": [],
   "source": [
    "Xtr2 = Xtr2.drop(['id'], axis = 1)\n",
    "Xte2 = Xte2.drop(['id'], axis = 1)"
   ]
  },
  {
   "cell_type": "code",
   "execution_count": 98,
   "id": "aae4e027-6c32-4e5f-ab2d-a1ff8eaa6b64",
   "metadata": {},
   "outputs": [],
   "source": [
    "Xtr2.to_csv('data/Xtr_lda.csv', index = False)\n",
    "Xtr2.to_csv('data/Xte_lda.csv', index = False)"
   ]
  },
  {
   "cell_type": "code",
   "execution_count": 97,
   "id": "a5b85ac7-75e8-4f72-a279-7c5f6302375f",
   "metadata": {},
   "outputs": [
    {
     "data": {
      "text/html": [
       "<div>\n",
       "<style scoped>\n",
       "    .dataframe tbody tr th:only-of-type {\n",
       "        vertical-align: middle;\n",
       "    }\n",
       "\n",
       "    .dataframe tbody tr th {\n",
       "        vertical-align: top;\n",
       "    }\n",
       "\n",
       "    .dataframe thead th {\n",
       "        text-align: right;\n",
       "    }\n",
       "</style>\n",
       "<table border=\"1\" class=\"dataframe\">\n",
       "  <thead>\n",
       "    <tr style=\"text-align: right;\">\n",
       "      <th></th>\n",
       "      <th>X.sales</th>\n",
       "      <th>cdate</th>\n",
       "      <th>fee1</th>\n",
       "      <th>fee2</th>\n",
       "      <th>fi1</th>\n",
       "      <th>fi2</th>\n",
       "      <th>fi3</th>\n",
       "      <th>fi4</th>\n",
       "      <th>fi5</th>\n",
       "      <th>fi6</th>\n",
       "      <th>...</th>\n",
       "      <th>FT0000</th>\n",
       "      <th>FT0001</th>\n",
       "      <th>FT0002</th>\n",
       "      <th>FT0003</th>\n",
       "      <th>FT0004</th>\n",
       "      <th>FT0005</th>\n",
       "      <th>FT0006</th>\n",
       "      <th>FT0007</th>\n",
       "      <th>FT0008</th>\n",
       "      <th>FT0009</th>\n",
       "    </tr>\n",
       "  </thead>\n",
       "  <tbody>\n",
       "    <tr>\n",
       "      <th>0</th>\n",
       "      <td>1.0</td>\n",
       "      <td>18012.0</td>\n",
       "      <td>250.0</td>\n",
       "      <td>500.0</td>\n",
       "      <td>15.0</td>\n",
       "      <td>15.0</td>\n",
       "      <td>140.476667</td>\n",
       "      <td>1.0</td>\n",
       "      <td>77.377778</td>\n",
       "      <td>118.466667</td>\n",
       "      <td>...</td>\n",
       "      <td>0.257104</td>\n",
       "      <td>0.337259</td>\n",
       "      <td>0.006251</td>\n",
       "      <td>0.006251</td>\n",
       "      <td>0.107293</td>\n",
       "      <td>0.006251</td>\n",
       "      <td>0.006252</td>\n",
       "      <td>0.006251</td>\n",
       "      <td>0.260838</td>\n",
       "      <td>0.006251</td>\n",
       "    </tr>\n",
       "    <tr>\n",
       "      <th>1</th>\n",
       "      <td>42.0</td>\n",
       "      <td>18561.0</td>\n",
       "      <td>250.0</td>\n",
       "      <td>500.0</td>\n",
       "      <td>21.0</td>\n",
       "      <td>15.0</td>\n",
       "      <td>167.661376</td>\n",
       "      <td>3.0</td>\n",
       "      <td>205.847619</td>\n",
       "      <td>156.717460</td>\n",
       "      <td>...</td>\n",
       "      <td>0.033351</td>\n",
       "      <td>0.033351</td>\n",
       "      <td>0.033342</td>\n",
       "      <td>0.033345</td>\n",
       "      <td>0.033342</td>\n",
       "      <td>0.033333</td>\n",
       "      <td>0.699909</td>\n",
       "      <td>0.033347</td>\n",
       "      <td>0.033343</td>\n",
       "      <td>0.033336</td>\n",
       "    </tr>\n",
       "    <tr>\n",
       "      <th>2</th>\n",
       "      <td>3.0</td>\n",
       "      <td>18012.0</td>\n",
       "      <td>750.0</td>\n",
       "      <td>1000.0</td>\n",
       "      <td>0.0</td>\n",
       "      <td>0.0</td>\n",
       "      <td>0.000000</td>\n",
       "      <td>0.0</td>\n",
       "      <td>0.000000</td>\n",
       "      <td>0.000000</td>\n",
       "      <td>...</td>\n",
       "      <td>0.003572</td>\n",
       "      <td>0.003572</td>\n",
       "      <td>0.003572</td>\n",
       "      <td>0.003572</td>\n",
       "      <td>0.003572</td>\n",
       "      <td>0.003572</td>\n",
       "      <td>0.003572</td>\n",
       "      <td>0.967855</td>\n",
       "      <td>0.003572</td>\n",
       "      <td>0.003572</td>\n",
       "    </tr>\n",
       "    <tr>\n",
       "      <th>3</th>\n",
       "      <td>4.0</td>\n",
       "      <td>18012.0</td>\n",
       "      <td>750.0</td>\n",
       "      <td>1000.0</td>\n",
       "      <td>0.0</td>\n",
       "      <td>0.0</td>\n",
       "      <td>0.000000</td>\n",
       "      <td>0.0</td>\n",
       "      <td>0.000000</td>\n",
       "      <td>0.000000</td>\n",
       "      <td>...</td>\n",
       "      <td>0.004000</td>\n",
       "      <td>0.004000</td>\n",
       "      <td>0.004000</td>\n",
       "      <td>0.004000</td>\n",
       "      <td>0.004000</td>\n",
       "      <td>0.004000</td>\n",
       "      <td>0.004000</td>\n",
       "      <td>0.004000</td>\n",
       "      <td>0.004000</td>\n",
       "      <td>0.963997</td>\n",
       "    </tr>\n",
       "    <tr>\n",
       "      <th>4</th>\n",
       "      <td>1.0</td>\n",
       "      <td>18012.0</td>\n",
       "      <td>300.0</td>\n",
       "      <td>550.0</td>\n",
       "      <td>15.0</td>\n",
       "      <td>15.0</td>\n",
       "      <td>174.823704</td>\n",
       "      <td>17.0</td>\n",
       "      <td>127.768889</td>\n",
       "      <td>195.306667</td>\n",
       "      <td>...</td>\n",
       "      <td>0.050000</td>\n",
       "      <td>0.050000</td>\n",
       "      <td>0.050000</td>\n",
       "      <td>0.050000</td>\n",
       "      <td>0.550000</td>\n",
       "      <td>0.050000</td>\n",
       "      <td>0.050000</td>\n",
       "      <td>0.050000</td>\n",
       "      <td>0.050000</td>\n",
       "      <td>0.050000</td>\n",
       "    </tr>\n",
       "    <tr>\n",
       "      <th>...</th>\n",
       "      <td>...</td>\n",
       "      <td>...</td>\n",
       "      <td>...</td>\n",
       "      <td>...</td>\n",
       "      <td>...</td>\n",
       "      <td>...</td>\n",
       "      <td>...</td>\n",
       "      <td>...</td>\n",
       "      <td>...</td>\n",
       "      <td>...</td>\n",
       "      <td>...</td>\n",
       "      <td>...</td>\n",
       "      <td>...</td>\n",
       "      <td>...</td>\n",
       "      <td>...</td>\n",
       "      <td>...</td>\n",
       "      <td>...</td>\n",
       "      <td>...</td>\n",
       "      <td>...</td>\n",
       "      <td>...</td>\n",
       "      <td>...</td>\n",
       "    </tr>\n",
       "    <tr>\n",
       "      <th>6909</th>\n",
       "      <td>3.0</td>\n",
       "      <td>18593.0</td>\n",
       "      <td>750.0</td>\n",
       "      <td>1000.0</td>\n",
       "      <td>0.0</td>\n",
       "      <td>0.0</td>\n",
       "      <td>0.000000</td>\n",
       "      <td>0.0</td>\n",
       "      <td>0.000000</td>\n",
       "      <td>0.000000</td>\n",
       "      <td>...</td>\n",
       "      <td>0.001613</td>\n",
       "      <td>0.985481</td>\n",
       "      <td>0.001613</td>\n",
       "      <td>0.001613</td>\n",
       "      <td>0.001613</td>\n",
       "      <td>0.001613</td>\n",
       "      <td>0.001613</td>\n",
       "      <td>0.001613</td>\n",
       "      <td>0.001613</td>\n",
       "      <td>0.001613</td>\n",
       "    </tr>\n",
       "    <tr>\n",
       "      <th>6910</th>\n",
       "      <td>2.0</td>\n",
       "      <td>18012.0</td>\n",
       "      <td>750.0</td>\n",
       "      <td>1000.0</td>\n",
       "      <td>0.0</td>\n",
       "      <td>0.0</td>\n",
       "      <td>0.000000</td>\n",
       "      <td>0.0</td>\n",
       "      <td>0.000000</td>\n",
       "      <td>0.000000</td>\n",
       "      <td>...</td>\n",
       "      <td>0.003125</td>\n",
       "      <td>0.003125</td>\n",
       "      <td>0.003126</td>\n",
       "      <td>0.003125</td>\n",
       "      <td>0.003125</td>\n",
       "      <td>0.003125</td>\n",
       "      <td>0.003125</td>\n",
       "      <td>0.971873</td>\n",
       "      <td>0.003125</td>\n",
       "      <td>0.003125</td>\n",
       "    </tr>\n",
       "    <tr>\n",
       "      <th>6911</th>\n",
       "      <td>2.0</td>\n",
       "      <td>18024.0</td>\n",
       "      <td>0.0</td>\n",
       "      <td>250.0</td>\n",
       "      <td>14.0</td>\n",
       "      <td>15.0</td>\n",
       "      <td>169.058333</td>\n",
       "      <td>32.0</td>\n",
       "      <td>47.142857</td>\n",
       "      <td>155.347619</td>\n",
       "      <td>...</td>\n",
       "      <td>0.002083</td>\n",
       "      <td>0.002084</td>\n",
       "      <td>0.002083</td>\n",
       "      <td>0.002084</td>\n",
       "      <td>0.002083</td>\n",
       "      <td>0.981248</td>\n",
       "      <td>0.002084</td>\n",
       "      <td>0.002083</td>\n",
       "      <td>0.002084</td>\n",
       "      <td>0.002084</td>\n",
       "    </tr>\n",
       "    <tr>\n",
       "      <th>6912</th>\n",
       "      <td>2.0</td>\n",
       "      <td>18790.0</td>\n",
       "      <td>200.0</td>\n",
       "      <td>450.0</td>\n",
       "      <td>15.0</td>\n",
       "      <td>15.0</td>\n",
       "      <td>139.563333</td>\n",
       "      <td>0.0</td>\n",
       "      <td>188.173333</td>\n",
       "      <td>89.848889</td>\n",
       "      <td>...</td>\n",
       "      <td>0.006667</td>\n",
       "      <td>0.006668</td>\n",
       "      <td>0.006669</td>\n",
       "      <td>0.006669</td>\n",
       "      <td>0.939986</td>\n",
       "      <td>0.006669</td>\n",
       "      <td>0.006668</td>\n",
       "      <td>0.006668</td>\n",
       "      <td>0.006668</td>\n",
       "      <td>0.006667</td>\n",
       "    </tr>\n",
       "    <tr>\n",
       "      <th>6913</th>\n",
       "      <td>4.0</td>\n",
       "      <td>18544.0</td>\n",
       "      <td>1000.0</td>\n",
       "      <td>1250.0</td>\n",
       "      <td>23.0</td>\n",
       "      <td>15.0</td>\n",
       "      <td>93.733333</td>\n",
       "      <td>14.0</td>\n",
       "      <td>39.481159</td>\n",
       "      <td>40.939130</td>\n",
       "      <td>...</td>\n",
       "      <td>0.050000</td>\n",
       "      <td>0.050000</td>\n",
       "      <td>0.050000</td>\n",
       "      <td>0.050000</td>\n",
       "      <td>0.550000</td>\n",
       "      <td>0.050000</td>\n",
       "      <td>0.050000</td>\n",
       "      <td>0.050000</td>\n",
       "      <td>0.050000</td>\n",
       "      <td>0.050000</td>\n",
       "    </tr>\n",
       "  </tbody>\n",
       "</table>\n",
       "<p>6914 rows × 21 columns</p>\n",
       "</div>"
      ],
      "text/plain": [
       "      X.sales    cdate    fee1    fee2   fi1   fi2         fi3   fi4  \\\n",
       "0         1.0  18012.0   250.0   500.0  15.0  15.0  140.476667   1.0   \n",
       "1        42.0  18561.0   250.0   500.0  21.0  15.0  167.661376   3.0   \n",
       "2         3.0  18012.0   750.0  1000.0   0.0   0.0    0.000000   0.0   \n",
       "3         4.0  18012.0   750.0  1000.0   0.0   0.0    0.000000   0.0   \n",
       "4         1.0  18012.0   300.0   550.0  15.0  15.0  174.823704  17.0   \n",
       "...       ...      ...     ...     ...   ...   ...         ...   ...   \n",
       "6909      3.0  18593.0   750.0  1000.0   0.0   0.0    0.000000   0.0   \n",
       "6910      2.0  18012.0   750.0  1000.0   0.0   0.0    0.000000   0.0   \n",
       "6911      2.0  18024.0     0.0   250.0  14.0  15.0  169.058333  32.0   \n",
       "6912      2.0  18790.0   200.0   450.0  15.0  15.0  139.563333   0.0   \n",
       "6913      4.0  18544.0  1000.0  1250.0  23.0  15.0   93.733333  14.0   \n",
       "\n",
       "             fi5         fi6  ...    FT0000    FT0001    FT0002    FT0003  \\\n",
       "0      77.377778  118.466667  ...  0.257104  0.337259  0.006251  0.006251   \n",
       "1     205.847619  156.717460  ...  0.033351  0.033351  0.033342  0.033345   \n",
       "2       0.000000    0.000000  ...  0.003572  0.003572  0.003572  0.003572   \n",
       "3       0.000000    0.000000  ...  0.004000  0.004000  0.004000  0.004000   \n",
       "4     127.768889  195.306667  ...  0.050000  0.050000  0.050000  0.050000   \n",
       "...          ...         ...  ...       ...       ...       ...       ...   \n",
       "6909    0.000000    0.000000  ...  0.001613  0.985481  0.001613  0.001613   \n",
       "6910    0.000000    0.000000  ...  0.003125  0.003125  0.003126  0.003125   \n",
       "6911   47.142857  155.347619  ...  0.002083  0.002084  0.002083  0.002084   \n",
       "6912  188.173333   89.848889  ...  0.006667  0.006668  0.006669  0.006669   \n",
       "6913   39.481159   40.939130  ...  0.050000  0.050000  0.050000  0.050000   \n",
       "\n",
       "        FT0004    FT0005    FT0006    FT0007    FT0008    FT0009  \n",
       "0     0.107293  0.006251  0.006252  0.006251  0.260838  0.006251  \n",
       "1     0.033342  0.033333  0.699909  0.033347  0.033343  0.033336  \n",
       "2     0.003572  0.003572  0.003572  0.967855  0.003572  0.003572  \n",
       "3     0.004000  0.004000  0.004000  0.004000  0.004000  0.963997  \n",
       "4     0.550000  0.050000  0.050000  0.050000  0.050000  0.050000  \n",
       "...        ...       ...       ...       ...       ...       ...  \n",
       "6909  0.001613  0.001613  0.001613  0.001613  0.001613  0.001613  \n",
       "6910  0.003125  0.003125  0.003125  0.971873  0.003125  0.003125  \n",
       "6911  0.002083  0.981248  0.002084  0.002083  0.002084  0.002084  \n",
       "6912  0.939986  0.006669  0.006668  0.006668  0.006668  0.006667  \n",
       "6913  0.550000  0.050000  0.050000  0.050000  0.050000  0.050000  \n",
       "\n",
       "[6914 rows x 21 columns]"
      ]
     },
     "execution_count": 97,
     "metadata": {},
     "output_type": "execute_result"
    }
   ],
   "source": [
    "Xtr2"
   ]
  },
  {
   "cell_type": "code",
   "execution_count": 12,
   "id": "98ed2fbe-d5c9-4d15-9e54-d9415ee3c19e",
   "metadata": {},
   "outputs": [
    {
     "name": "stderr",
     "output_type": "stream",
     "text": [
      "C:\\Users\\Benson\\anaconda3\\envs\\tf\\lib\\site-packages\\sklearn\\utils\\validation.py:985: DataConversionWarning: A column-vector y was passed when a 1d array was expected. Please change the shape of y to (n_samples, ), for example using ravel().\n",
      "  y = column_or_1d(y, warn=True)\n"
     ]
    }
   ],
   "source": [
    "from sklearn.preprocessing import StandardScaler\n",
    "scaler = StandardScaler()\n",
    "\n",
    "Xtr2 = scaler.fit_transform(Xtr2)\n",
    "Xte2 = scaler.transform(Xte2)\n",
    "\n",
    "from sklearn.linear_model import SGDRegressor\n",
    "\n",
    "model5 = SGDRegressor(loss = 'epsilon_insensitive', alpha = 0, epsilon = 0).fit(Xtr2, y)\n",
    "pred5 = pred.copy()\n",
    "pred5['total'] = model5.predict(Xte2)\n",
    "pred5.to_csv('data/pred_lda_sgd.csv', index = False)"
   ]
  },
  {
   "cell_type": "code",
   "execution_count": 13,
   "id": "9c7a7817-d0de-4217-b21c-8427d841dfe6",
   "metadata": {},
   "outputs": [
    {
     "name": "stdout",
     "output_type": "stream",
     "text": [
      "<class 'sklearn.linear_model._stochastic_gradient.SGDRegressor'>, mae = 9.6753, model score = -0.0166\n"
     ]
    }
   ],
   "source": [
    "print('%s, mae = %.4f, model score = %.4f' % (type(model5),mean_absolute_error(y,model5.predict(Xte2)),model5.score(Xte2,y)))"
   ]
  },
  {
   "cell_type": "code",
   "execution_count": 34,
   "id": "bfb8c648-33c7-4daa-82a2-c163ea2a3f30",
   "metadata": {},
   "outputs": [
    {
     "name": "stdout",
     "output_type": "stream",
     "text": [
      "<class 'sklearn.neighbors._regression.KNeighborsRegressor'>, mae = 17.7119, model score = -0.1013\n"
     ]
    }
   ],
   "source": [
    "from sklearn.neighbors import KNeighborsRegressor\n",
    "\n",
    "model=KNeighborsRegressor(49).fit(Xtr2,y)\n",
    "print('%s, mae = %.4f, model score = %.4f' % (type(model),mean_absolute_error(y,model.predict(Xte2)),model.score(Xte2,y)))"
   ]
  },
  {
   "cell_type": "code",
   "execution_count": 35,
   "id": "ed4dde01-5a8a-4d34-89ae-62446499b187",
   "metadata": {},
   "outputs": [],
   "source": [
    "pred5 = pred.copy()\n",
    "pred5['total'] = model.predict(Xte2)\n",
    "pred5.to_csv('data/pred_lda_knr.csv', index = False)"
   ]
  },
  {
   "cell_type": "code",
   "execution_count": 33,
   "id": "b4a9b1b8-2494-4c21-aae9-0b5fe44f1d5a",
   "metadata": {},
   "outputs": [
    {
     "name": "stdout",
     "output_type": "stream",
     "text": [
      "49 -0.1013112344910343\n"
     ]
    }
   ],
   "source": [
    "best = 1\n",
    "score = 0\n",
    "bestmae = 0\n",
    "for k in range(1,50):\n",
    "    model=KNeighborsRegressor(k).fit(Xtr2,y)\n",
    "    mae = mean_absolute_error(y,model.predict(Xte2))\n",
    "    if k==1:\n",
    "        bestmae = mae\n",
    "        score = model.score(Xte2,y)\n",
    "    elif bestmae > mae:\n",
    "        best = k\n",
    "        score = model.score(Xte2,y)\n",
    "    \n",
    "print(best,score)"
   ]
  },
  {
   "cell_type": "code",
   "execution_count": 36,
   "id": "8d6f1c7c-5c88-4492-9454-77b95cbbcd25",
   "metadata": {},
   "outputs": [
    {
     "name": "stderr",
     "output_type": "stream",
     "text": [
      "C:\\Users\\Benson\\anaconda3\\envs\\tf\\lib\\site-packages\\sklearn\\neural_network\\_multilayer_perceptron.py:1599: DataConversionWarning: A column-vector y was passed when a 1d array was expected. Please change the shape of y to (n_samples, ), for example using ravel().\n",
      "  y = column_or_1d(y, warn=True)\n"
     ]
    },
    {
     "name": "stdout",
     "output_type": "stream",
     "text": [
      "<class 'sklearn.neural_network._multilayer_perceptron.MLPRegressor'>, mae = 17.6250, model score = -0.1265\n"
     ]
    },
    {
     "name": "stderr",
     "output_type": "stream",
     "text": [
      "C:\\Users\\Benson\\anaconda3\\envs\\tf\\lib\\site-packages\\sklearn\\neural_network\\_multilayer_perceptron.py:549: ConvergenceWarning: lbfgs failed to converge (status=1):\n",
      "STOP: TOTAL NO. of ITERATIONS REACHED LIMIT.\n",
      "\n",
      "Increase the number of iterations (max_iter) or scale the data as shown in:\n",
      "    https://scikit-learn.org/stable/modules/preprocessing.html\n",
      "  self.n_iter_ = _check_optimize_result(\"lbfgs\", opt_res, self.max_iter)\n"
     ]
    }
   ],
   "source": [
    "from sklearn.neural_network import MLPRegressor\n",
    "model = MLPRegressor(hidden_layer_sizes = (8,6), activation = 'logistic', solver = 'lbfgs').fit(Xtr2,y)\n",
    "print('%s, mae = %.4f, model score = %.4f' % (type(model),mean_absolute_error(y,model.predict(Xte2)),model.score(Xte2,y)))"
   ]
  },
  {
   "cell_type": "code",
   "execution_count": 38,
   "id": "42c4671a-4df2-427c-9c6c-bb08bc9b2d10",
   "metadata": {},
   "outputs": [],
   "source": [
    "import tensorflow as tf\n",
    "\n",
    "def build_and_compile_model(norm):\n",
    "  model = tf.keras.Sequential([\n",
    "      norm,\n",
    "      tf.keras.layers.Dense(64, activation='relu'),\n",
    "      tf.keras.layers.Dense(64, activation='relu'),\n",
    "      tf.keras.layers.Dense(1)\n",
    "  ])\n",
    "\n",
    "  model.compile(loss='mean_absolute_error',\n",
    "                optimizer=tf.keras.optimizers.Adam(0.001))\n",
    "  return model\n",
    "\n"
   ]
  },
  {
   "cell_type": "code",
   "execution_count": 42,
   "id": "f69129b9-a528-4778-bc43-6ff81d5ca54a",
   "metadata": {},
   "outputs": [],
   "source": [
    "normalizer = tf.keras.layers.Normalization(axis=-1)\n",
    "normalizer.adapt(np.array(Xtr2))"
   ]
  },
  {
   "cell_type": "code",
   "execution_count": 65,
   "id": "1e1d3a1f-ecc6-4b61-b4ec-13fe11adbf1c",
   "metadata": {},
   "outputs": [],
   "source": [
    "normte = tf.keras.layers.Normalization(axis=-1)\n",
    "normte.adapt(np.array(Xte2))"
   ]
  },
  {
   "cell_type": "code",
   "execution_count": 49,
   "id": "9c8c6939-d1bc-4b61-9030-97dd0b9085e9",
   "metadata": {},
   "outputs": [
    {
     "name": "stdout",
     "output_type": "stream",
     "text": [
      "Model: \"sequential\"\n",
      "_________________________________________________________________\n",
      "Layer (type)                 Output Shape              Param #   \n",
      "=================================================================\n",
      "normalization (Normalization (None, 21)                43        \n",
      "_________________________________________________________________\n",
      "dense (Dense)                (None, 64)                1408      \n",
      "_________________________________________________________________\n",
      "dense_1 (Dense)              (None, 64)                4160      \n",
      "_________________________________________________________________\n",
      "dense_2 (Dense)              (None, 1)                 65        \n",
      "=================================================================\n",
      "Total params: 5,676\n",
      "Trainable params: 5,633\n",
      "Non-trainable params: 43\n",
      "_________________________________________________________________\n"
     ]
    }
   ],
   "source": [
    "dnn_model = build_and_compile_model(normalizer)\n",
    "dnn_model.summary()"
   ]
  },
  {
   "cell_type": "code",
   "execution_count": 58,
   "id": "6c8aafce-06ba-4a6f-a29b-c292b03a7ae4",
   "metadata": {},
   "outputs": [],
   "source": [
    "train_labels = y.pop('total')"
   ]
  },
  {
   "cell_type": "code",
   "execution_count": 61,
   "id": "6f59e38b-2b08-465f-b759-a3dea169016a",
   "metadata": {},
   "outputs": [
    {
     "name": "stdout",
     "output_type": "stream",
     "text": [
      "Wall time: 13.3 s\n"
     ]
    }
   ],
   "source": [
    "%%time\n",
    "history = dnn_model.fit(\n",
    "    Xtr2,\n",
    "    train_labels,\n",
    "    validation_split=0.2,\n",
    "    verbose=0, epochs=100)"
   ]
  },
  {
   "cell_type": "code",
   "execution_count": 64,
   "id": "ed13aea4-20f2-4cec-aff4-afbf0173e800",
   "metadata": {},
   "outputs": [
    {
     "data": {
      "image/png": "[encoded data removed]",
      "text/plain": [
       "<Figure size 432x288 with 1 Axes>"
      ]
     },
     "metadata": {
      "needs_background": "light"
     },
     "output_type": "display_data"
    }
   ],
   "source": [
    "import matplotlib.pyplot as plt\n",
    "\n",
    "def plot_loss(history):\n",
    "  plt.plot(history.history['loss'], label='loss')\n",
    "  plt.plot(history.history['val_loss'], label='val_loss')\n",
    "  # plt.ylim([0, 10])\n",
    "  plt.xlabel('Epoch')\n",
    "  plt.ylabel('Error [MPG]')\n",
    "  plt.legend()\n",
    "  plt.grid(True)\n",
    "\n",
    "plot_loss(history)"
   ]
  },
  {
   "cell_type": "code",
   "execution_count": 66,
   "id": "33a3bcf1-58fd-470d-8141-2c92a9065b7b",
   "metadata": {},
   "outputs": [],
   "source": [
    "test_predictions = dnn_model.predict(Xte).flatten()"
   ]
  },
  {
   "cell_type": "code",
   "execution_count": 73,
   "id": "0a9ca0d0-d2bb-4484-bfad-1dba1e46e4dc",
   "metadata": {},
   "outputs": [],
   "source": [
    "test_pred = (test_predictions - min(test_predictions))/(max(test_predictions) - min(test_predictions))\n",
    "\n",
    "test_pred\n",
    "\n",
    "pred5 = pred.copy()\n",
    "pred5['total'] = test_pred\n",
    "pred5.to_csv('data/pred_lda_tfreg.csv', index = False)"
   ]
  },
  {
   "cell_type": "code",
   "execution_count": 91,
   "id": "8ba755e2-d3c0-47b3-8118-fc6393b3ed0c",
   "metadata": {},
   "outputs": [
    {
     "data": {
      "text/plain": [
       "array([0.4150952 , 0.40616694, 0.5057432 , ..., 0.35862324, 0.38709095,\n",
       "       0.3172301 ], dtype=float32)"
      ]
     },
     "execution_count": 91,
     "metadata": {},
     "output_type": "execute_result"
    }
   ],
   "source": [
    "test_pred"
   ]
  },
  {
   "cell_type": "code",
   "execution_count": 55,
   "id": "bd0898e6-0d88-454c-a4eb-9aa276713695",
   "metadata": {},
   "outputs": [
    {
     "data": {
      "text/plain": [
       "9.684578769609086"
      ]
     },
     "execution_count": 55,
     "metadata": {},
     "output_type": "execute_result"
    }
   ],
   "source": [
    "mean_absolute_error(y,testnp)"
   ]
  },
  {
   "cell_type": "code",
   "execution_count": 31,
   "id": "38b3709f-9971-46be-92f5-6d69c1f2bdd0",
   "metadata": {},
   "outputs": [
    {
     "data": {
      "text/plain": [
       "array([[-0.07386261, -0.78120744, -0.5305535 , ..., -0.6084826 ,\n",
       "         1.14615454, -0.30094203],\n",
       "       [ 0.27845913,  1.08654395, -0.5305535 , ..., -0.54221346,\n",
       "        -0.18703525, -0.17878649],\n",
       "       [-0.05667618, -0.78120744,  0.9514467 , ...,  1.74332818,\n",
       "        -0.36150235, -0.31302454],\n",
       "       ...,\n",
       "       [-0.06526939, -0.74038228, -1.2715536 , ..., -0.61867634,\n",
       "        -0.37022248, -0.31973554],\n",
       "       [-0.06526939,  1.86562422, -0.67875352, ..., -0.60746273,\n",
       "        -0.34335885, -0.29906584],\n",
       "       [-0.04808297,  1.02870829,  1.6924468 , ..., -0.50148494,\n",
       "        -0.08942017, -0.10363049]])"
      ]
     },
     "execution_count": 31,
     "metadata": {},
     "output_type": "execute_result"
    }
   ],
   "source": [
    "Xtr2"
   ]
  },
  {
   "cell_type": "code",
   "execution_count": 86,
   "id": "d4ed9920-266b-46bf-b5c8-f4b11e160a91",
   "metadata": {},
   "outputs": [
    {
     "name": "stdout",
     "output_type": "stream",
     "text": [
      "Fitting 3 folds for each of 100 candidates, totalling 300 fits\n"
     ]
    },
    {
     "name": "stderr",
     "output_type": "stream",
     "text": [
      "C:\\Users\\Benson\\anaconda3\\envs\\tf\\lib\\site-packages\\sklearn\\model_selection\\_search.py:926: DataConversionWarning: A column-vector y was passed when a 1d array was expected. Please change the shape of y to (n_samples,), for example using ravel().\n",
      "  self.best_estimator_.fit(X, y, **fit_params)\n"
     ]
    },
    {
     "data": {
      "text/plain": [
       "RandomizedSearchCV(cv=3, estimator=RandomForestRegressor(), n_iter=100,\n",
       "                   n_jobs=-1,\n",
       "                   param_distributions={'bootstrap': [True, False],\n",
       "                                        'max_depth': [10, 20, 30, 40, 50, 60,\n",
       "                                                      70, 80, 90, 100, 110,\n",
       "                                                      None],\n",
       "                                        'max_features': ['auto', 'sqrt'],\n",
       "                                        'min_samples_leaf': [1, 2, 4],\n",
       "                                        'min_samples_split': [2, 5, 10],\n",
       "                                        'n_estimators': [200, 400, 600, 800,\n",
       "                                                         1000, 1200, 1400, 1600,\n",
       "                                                         1800, 2000]},\n",
       "                   random_state=42, verbose=2)"
      ]
     },
     "execution_count": 86,
     "metadata": {},
     "output_type": "execute_result"
    }
   ],
   "source": [
    "from sklearn.model_selection import RandomizedSearchCV\n",
    "from sklearn.ensemble import RandomForestRegressor\n",
    "\n",
    "n_estimators = [int(x) for x in np.linspace(start = 200, stop = 2000, num = 10)]\n",
    "# Number of features to consider at every split\n",
    "max_features = ['auto', 'sqrt']\n",
    "# Maximum number of levels in tree\n",
    "max_depth = [int(x) for x in np.linspace(10, 110, num = 11)]\n",
    "max_depth.append(None)\n",
    "# Minimum number of samples required to split a node\n",
    "min_samples_split = [2, 5, 10]\n",
    "# Minimum number of samples required at each leaf node\n",
    "min_samples_leaf = [1, 2, 4]\n",
    "# Method of selecting samples for training each tree\n",
    "bootstrap = [True, False]\n",
    "# Create the random grid\n",
    "random_grid = {'n_estimators': n_estimators,\n",
    "               'max_features': max_features,\n",
    "               'max_depth': max_depth,\n",
    "               'min_samples_split': min_samples_split,\n",
    "               'min_samples_leaf': min_samples_leaf,\n",
    "               'bootstrap': bootstrap}\n",
    "# Use the random grid to search for best hyperparameters\n",
    "# First create the base model to tune\n",
    "rf = RandomForestRegressor()\n",
    "# Random search of parameters, using 3 fold cross validation, \n",
    "# search across 100 different combinations, and use all available cores\n",
    "rf_random = RandomizedSearchCV(estimator = rf, param_distributions = random_grid, n_iter = 100, cv = 3, verbose=2, random_state=42, n_jobs = -1)\n",
    "# Fit the random search model\n",
    "rf_random.fit(Xtr2, y)"
   ]
  },
  {
   "cell_type": "code",
   "execution_count": 88,
   "id": "402dd360-0fdc-4b25-b77c-a6074d0857bf",
   "metadata": {},
   "outputs": [],
   "source": [
    "predrf = pred.copy()\n",
    "predrf['total'] = rf_random.predict(Xte2)\n",
    "predrf.to_csv('data/pred_lda_rfrscv.csv', index = False)"
   ]
  },
  {
   "cell_type": "code",
   "execution_count": 93,
   "id": "fa9912c9-bd2a-40b5-96e8-7ebf5bc5c557",
   "metadata": {},
   "outputs": [],
   "source": [
    "predrf['total'] = (predrf['total'] - min(predrf['total']))/(max(predrf['total']) - min(predrf['total']))\n",
    "predrf.to_csv('data/pred_lda_rfrscv_normalized.csv', index = False)"
   ]
  },
  {
   "cell_type": "code",
   "execution_count": 94,
   "id": "aef009f1-b7e8-48d6-8e1e-b3d1480fbcba",
   "metadata": {},
   "outputs": [
    {
     "data": {
      "text/plain": [
       "array([[-0.06526939, -0.68779798, -0.23415346, ..., -0.60152942,\n",
       "         3.13317255, -0.28812438],\n",
       "       [-0.07386261, -0.77805771, -0.5305535 , ..., -0.50148494,\n",
       "        -0.08942017, -0.10363049],\n",
       "       [ 0.02066274,  0.07121392, -1.2715536 , ..., -0.60153676,\n",
       "        -0.32915347, -0.28812438],\n",
       "       ...,\n",
       "       [-0.07386261, -0.77805773,  0.9514467 , ...,  1.75315507,\n",
       "        -0.3641219 , -0.31504055],\n",
       "       [-0.07386261, -0.77805729, -0.5305535 , ..., -0.61503467,\n",
       "        -0.36150235, -0.31302454],\n",
       "       [-0.06526939, -0.77805773,  0.9514467 , ...,  1.73727992,\n",
       "        -0.35989663, -0.31178878]])"
      ]
     },
     "execution_count": 94,
     "metadata": {},
     "output_type": "execute_result"
    }
   ],
   "source": [
    "Xte2"
   ]
  }
 ],
 "metadata": {
  "kernelspec": {
   "display_name": "Python 3 (ipykernel)",
   "language": "python",
   "name": "python3"
  },
  "language_info": {
   "codemirror_mode": {
    "name": "ipython",
    "version": 3
   },
   "file_extension": ".py",
   "mimetype": "text/x-python",
   "name": "python",
   "nbconvert_exporter": "python",
   "pygments_lexer": "ipython3",
   "version": "3.9.7"
  }
 },
 "nbformat": 4,
 "nbformat_minor": 5
}
